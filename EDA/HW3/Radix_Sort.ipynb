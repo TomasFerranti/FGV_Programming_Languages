{
 "cells": [
  {
   "cell_type": "code",
   "execution_count": 2,
   "metadata": {},
   "outputs": [
    {
     "name": "stdout",
     "output_type": "stream",
     "text": [
      "[68679, 44802, 67285, 40398, 62178]\n",
      "[40398, 44802, 62178, 67285, 68679]\n"
     ]
    }
   ],
   "source": [
    "import numpy\n",
    "\n",
    "def bucket_sort(A,k,num_buckets):\n",
    "    buckets=[[] for i in range(0,num_buckets)]\n",
    "    for key,value in A:\n",
    "        buckets[int(key*num_buckets/k)].append((key,value))\n",
    "    if num_buckets<k:\n",
    "        for bucket in buckets:\n",
    "            bucket.sort()\n",
    "    result=[]\n",
    "    for bucket in buckets:\n",
    "        result.extend(bucket)\n",
    "    return result\n",
    "\n",
    "def radix_sort(A,d,k):\n",
    "    for j in range(0,d):\n",
    "        a_j=[]\n",
    "        for a_i in A:\n",
    "            x=int(((a_i/(10**j))//1)%10)\n",
    "            a_j.append((x,a_i))\n",
    "        result=bucket_sort(a_j,k,k)\n",
    "        A=[]\n",
    "        for i in result:\n",
    "            A.append(i[1])\n",
    "    return A\n",
    "\n",
    "k=5 #amount of digits in decimals\n",
    "n=5 #number of elements in the array\n",
    "A=list(numpy.random.randint(0,10**k-1,n)) \n",
    "print(A)\n",
    "A=radix_sort(A,k,10)\n",
    "print(A)"
   ]
  },
  {
   "cell_type": "code",
   "execution_count": 275,
   "metadata": {},
   "outputs": [],
   "source": [
    "def counting_sort(A,k):\n",
    "    counts=[0]*k\n",
    "    for a in A:\n",
    "        counts[a[0]]+=1\n",
    "    for i in range(1,k):\n",
    "        counts[i]+=counts[i-1]\n",
    "    positions=counts.copy()\n",
    "    i=0\n",
    "    while(i<len(A)):\n",
    "        key=A[i][0]\n",
    "        placed=positions[key-1]<=i and i<positions[key]\n",
    "        if(placed):\n",
    "            i+=1\n",
    "        else:\n",
    "            aux=A[i]\n",
    "            A[i]=A[counts[key]-1]\n",
    "            A[counts[key]-1]=aux\n",
    "            counts[key]-=1\n",
    "    return A"
   ]
  },
  {
   "cell_type": "code",
   "execution_count": null,
   "metadata": {},
   "outputs": [],
   "source": []
  }
 ],
 "metadata": {
  "kernelspec": {
   "display_name": "Python 3",
   "language": "python",
   "name": "python3"
  },
  "language_info": {
   "codemirror_mode": {
    "name": "ipython",
    "version": 3
   },
   "file_extension": ".py",
   "mimetype": "text/x-python",
   "name": "python",
   "nbconvert_exporter": "python",
   "pygments_lexer": "ipython3",
   "version": "3.5.2"
  }
 },
 "nbformat": 4,
 "nbformat_minor": 2
}
