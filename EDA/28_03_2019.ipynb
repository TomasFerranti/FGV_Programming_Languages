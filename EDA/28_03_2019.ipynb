{
 "cells": [
  {
   "cell_type": "code",
   "execution_count": 67,
   "metadata": {},
   "outputs": [],
   "source": [
    "graph={\n",
    "    0:{1,2,3},\n",
    "    1:{},\n",
    "    2:{4,5,6},\n",
    "    3:{6},\n",
    "    4:{7},\n",
    "    5:{7},\n",
    "    6:{7},\n",
    "    7:{},\n",
    "}"
   ]
  },
  {
   "cell_type": "code",
   "execution_count": 80,
   "metadata": {},
   "outputs": [],
   "source": [
    "graph1={\n",
    "    1:{},\n",
    "    2:{1},\n",
    "    3:{2,4},\n",
    "    4:{},\n",
    "    5:{3,6},\n",
    "    6:{7},\n",
    "    7:{}\n",
    "}"
   ]
  },
  {
   "cell_type": "code",
   "execution_count": 64,
   "metadata": {},
   "outputs": [],
   "source": [
    "import time"
   ]
  },
  {
   "cell_type": "code",
   "execution_count": 78,
   "metadata": {},
   "outputs": [],
   "source": [
    "def dfs(graph,u,visited=None):\n",
    "    cur_time=1\n",
    "    if visited==None:\n",
    "        visited=set()\n",
    "    visited.add(u)\n",
    "    status=\"in_progress\"\n",
    "    for v in graph[u]:\n",
    "        if v not in visited:\n",
    "            cur_time+=dfs(graph,v,visited)\n",
    "    status=\"done\"\n",
    "    print(u,\"ficou cinza\")\n",
    "    return cur_time"
   ]
  },
  {
   "cell_type": "code",
   "execution_count": 82,
   "metadata": {},
   "outputs": [
    {
     "name": "stdout",
     "output_type": "stream",
     "text": [
      "1 ficou cinza\n",
      "2 ficou cinza\n",
      "4 ficou cinza\n",
      "3 ficou cinza\n",
      "7 ficou cinza\n",
      "6 ficou cinza\n",
      "5 ficou cinza\n"
     ]
    },
    {
     "data": {
      "text/plain": [
       "7"
      ]
     },
     "execution_count": 82,
     "metadata": {},
     "output_type": "execute_result"
    }
   ],
   "source": [
    "dfs(graph1,5)"
   ]
  },
  {
   "cell_type": "code",
   "execution_count": 105,
   "metadata": {},
   "outputs": [],
   "source": [
    "def bfs(graph,u):\n",
    "    L=[]\n",
    "    n=len(graph)\n",
    "    for i in range(n-1):\n",
    "        L.append(set())\n",
    "    L[0]={u}\n",
    "    visiteds=set()\n",
    "    visiteds.add(u)\n",
    "    for i in range(n-1):\n",
    "        for u in L[i]:\n",
    "            for v in graph[u]:\n",
    "                if v not in visiteds:\n",
    "                    L[i+1].add(v)\n",
    "                    visiteds.add(v)                    \n",
    "    return L"
   ]
  },
  {
   "cell_type": "code",
   "execution_count": 106,
   "metadata": {},
   "outputs": [
    {
     "data": {
      "text/plain": [
       "[{0}, {1, 2, 3}, {4, 5, 6}, {7}, set(), set(), set()]"
      ]
     },
     "execution_count": 106,
     "metadata": {},
     "output_type": "execute_result"
    }
   ],
   "source": [
    "bfs(graph,0)"
   ]
  },
  {
   "cell_type": "code",
   "execution_count": null,
   "metadata": {},
   "outputs": [],
   "source": []
  }
 ],
 "metadata": {
  "kernelspec": {
   "display_name": "Python 3",
   "language": "python",
   "name": "python3"
  },
  "language_info": {
   "codemirror_mode": {
    "name": "ipython",
    "version": 3
   },
   "file_extension": ".py",
   "mimetype": "text/x-python",
   "name": "python",
   "nbconvert_exporter": "python",
   "pygments_lexer": "ipython3",
   "version": "3.5.2"
  }
 },
 "nbformat": 4,
 "nbformat_minor": 2
}
