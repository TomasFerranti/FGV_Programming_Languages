{
 "cells": [
  {
   "cell_type": "code",
   "execution_count": 1,
   "metadata": {},
   "outputs": [
    {
     "name": "stdout",
     "output_type": "stream",
     "text": [
      "[0.02092 0.01977 0.01928 0.02016 0.02046 0.01946 0.01946 0.02053 0.02018\n",
      " 0.01949 0.02006 0.02036 0.02014 0.02042 0.01907 0.02014 0.01903 0.02027\n",
      " 0.02054 0.02029 0.01941 0.02031 0.02017 0.02004 0.01999 0.02067 0.02048\n",
      " 0.02072 0.02014 0.02007 0.01926 0.01928 0.0191  0.01933 0.019   0.0198\n",
      " 0.02051 0.01999 0.01957 0.02029 0.01975 0.0198  0.01994 0.01991 0.02027\n",
      " 0.01968 0.02046 0.02032 0.02101 0.0207 ]\n"
     ]
    }
   ],
   "source": [
    "from sympy import nextprime\n",
    "from random import randint\n",
    "\n",
    "#nextprime(5) -> 7\n",
    "\n",
    "class UniversalHashing():\n",
    "  def __init__(self,n):\n",
    "    self.n = n\n",
    "    self.p = nextprime(1 << 32)\n",
    "  def getHash(self):\n",
    "    a=randint(1,self.p-1)\n",
    "    b=randint(0,self.p-1)\n",
    "    return lambda x: ((a*x+b)%self.p)%self.n\n",
    "  \n",
    "n = 50 #number of buckets\n",
    "\n",
    "H = UniversalHashing(n)\n",
    "\n",
    "h = H.getHash()\n",
    "\n",
    "import numpy as np\n",
    "N = 100000 #number of elements\n",
    "X = np.random.randint(0,N*10,N)\n",
    "buckets = np.zeros(n)\n",
    "for x in X:\n",
    "  buckets[h(x)]+=1\n",
    "\n",
    "print(buckets/N)"
   ]
  },
  {
   "cell_type": "code",
   "execution_count": 6,
   "metadata": {},
   "outputs": [],
   "source": [
    "def fn(n):\n",
    "    if n==1:\n",
    "        return 1\n",
    "    if n==2:\n",
    "        return 2\n",
    "    return fn(n-1)+fn(n-2)"
   ]
  },
  {
   "cell_type": "code",
   "execution_count": 8,
   "metadata": {},
   "outputs": [
    {
     "data": {
      "text/plain": [
       "1346269"
      ]
     },
     "execution_count": 8,
     "metadata": {},
     "output_type": "execute_result"
    }
   ],
   "source": [
    "fn(30)"
   ]
  },
  {
   "cell_type": "code",
   "execution_count": null,
   "metadata": {},
   "outputs": [],
   "source": []
  }
 ],
 "metadata": {
  "kernelspec": {
   "display_name": "Python 3",
   "language": "python",
   "name": "python3"
  },
  "language_info": {
   "codemirror_mode": {
    "name": "ipython",
    "version": 3
   },
   "file_extension": ".py",
   "mimetype": "text/x-python",
   "name": "python",
   "nbconvert_exporter": "python",
   "pygments_lexer": "ipython3",
   "version": "3.5.2"
  }
 },
 "nbformat": 4,
 "nbformat_minor": 2
}
