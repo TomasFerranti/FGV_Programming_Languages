{
 "cells": [
  {
   "cell_type": "code",
   "execution_count": null,
   "metadata": {},
   "outputs": [],
   "source": [
    "pi = 3.1459\n",
    "r = float(input())\n",
    "A = pi*r*r\n",
    "print('A=%0.4f'%A)"
   ]
  },
  {
   "cell_type": "code",
   "execution_count": null,
   "metadata": {},
   "outputs": [],
   "source": [
    "A=int(input())\n",
    "B=int(input())\n",
    "SOMA=A+B\n",
    "print('SOMA =',SOMA)"
   ]
  },
  {
   "cell_type": "code",
   "execution_count": null,
   "metadata": {},
   "outputs": [],
   "source": [
    "A=int(input())\n",
    "B=int(input())\n",
    "PROD=A*B\n",
    "print('PROD =',PROD)"
   ]
  },
  {
   "cell_type": "code",
   "execution_count": null,
   "metadata": {},
   "outputs": [],
   "source": [
    "A=float(input())\n",
    "B=float(input())\n",
    "MEDIA=(3.5*A+7.5*B)/11\n",
    "print('MEDIA = %0.5f'%MEDIA)"
   ]
  },
  {
   "cell_type": "code",
   "execution_count": null,
   "metadata": {},
   "outputs": [],
   "source": [
    "A=float(input())\n",
    "B=float(input())\n",
    "C=float(input())\n",
    "MEDIA=(2*A+3*B+5*C)/10\n",
    "print('MEDIA = %0.1f'%MEDIA)"
   ]
  },
  {
   "cell_type": "code",
   "execution_count": null,
   "metadata": {},
   "outputs": [],
   "source": [
    "A = int(input())\n",
    "B = int(input())\n",
    "C = int(input())\n",
    "D = int(input())\n",
    "DIFERENCA = int(A * B - C * D)\n",
    "print('DIFERENCA = ',DIFERENCA)"
   ]
  },
  {
   "cell_type": "code",
   "execution_count": null,
   "metadata": {},
   "outputs": [],
   "source": [
    "NUMBER=int(input())\n",
    "B=int(input())\n",
    "C=float(input())\n",
    "SALARY=float(B*C)\n",
    "print('NUMBER =',NUMBER)\n",
    "print('SALARY = U$ %0.2f'%SALARY)"
   ]
  },
  {
   "cell_type": "code",
   "execution_count": null,
   "metadata": {},
   "outputs": [],
   "source": [
    "NAME=str(input())\n",
    "SALARY=float(input())\n",
    "SALES=float(input())\n",
    "TOTAL=SALARY+3/20*SALES\n",
    "print('TOTAL = R$ %0.2f'%TOTAL)"
   ]
  },
  {
   "cell_type": "code",
   "execution_count": null,
   "metadata": {},
   "outputs": [],
   "source": [
    "product1 = input()\n",
    "product2 = input()\n",
    "list1 = product1.split()\n",
    "list2 = product2.split()\n",
    "valor = int(int(list1[1])*float(list1[2])+int(list2[1])*float(list2[2]))\n",
    "print('VALOR A PAGAR: R$ %0.2f'%valor)"
   ]
  },
  {
   "cell_type": "code",
   "execution_count": null,
   "metadata": {},
   "outputs": [],
   "source": [
    "pi=3.14159\n",
    "R=float(input())\n",
    "V=(4.0/3) * pi * R * R * R\n",
    "print('VOLUME = %0.3f'%V)"
   ]
  },
  {
   "cell_type": "code",
   "execution_count": null,
   "metadata": {},
   "outputs": [],
   "source": [
    "list1 = input()\n",
    "values = list1.split()\n",
    "A = float(values[0])\n",
    "B = float(values[1])\n",
    "C = float(values[2])\n",
    "pi = 3.14159\n",
    "print('TRIANGULO: %0.3f'%(A*C/2))\n",
    "print('CIRCULO: %0.3f'%(pi*C*C))\n",
    "print('TRAPEZIO: %0.3f'%((A+B)*C/2))\n",
    "print('QUADRADO: %0.3f'%(B*B))\n",
    "print('RETANGULO: %0.3f'%(A*B))"
   ]
  },
  {
   "cell_type": "code",
   "execution_count": null,
   "metadata": {},
   "outputs": [],
   "source": [
    "list1 = input()\n",
    "values = list1.split()\n",
    "a = int(values[0])\n",
    "b = int(values[1])\n",
    "c = int(values[2])\n",
    "maior = int((a+b+abs(a-b))/2)\n",
    "maior = int((maior+c+abs(maior-c))/2)\n",
    "print(maior,'eh o maior')"
   ]
  },
  {
   "cell_type": "code",
   "execution_count": null,
   "metadata": {},
   "outputs": [],
   "source": [
    "X=int(input())\n",
    "Y=float(input())\n",
    "cons=X/Y\n",
    "print('%0.3f'%cons,'km/l')"
   ]
  },
  {
   "cell_type": "code",
   "execution_count": null,
   "metadata": {},
   "outputs": [],
   "source": [
    "4**(1/2)"
   ]
  },
  {
   "cell_type": "code",
   "execution_count": null,
   "metadata": {},
   "outputs": [],
   "source": [
    "list1 = input()\n",
    "list2 = input()\n",
    "values1 = list1.split()\n",
    "values2 = list2.split()\n",
    "x1 = float(values1[0])\n",
    "y1 = float(values1[1])\n",
    "x2 = float(values2[0])\n",
    "y2 = float(values2[1])\n",
    "dist = ((x2-x1)**2+(y2-y1)**2)**(1/2)\n",
    "print('%0.4f'%dist)"
   ]
  },
  {
   "cell_type": "code",
   "execution_count": null,
   "metadata": {},
   "outputs": [],
   "source": [
    "v=0.5\n",
    "d=int(input())\n",
    "t=float(d/0.5)\n",
    "print('%0.0f'%t,'minutos')"
   ]
  },
  {
   "cell_type": "code",
   "execution_count": null,
   "metadata": {},
   "outputs": [],
   "source": [
    "t=int(input())\n",
    "v=int(input())\n",
    "l=(t*v)/12\n",
    "print('%0.3f'%l)"
   ]
  },
  {
   "cell_type": "code",
   "execution_count": null,
   "metadata": {},
   "outputs": [],
   "source": [
    "5%2"
   ]
  },
  {
   "cell_type": "code",
   "execution_count": null,
   "metadata": {},
   "outputs": [],
   "source": [
    "n=int(input())\n",
    "z=n\n",
    "c100=0\n",
    "c50=0\n",
    "c20=0\n",
    "c10=0\n",
    "c5=0\n",
    "c2=0\n",
    "c1=0\n",
    "while n>0:\n",
    "    if (n-100)>=0:\n",
    "        n=n-100\n",
    "        c100=c100+1\n",
    "    elif (n-50)>=0:\n",
    "        n=n-50\n",
    "        c50=c50+1\n",
    "    elif (n-20)>=0:\n",
    "        n=n-20\n",
    "        c20=c20+1\n",
    "    elif (n-10)>=0:\n",
    "        n=n-10\n",
    "        c10=c10+1\n",
    "    elif (n-5)>=0:\n",
    "        n=n-5\n",
    "        c5=c5+1\n",
    "    elif (n-2)>=0:\n",
    "        n=n-2\n",
    "        c2=c2+1\n",
    "    else:\n",
    "        n=n-1\n",
    "        c1=c1+1\n",
    "print(c100,'nota(s) de R$ 100,00')\n",
    "print(c50,'nota(s) de R$ 50,00')\n",
    "print(c20,'nota(s) de R$ 20,00')\n",
    "print(c10,'nota(s) de R$ 10,00')\n",
    "print(c5,'nota(s) de R$ 5,00')\n",
    "print(c2,'nota(s) de R$ 2,00')\n",
    "print(c1,'nota(s) de R$ 1,00')"
   ]
  },
  {
   "cell_type": "code",
   "execution_count": null,
   "metadata": {},
   "outputs": [],
   "source": [
    "t=int(input())\n",
    "h=0\n",
    "m=0\n",
    "while t>59:\n",
    "    if t>=3600:\n",
    "        t=t-3600\n",
    "        h=h+1\n",
    "    else:\n",
    "        t=t-60\n",
    "        m=m+1\n",
    "print(h,':',m,':',t,sep='')"
   ]
  },
  {
   "cell_type": "code",
   "execution_count": null,
   "metadata": {},
   "outputs": [],
   "source": [
    "d=int(input())\n",
    "a=0\n",
    "m=0\n",
    "while d>29:\n",
    "    if d>=365:\n",
    "        d=d-365\n",
    "        a=a+1\n",
    "    else:\n",
    "        d=d-30\n",
    "        m=m+1\n",
    "print(a,'ano(s)')\n",
    "print(m,'mes(es)')\n",
    "print(d,'dia(s)')"
   ]
  },
  {
   "cell_type": "code",
   "execution_count": null,
   "metadata": {},
   "outputs": [],
   "source": [
    "n=float(input())\n",
    "n1,n2,n3,n4,n5,n6=0,0,0,0,0,0\n",
    "m1,m2,m3,m4,m5,m6=0,0,0,0,0,0\n",
    "z=n\n",
    "while n>0:\n",
    "    if n>=100:\n",
    "        n1=n1+1\n",
    "        n=n-100\n",
    "    elif n>=50:\n",
    "        n2=n2+1\n",
    "        n=n-50\n",
    "    elif n>=20:\n",
    "        n3=n3+1\n",
    "        n=n-20\n",
    "    elif n>=10:\n",
    "        n4=n4+1\n",
    "        n=n-10\n",
    "    elif n>=5:\n",
    "        n5=n5+1\n",
    "        n=n-5\n",
    "    elif n>=2:\n",
    "        n6=n6+1\n",
    "        n=n-2\n",
    "    elif n>=1:\n",
    "        m1=m1+1\n",
    "        n=n-1\n",
    "    elif n>=0.5:\n",
    "        m2=m2+1\n",
    "        n=n-0.5\n",
    "    elif n>=0.25:\n",
    "        m3=m3+1\n",
    "        n=n-0.25\n",
    "    elif n>=0.1:\n",
    "        m4=m4+1\n",
    "        n=n-0.1\n",
    "    elif n>=0.05:\n",
    "        m5=m5+1\n",
    "        n=n-0.05\n",
    "    else:\n",
    "        m6=m6+1\n",
    "        n=n-0.01\n",
    "m6=int((z/0.01)%5)\n",
    "print('NOTAS:')\n",
    "print(n1,'nota(s) de R$ 100.00')\n",
    "print(n2,'nota(s) de R$ 50.00')\n",
    "print(n3,'nota(s) de R$ 20.00')\n",
    "print(n4,'nota(s) de R$ 10.00')\n",
    "print(n5,'nota(s) de R$ 5.00')\n",
    "print(n6,'nota(s) de R$ 2.00')\n",
    "print('MOEDAS:')\n",
    "print(m1,'moeda(s) de R$ 1.00')\n",
    "print(m2,'moeda(s) de R$ 0.50')\n",
    "print(m3,'moeda(s) de R$ 0.25')\n",
    "print(m4,'moeda(s) de R$ 0.10')\n",
    "print(m5,'moeda(s) de R$ 0.05')\n",
    "print(m6,'moeda(s) de R$ 0.01')"
   ]
  },
  {
   "cell_type": "code",
   "execution_count": null,
   "metadata": {},
   "outputs": [],
   "source": [
    "list1 = input()\n",
    "values = list1.split()\n",
    "A = int(values[0])\n",
    "B = int(values[1])\n",
    "C = int(values[2])\n",
    "D = int(values[3])\n",
    "if (B>C)and(D>A)and(C+D>A+B)and(C>0)and(D>0)and(A%2==0):\n",
    "    print('Valores aceitos')\n",
    "else:\n",
    "    print('Valores nao aceitos')"
   ]
  },
  {
   "cell_type": "code",
   "execution_count": null,
   "metadata": {},
   "outputs": [],
   "source": [
    "list1 = input()\n",
    "values = list1.split()\n",
    "A = float(values[0])\n",
    "B = float(values[1])\n",
    "C = float(values[2])\n",
    "if (B*B-4*A*C<0)or(2*A==0):\n",
    "    print('Impossivel calcular')\n",
    "else:\n",
    "    R1=(-B+(B*B-4*A*C)**(1/2))/(2*A)\n",
    "    R2=(-B-(B*B-4*A*C)**(1/2))/(2*A)\n",
    "    print('R1 = %0.5f'%R1)\n",
    "    print('R2 = %0.5f'%R2)"
   ]
  },
  {
   "cell_type": "code",
   "execution_count": null,
   "metadata": {},
   "outputs": [],
   "source": [
    "n=float(input())\n",
    "if n<0:\n",
    "    print('Fora de intervalo')\n",
    "elif n<=25:\n",
    "    print('Intervalo [0,25]')\n",
    "elif n<=50:\n",
    "    print('Intervalo (25,50]')\n",
    "elif n<=75:\n",
    "    print('Intervalo (50,75]')\n",
    "elif n<=100:\n",
    "    print('Intervalo (75,100]')\n",
    "else:\n",
    "    print('Fora de intervalo')"
   ]
  },
  {
   "cell_type": "code",
   "execution_count": null,
   "metadata": {},
   "outputs": [],
   "source": [
    "list1 = input()\n",
    "values = list1.split()\n",
    "X = int(values[0])\n",
    "Y = int(values[1])\n",
    "preços = [4.00 ,4.50,5.00,2.00,1.50]\n",
    "total = preços[X-1]*Y\n",
    "print('Total: R$ %0.2f'%total)"
   ]
  },
  {
   "cell_type": "code",
   "execution_count": null,
   "metadata": {},
   "outputs": [],
   "source": [
    "list1=input()\n",
    "values=list1.split()\n",
    "n1=float(values[0])\n",
    "n2=float(values[1])\n",
    "n3=float(values[2])\n",
    "n4=float(values[3])\n",
    "media=(2*n1+3*n2+4*n3+n4)/10\n",
    "print('Media: %0.1f'%media)\n",
    "if media>=7.0:\n",
    "    print('Aluno aprovado.')\n",
    "elif media>=5.0:\n",
    "    print('Aluno em exame.')\n",
    "    n5=float(input())\n",
    "    print('Nota do exame: %0.1f'%n5)\n",
    "    media=(media+n5)/2\n",
    "    if media>=5.0:\n",
    "        print('Aluno aprovado.')\n",
    "    else:\n",
    "        print('Aluno reprovado.')\n",
    "    print('Média final: %0.1f'%media)\n",
    "else:\n",
    "    print('Aluno reprovado.')"
   ]
  },
  {
   "cell_type": "code",
   "execution_count": null,
   "metadata": {},
   "outputs": [],
   "source": [
    "list1=input()\n",
    "values=list1.split()\n",
    "x=float(values[0])\n",
    "y=float(values[1])\n",
    "if x==0 and y==0:\n",
    "    print('Origem')\n",
    "elif x==0 or y==0:\n",
    "    if x==0:\n",
    "        print('Eixo Y')\n",
    "    else:\n",
    "        print('Eixo X')\n",
    "else:\n",
    "    if x>0:\n",
    "        if y>0:\n",
    "            print('Q1')\n",
    "        else:\n",
    "            print('Q4')\n",
    "    else:\n",
    "        if y>0:\n",
    "            print('Q2')\n",
    "        else:\n",
    "            print('Q3')"
   ]
  },
  {
   "cell_type": "code",
   "execution_count": null,
   "metadata": {},
   "outputs": [],
   "source": [
    "A=[7 ,21, -14]\n",
    "A.sort()\n",
    "A"
   ]
  },
  {
   "cell_type": "code",
   "execution_count": null,
   "metadata": {},
   "outputs": [],
   "source": [
    "list1=input()\n",
    "values=list1.split()\n",
    "listacrescente=[int(values[0]),int(values[1]),int(values[2])]\n",
    "listainicial=[int(values[0]),int(values[1]),int(values[2])]\n",
    "listacrescente.sort()\n",
    "for x in listacrescente:\n",
    "    print(x)\n",
    "print('')\n",
    "for x in listainicial:\n",
    "    print(x)"
   ]
  },
  {
   "cell_type": "code",
   "execution_count": null,
   "metadata": {},
   "outputs": [],
   "source": [
    "list1=input()\n",
    "values=list1.split()\n",
    "a=float(values[0])\n",
    "b=float(values[1])\n",
    "c=float(values[2])\n",
    "if (a<b+c) and (b<a+c) and (c<a+b):\n",
    "        peri=a+b+c\n",
    "        print('Perimetro = %0.1f'%peri)\n",
    "else:\n",
    "        area=((a+b)*c)/2\n",
    "        print('Area = %0.1f'%area)"
   ]
  },
  {
   "cell_type": "code",
   "execution_count": null,
   "metadata": {},
   "outputs": [],
   "source": [
    "list1=input()\n",
    "values=list1.split()\n",
    "a=int(values[0])\n",
    "b=int(values[1])\n",
    "if b%a==0:\n",
    "    print('Sao multiplos')\n",
    "else:\n",
    "    print('Nao sao multiplos')"
   ]
  },
  {
   "cell_type": "code",
   "execution_count": null,
   "metadata": {},
   "outputs": [],
   "source": [
    "list1=input().split()\n",
    "values=[float(list1[0]),float(list1[1]),float(list1[2])]\n",
    "values.sort()\n",
    "a,b,c=float(values[2]),float(values[1]),float(values[0])\n",
    "if (a<b+c)and(b<a+c)and(c<a+b):\n",
    "    if a**2==b**2+c**2:\n",
    "        print('TRIANGULO RETANGULO')\n",
    "    elif a**2>b**2+c**2:\n",
    "        print('TRIANGULO OBTUSANGULO')\n",
    "    else:\n",
    "        print('TRIANGULO ACUTANGULO')\n",
    "    if (a==b) and (b==c):\n",
    "        print('TRIANGULO EQUILATERO')\n",
    "    elif(a==b)or(b==c)or(a==c):\n",
    "        print('TRIANGULO ISOSCELES')\n",
    "else:\n",
    "    print('NAO FORMA TRIANGULO')"
   ]
  },
  {
   "cell_type": "code",
   "execution_count": null,
   "metadata": {},
   "outputs": [],
   "source": [
    "list1=input().split()\n",
    "begin=int(list1[0])\n",
    "end=int(list1[1])\n",
    "if end>begin:\n",
    "    duracao=end-begin    \n",
    "else:\n",
    "    duracao=end+24-begin\n",
    "print('O JOGO DUROU {} HORA(S)'.format(duracao))"
   ]
  },
  {
   "cell_type": "code",
   "execution_count": null,
   "metadata": {},
   "outputs": [],
   "source": [
    "list1=input().split()\n",
    "beginh=int(list1[0])\n",
    "beginm=int(list1[1])\n",
    "endh=int(list1[2])\n",
    "endm=int(list1[3])\n",
    "if endh>=beginh:\n",
    "    horas=endh-beginh    \n",
    "else:\n",
    "    horas=endh+24-beginh\n",
    "if endm>=beginm:\n",
    "    minutos=endm-beginm\n",
    "else:\n",
    "    minutos=endm+60-beginm\n",
    "    horas=horas-1\n",
    "if beginh==endh and beginm==endm:\n",
    "    horas=24\n",
    "    minutos=0\n",
    "print('O JOGO DUROU {} HORA(S) E {} MINUTO(S)'.format(horas,minutos))"
   ]
  },
  {
   "cell_type": "code",
   "execution_count": null,
   "metadata": {},
   "outputs": [],
   "source": [
    "salario=float(input())\n",
    "mat1=[2000.01,1200.01,800.01,400.01,0]\n",
    "mat2=[0.04,0.07,0.10,0.12,0.15]\n",
    "for x in range(0,6):\n",
    "    if salario>=mat1[x]:\n",
    "        perc=mat2[x]\n",
    "        break\n",
    "re=round(salario*perc,2)\n",
    "novos=round(salario+re,2)\n",
    "perc=perc*100\n",
    "print('Novo salario: %0.2f'%novos +'\\n'\n",
    "'Reajuste ganho: %0.2f'%re +'\\n'\n",
    "'Em percentual: %0.0f'%perc+' %')"
   ]
  },
  {
   "cell_type": "code",
   "execution_count": null,
   "metadata": {},
   "outputs": [],
   "source": [
    "sel1=str(input())\n",
    "sel2=str(input())\n",
    "sel3=str(input())\n",
    "group1=['vertebrado','invertebrado']\n",
    "group2=['ave','mamifero','inseto','anelideo']\n",
    "group3=['carnivoro','onivoro','onivoro','herbivoro','hematofago','herbivoro','hematofago','onivoro']\n",
    "resp=['aguia','pomba','homem','vaca','pulga','lagarta','sanguessuga','minhoca']\n",
    "for x in range(0,2):\n",
    "    if sel1 == group1[x]:\n",
    "        a=x+1\n",
    "        break\n",
    "for x in range(0,5):\n",
    "    if sel2 == group2[x] and x in range((a-1)*2,a*2):\n",
    "        a=x+1\n",
    "        break\n",
    "for x in range(0,9):\n",
    "    if sel3 == group3[x] and x in range((a-1)*2,a*2):\n",
    "        a=x+1\n",
    "        break\n",
    "for y in range(0,9):\n",
    "    if x==y:\n",
    "        print(resp[y])"
   ]
  },
  {
   "cell_type": "code",
   "execution_count": null,
   "metadata": {},
   "outputs": [],
   "source": [
    "num=int(input())\n",
    "ddd=[61,71,11,21,32,19,27,31]\n",
    "dest=['Brasilia','Salvador','Sao Paulo','Rio de Janeiro','Juiz de Fora','Campinas','Vitoria','Belo Horizonte']\n",
    "for x in range(0,8):\n",
    "    if num in ddd:\n",
    "        if num == ddd[x]:\n",
    "            print(dest[x])\n",
    "            break\n",
    "    else:\n",
    "        print('DDD nao cadastrado')\n",
    "        break"
   ]
  },
  {
   "cell_type": "code",
   "execution_count": null,
   "metadata": {},
   "outputs": [],
   "source": [
    "s=float(input())\n",
    "if s>4500:\n",
    "    imposto=round(999.99*0.08+1499.99*0.18+(s-4500)*0.28,2)\n",
    "elif s>=3000.01:\n",
    "    imposto=round(999.99*0.08+(s-3000.01)*0.18,2)\n",
    "elif s>=2000.01:\n",
    "    imposto=round((s-2000.01)*0.08,2)\n",
    "else:\n",
    "    imposto==0\n",
    "    print('Isento')\n",
    "if imposto != 0:\n",
    "    print ('R$ %0.2f'%imposto)"
   ]
  },
  {
   "cell_type": "code",
   "execution_count": null,
   "metadata": {},
   "outputs": [],
   "source": [
    "import string\n",
    "c=0\n",
    "texto = 'Seu protagonista é Bento Santiago, o narrador da história que, contada em primeira pessoa, pretende \"atar as duas pontas da vida\", ou seja, unir relatos desde sua mocidade até os dias em que está escrevendo o livro. Entre esses dois momentos, Bento escreve sobre suas reminiscências da juventude, sua vida no seminário, seu caso com Capitu e o ciúme que advém desse relacionamento, que se torna o enredo central da trama. Ambientado no Rio de Janeiro do Segundo Império, se inicia com um episódio que seria recente, no qual o narrador recebe a alcunha de \"Dom Casmurro\", daí o título do romance. Machado de Assis o escreveu utilizando ferramentas literárias como a ironia e a intertextualidade, fazendo referências a Schopenhauer e, sobretudo, à peça Otelo, o Mouro de Veneza de Shakespeare.'\n",
    "textodiv=texto.split()\n",
    "maior=textodiv.index(textodiv[-1])\n",
    "listapalavras={}\n",
    "quantidadepalavraspropriasunicas=0\n",
    "palavraspropriasunicas=[]\n",
    "for y in range(0,(maior+1)):\n",
    "    x=textodiv[y]\n",
    "    x=x.strip(string.punctuation)\n",
    "    if (x.lower()) in listapalavras:\n",
    "        x=x.lower()\n",
    "        for key in listapalavras.keys():\n",
    "            if x == key:\n",
    "                listapalavras[key]=listapalavras[key]+1\n",
    "    else:\n",
    "        if c==1:\n",
    "            if x.istitle() and not(textodiv[y-1].endswith('.')):\n",
    "                palavraspropriasunicas.append(x)\n",
    "                quantidadepalavraspropriasunicas=quantidadepalavraspropriasunicas+1\n",
    "        x=x.lower()\n",
    "        listapalavras[x]=1\n",
    "    c=1"
   ]
  },
  {
   "cell_type": "code",
   "execution_count": null,
   "metadata": {},
   "outputs": [],
   "source": [
    "print(quantidadepalavraspropriasunicas)\n",
    "print(palavraspropriasunicas)\n",
    "listapalavras"
   ]
  },
  {
   "cell_type": "code",
   "execution_count": null,
   "metadata": {},
   "outputs": [],
   "source": [
    "m=int(input())\n",
    "months=['January','February','March','April','May','June','July','August','September','October','November','December']\n",
    "for x in range(0,12):\n",
    "    if x==(m-1):\n",
    "        print(months[x])"
   ]
  },
  {
   "cell_type": "code",
   "execution_count": null,
   "metadata": {},
   "outputs": [],
   "source": [
    "m=[]\n",
    "for y in range(0):\n",
    "    m.append(float(input()))\n",
    "n=0\n",
    "for x in m:\n",
    "    if x>0:\n",
    "        n=n+1\n",
    "print(n,'valores positivos')"
   ]
  },
  {
   "cell_type": "code",
   "execution_count": null,
   "metadata": {},
   "outputs": [],
   "source": [
    "d=0\n",
    "h=0\n",
    "m=0\n",
    "s=0 \n",
    "di=int(input().split()[1])\n",
    "lista1=input().split()\n",
    "lista1.pop(1)\n",
    "lista1.pop(2)\n",
    "lista1=[int(lista1[0]),int(lista1[1]),int(lista1[2])]\n",
    "hi,mi,si=lista1\n",
    "df=int(input().split()[1]) \n",
    "lista2=input().split()\n",
    "lista2.pop(1)\n",
    "lista2.pop(2)\n",
    "lista2=[int(lista2[0]),int(lista2[1]),int(lista2[2])]\n",
    "hf,mf,sf=lista2\n",
    "d=df-di\n",
    "if hf>=hi:\n",
    "    h=hf-hi\n",
    "else:\n",
    "    h=hf+24-hi\n",
    "    d=d-1\n",
    "if mf>=mi:\n",
    "    m=mf-mi\n",
    "else:\n",
    "    m=mf+60-mi\n",
    "    h=h-1\n",
    "if sf>=si:\n",
    "    s=sf-si\n",
    "else:\n",
    "    s=sf+60-si\n",
    "    m=m-1\n",
    "print('{} dia(s)\\n{} hora(s)\\n{} minuto(s)\\n{} segundo(s)'.format(d,h,m,s))"
   ]
  },
  {
   "cell_type": "code",
   "execution_count": null,
   "metadata": {},
   "outputs": [],
   "source": [
    "values=[float(input()),float(input()),float(input()),float(input()),float(input()),float(input())]\n",
    "n=0\n",
    "pos=[]\n",
    "for x in values:\n",
    "    if x==abs(x):\n",
    "        n=int(n+1)\n",
    "        pos.append(x)\n",
    "avrg=sum(pos)/n\n",
    "print(n,'valores positivos')\n",
    "print('%0.1f'%avrg)"
   ]
  },
  {
   "cell_type": "code",
   "execution_count": null,
   "metadata": {},
   "outputs": [],
   "source": [
    "values=[int(input()),int(input()),int(input()),int(input()),int(input())]\n",
    "n=0\n",
    "for x in values:\n",
    "    if x%2==0:\n",
    "        n=n+1\n",
    "print(n,'valores pares')"
   ]
  },
  {
   "cell_type": "code",
   "execution_count": null,
   "metadata": {},
   "outputs": [],
   "source": [
    "v=[int(input()),int(input()),int(input()),int(input()),int(input())]\n",
    "pos=0\n",
    "p=0\n",
    "neg=0\n",
    "i=0\n",
    "for x in v:\n",
    "    if x>0:\n",
    "        pos+=1\n",
    "    if x<0:\n",
    "        neg+=1\n",
    "    if x%2==0:\n",
    "        p+=1\n",
    "    else:\n",
    "        i+=1\n",
    "print('{} valor(es) par(es)\\n{} valor(es) impar(es)\\n{} valor(es) positivo(s)\\n{} valor(es) negativo(s)'.format(p,i,pos,neg))"
   ]
  },
  {
   "cell_type": "code",
   "execution_count": null,
   "metadata": {},
   "outputs": [],
   "source": [
    "x=int(input())\n",
    "for i in range(1,x+1):\n",
    "    if i%2==1:\n",
    "        print(i)"
   ]
  },
  {
   "cell_type": "code",
   "execution_count": null,
   "metadata": {},
   "outputs": [],
   "source": [
    "x=int(input())\n",
    "for i in range(x,x+12):\n",
    "    if i%2==1:\n",
    "        print(i)"
   ]
  },
  {
   "cell_type": "code",
   "execution_count": null,
   "metadata": {},
   "outputs": [],
   "source": [
    "x=int(input())\n",
    "y=int(input())\n",
    "s=0\n",
    "if x>y:\n",
    "    x,y=y,x\n",
    "for i in range(x+1,y):\n",
    "    if i%2==1:\n",
    "        s=s+i\n",
    "print(s)"
   ]
  },
  {
   "cell_type": "code",
   "execution_count": null,
   "metadata": {},
   "outputs": [],
   "source": [
    "n=int(input())\n",
    "k=0\n",
    "for i in range(1,n+1):\n",
    "    x=int(input())\n",
    "    if x<=20 and x>=10:\n",
    "        k+=1\n",
    "o=n-k\n",
    "print(k,'in')\n",
    "print(o,'out')"
   ]
  },
  {
   "cell_type": "code",
   "execution_count": null,
   "metadata": {},
   "outputs": [],
   "source": [
    "n=int(input())\n",
    "for i in range(2,n+1,2):\n",
    "    x=i**2\n",
    "    print('{}^2 = {}'.format(i,x))"
   ]
  },
  {
   "cell_type": "code",
   "execution_count": null,
   "metadata": {},
   "outputs": [],
   "source": [
    "n=int(input())\n",
    "num=[]\n",
    "for i in range(1,n+1):\n",
    "    x=int(input())\n",
    "    if x==0:\n",
    "        print('NULL')\n",
    "    elif x%2==0:\n",
    "        if x>0:\n",
    "            print('EVEN POSITIVE')\n",
    "        else:\n",
    "            print('EVEN NEGATIVE')\n",
    "    else:\n",
    "        if x>0:\n",
    "            print('ODD POSITIVE')        \n",
    "        else:\n",
    "            print('ODD NEGATIVE')            "
   ]
  },
  {
   "cell_type": "code",
   "execution_count": null,
   "metadata": {},
   "outputs": [],
   "source": [
    "n=int(input())\n",
    "for i in range(2,10000):\n",
    "    if i%n==2:\n",
    "        print(i)"
   ]
  },
  {
   "cell_type": "code",
   "execution_count": null,
   "metadata": {},
   "outputs": [],
   "source": [
    "n=int(input())\n",
    "for i in range(1,11):\n",
    "    m=i*n\n",
    "    print('{} x {} = {}'.format(i,n,m))"
   ]
  },
  {
   "cell_type": "code",
   "execution_count": null,
   "metadata": {},
   "outputs": [],
   "source": [
    "n=int(input())\n",
    "for i in range(1,n+1):\n",
    "    z=input().split()\n",
    "    avr=(float(z[0])*2+float(z[1])*3+float(z[2])*5)/10\n",
    "    print('%0.1f'%avr)"
   ]
  },
  {
   "cell_type": "code",
   "execution_count": null,
   "metadata": {},
   "outputs": [],
   "source": [
    "maior=0\n",
    "ind=0\n",
    "for i in range(1,101):\n",
    "    x=int(input())\n",
    "    if x>maior:\n",
    "        maior=x\n",
    "        ind=i\n",
    "print(maior)\n",
    "print(ind)"
   ]
  },
  {
   "cell_type": "code",
   "execution_count": null,
   "metadata": {},
   "outputs": [],
   "source": [
    "n=int(input())\n",
    "c=0\n",
    "r=0\n",
    "s=0\n",
    "for i in range(1,n+1):\n",
    "    l=input().split()\n",
    "    n=int(l[0])\n",
    "    if l[1]=='C':\n",
    "        c=c+n\n",
    "    elif l[1]=='R':\n",
    "        r=r+n\n",
    "    else:\n",
    "        s=s+n\n",
    "t=c+r+s\n",
    "pc=float((c/t)*100)\n",
    "pr=float((r/t)*100)\n",
    "ps=float((s/t)*100)\n",
    "print('Total: %0.0f'%t+' cobaias')\n",
    "print('Total de coelhos: %0.0f'%c)\n",
    "print('Total de ratos: %0.0f'%r)\n",
    "print('Total de sapos: %0.0f'%s)\n",
    "print('Percentual de coelhos: %0.2f'%pc+' %')\n",
    "print('Percentual de ratos: %0.2f'%pr+' %')\n",
    "print('Percentual de sapos: %0.2f'%ps+' %')"
   ]
  },
  {
   "cell_type": "code",
   "execution_count": null,
   "metadata": {},
   "outputs": [],
   "source": [
    "i=1\n",
    "j=60\n",
    "while j>=0:\n",
    "    print('I={} J={}'.format(i,j))\n",
    "    i=i+3\n",
    "    j=j-5"
   ]
  },
  {
   "cell_type": "code",
   "execution_count": null,
   "metadata": {},
   "outputs": [],
   "source": [
    "i=1\n",
    "j=7\n",
    "while i<10:\n",
    "    j=7\n",
    "    for k in range(1,4):        \n",
    "        print('I={} J={}'.format(i,j))\n",
    "        j=j-1\n",
    "    i=i+2"
   ]
  },
  {
   "cell_type": "code",
   "execution_count": null,
   "metadata": {},
   "outputs": [],
   "source": [
    "i=1\n",
    "j=7\n",
    "while i<10:\n",
    "    for k in range(1,4):        \n",
    "        print('I={} J={}'.format(i,j))\n",
    "        j=j-1\n",
    "    i=i+2\n",
    "    j=j+5"
   ]
  },
  {
   "cell_type": "code",
   "execution_count": null,
   "metadata": {},
   "outputs": [],
   "source": [
    "i=0\n",
    "j=1\n",
    "while i<2.1:\n",
    "    j=1+i\n",
    "    for k in range(1,4):        \n",
    "        print('I={} J={}'.format(i,j))\n",
    "        j=round(j+1,1)\n",
    "    i=round(i+0.2,1)\n",
    "    if i==int(i):\n",
    "        i=int(i)"
   ]
  },
  {
   "cell_type": "code",
   "execution_count": null,
   "metadata": {},
   "outputs": [],
   "source": [
    "n=int(input())\n",
    "for i in range(1,n+1):\n",
    "    l=input().split()\n",
    "    x=int(l[0])\n",
    "    y=int(l[1])\n",
    "    s=0\n",
    "    if x>y:\n",
    "        x,y=y,x\n",
    "    for i in range(x+1,y):\n",
    "        if i%2==1:\n",
    "            s=s+i\n",
    "    print(s)"
   ]
  },
  {
   "cell_type": "code",
   "execution_count": null,
   "metadata": {},
   "outputs": [],
   "source": [
    "x=0\n",
    "while x==0:\n",
    "    z=input().split()\n",
    "    a,b=int(z[0]),int(z[1])\n",
    "    if a<=0 or b<=0:\n",
    "        x=1\n",
    "    else:\n",
    "        if a>b:\n",
    "            a,b=b,a\n",
    "        s=0\n",
    "        c=0\n",
    "        for i in range(a,b+1):\n",
    "            if c==0:\n",
    "                l=str(i)\n",
    "            else:\n",
    "                l=l+' '+str(i)\n",
    "            s=s+i\n",
    "            c=1\n",
    "        print(l,'Sum={}'.format(s))"
   ]
  },
  {
   "cell_type": "code",
   "execution_count": null,
   "metadata": {},
   "outputs": [],
   "source": [
    "x=0\n",
    "while x==0:\n",
    "    z=input().split()\n",
    "    a,b=int(z[0]),int(z[1])\n",
    "    if a==b:\n",
    "        x=1\n",
    "    else:\n",
    "        if a>b:\n",
    "            print('Decrescente')\n",
    "        else:\n",
    "            print('Crescente')"
   ]
  },
  {
   "cell_type": "code",
   "execution_count": null,
   "metadata": {},
   "outputs": [],
   "source": [
    "x=0\n",
    "while x==0:\n",
    "    z=int(input())\n",
    "    if z==2002:\n",
    "        print('Acesso Permitido')\n",
    "        x=1\n",
    "    else:\n",
    "        print('Senha Invalida')"
   ]
  },
  {
   "cell_type": "code",
   "execution_count": null,
   "metadata": {},
   "outputs": [],
   "source": [
    "x=0\n",
    "while x==0:\n",
    "    z=input().split()\n",
    "    a,b=int(z[0]),int(z[1])\n",
    "    if a==0 or b==0:\n",
    "        x=1\n",
    "    else:\n",
    "        if a>0:\n",
    "            if b>0:\n",
    "                print('primeiro')\n",
    "            else:\n",
    "                print('quarto')\n",
    "        else:\n",
    "            if b>0:\n",
    "                print('segundo')\n",
    "            else:\n",
    "                print('terceiro')"
   ]
  },
  {
   "cell_type": "code",
   "execution_count": null,
   "metadata": {},
   "outputs": [],
   "source": [
    "n=int(input())\n",
    "for i in range(1,n+1):\n",
    "    l=input().split()\n",
    "    x=int(l[0])\n",
    "    y=int(l[1])\n",
    "    if y==0:\n",
    "        print('divisao impossivel')\n",
    "    else:\n",
    "        d=float(x/y)\n",
    "        print('%0.1f'%d)"
   ]
  },
  {
   "cell_type": "code",
   "execution_count": null,
   "metadata": {},
   "outputs": [],
   "source": [
    "c=0\n",
    "n=[]\n",
    "while c<2:\n",
    "    x=float(input())\n",
    "    if x<0 or x>10:\n",
    "        print('nota invalida')\n",
    "    else:\n",
    "        n.append(x)\n",
    "        c=c+1\n",
    "z=sum(n)/2\n",
    "print('media = %0.2f'%z)"
   ]
  },
  {
   "cell_type": "code",
   "execution_count": null,
   "metadata": {},
   "outputs": [],
   "source": [
    "c=0\n",
    "n=[]\n",
    "a=0\n",
    "while a==0:\n",
    "    c=0\n",
    "    n=[]\n",
    "    while c<2:\n",
    "        x=float(input())\n",
    "        if x<0 or x>10:\n",
    "            print('nota invalida')\n",
    "        else:\n",
    "            n.append(x)\n",
    "            c=c+1\n",
    "    z=sum(n)/2\n",
    "    print('media = %0.2f'%z)    \n",
    "    r=0\n",
    "    while r!=1 and r!=2:\n",
    "        print('novo calculo (1-sim 2-nao)')\n",
    "        r=int(input())\n",
    "    if r==2:\n",
    "        a=1"
   ]
  },
  {
   "cell_type": "code",
   "execution_count": null,
   "metadata": {},
   "outputs": [],
   "source": [
    "a=0\n",
    "v=0\n",
    "d=0\n",
    "e=0\n",
    "while a==0:\n",
    "    c=0\n",
    "    n=[]   \n",
    "    l=input().split()\n",
    "    g1=int(l[0])\n",
    "    g2=int(l[1])\n",
    "    if g1>g2:\n",
    "        v+=1            \n",
    "    elif g1==g2:\n",
    "        e+=1    \n",
    "    else:\n",
    "        d+=1\n",
    "    print('Novo grenal (1-sim 2-nao)')\n",
    "    r=int(input())\n",
    "    if r==2:\n",
    "        a=1\n",
    "print(v+e+d,'grenais')\n",
    "print('Inter:{}'.format(v))\n",
    "print('Gremio:{}'.format(d))\n",
    "print('Empates:{}'.format(e))\n",
    "if v>d:\n",
    "    print('Inter venceu mais')\n",
    "elif v==d:\n",
    "    print('Gremio venceu mais')\n",
    "else:\n",
    "    print('Não houve vencedor')"
   ]
  },
  {
   "cell_type": "code",
   "execution_count": null,
   "metadata": {},
   "outputs": [],
   "source": [
    "x=int(input())\n",
    "y=int(input())\n",
    "s=0\n",
    "if x>y:\n",
    "    x,y=y,x\n",
    "for i in range(x,y+1):\n",
    "    if i%13!=0:\n",
    "        s+=i\n",
    "print(s)"
   ]
  },
  {
   "cell_type": "code",
   "execution_count": null,
   "metadata": {},
   "outputs": [],
   "source": [
    "x=int(input())\n",
    "y=int(input())\n",
    "if x>y:\n",
    "    x,y=y,x\n",
    "for i in range(x+1,y):\n",
    "    if i%5==2 or i%5==3:\n",
    "        print(i)"
   ]
  },
  {
   "cell_type": "code",
   "execution_count": null,
   "metadata": {},
   "outputs": [],
   "source": [
    "x=0\n",
    "alc=0\n",
    "gas=0\n",
    "die=0\n",
    "while x==0:\n",
    "    r=0\n",
    "    while r==0:\n",
    "        a=int(input())\n",
    "        if a>=1 and a<=4:\n",
    "            r=1\n",
    "            if a==1:\n",
    "                alc+=1\n",
    "            elif a==2:\n",
    "                gas+=1\n",
    "            elif a==3:\n",
    "                die+=1\n",
    "            else:\n",
    "                x=1\n",
    "print('MUITO OBRIGADO')\n",
    "print('Alcool:',alc)\n",
    "print('Gasolina:',gas)\n",
    "print('Diesel:',die)"
   ]
  },
  {
   "cell_type": "code",
   "execution_count": null,
   "metadata": {},
   "outputs": [],
   "source": [
    "n=int(input())\n",
    "if n!=0:\n",
    "    c=1\n",
    "    for i in range(1,n+1):\n",
    "        print(c,c+1,c+2,'PUM')\n",
    "        c=c+4"
   ]
  },
  {
   "cell_type": "code",
   "execution_count": null,
   "metadata": {},
   "outputs": [],
   "source": [
    "n=int(input())\n",
    "if n!=0:\n",
    "    c=1\n",
    "    for i in range(1,n+1):\n",
    "        print(i,i**2,i**3)"
   ]
  },
  {
   "cell_type": "code",
   "execution_count": null,
   "metadata": {},
   "outputs": [],
   "source": [
    "n=int(input())\n",
    "for i in range(1,n+1):\n",
    "    print(i,i**2,i**3)\n",
    "    print(i,i**2+1,i**3+1)"
   ]
  },
  {
   "cell_type": "code",
   "execution_count": null,
   "metadata": {
    "scrolled": true
   },
   "outputs": [],
   "source": [
    "list=input().split()\n",
    "x=int(list[0])\n",
    "y=int(list[1])\n",
    "m=[]\n",
    "for z in range(1,y+1):\n",
    "    if len(m)==x or z==y:\n",
    "        if z==y:\n",
    "            m.append(z)\n",
    "        s=''\n",
    "        for c in m:\n",
    "            if c==m[-1]:\n",
    "                s=s+str(c)\n",
    "            else:\n",
    "                s=s+str(c)+' '\n",
    "        print(s)\n",
    "        m=[z]\n",
    "    else:\n",
    "        m.append(z)"
   ]
  },
  {
   "cell_type": "code",
   "execution_count": null,
   "metadata": {},
   "outputs": [],
   "source": [
    "x=1\n",
    "while x!=0:\n",
    "    x=int(input())\n",
    "    if x!=0:\n",
    "        s=''\n",
    "        for i in range(1,x+1):\n",
    "            if i==x:\n",
    "                s=s+str(i)\n",
    "            else:\n",
    "                s=s+str(i)+' '\n",
    "        print(s)"
   ]
  },
  {
   "cell_type": "code",
   "execution_count": null,
   "metadata": {},
   "outputs": [],
   "source": [
    "lista=input().split()\n",
    "a=int(lista[0])\n",
    "for x in range(1,len(lista)):\n",
    "    if int(lista[x])>0:\n",
    "        n=int(lista[x])\n",
    "        break\n",
    "s=0\n",
    "for i in range(0,n):\n",
    "    s=s+a+i\n",
    "print(s)"
   ]
  },
  {
   "cell_type": "code",
   "execution_count": null,
   "metadata": {},
   "outputs": [],
   "source": [
    "x=int(input())\n",
    "z=x-1\n",
    "while z<=x:\n",
    "    z=int(input())\n",
    "s=x\n",
    "for i in range(x+1,z):\n",
    "    if s>z:\n",
    "        break\n",
    "    else:\n",
    "        s=s+i\n",
    "print(i-x)"
   ]
  },
  {
   "cell_type": "code",
   "execution_count": null,
   "metadata": {},
   "outputs": [],
   "source": [
    "n=int(input())\n",
    "if n==1:\n",
    "    lista=[0]\n",
    "elif n==2:\n",
    "    lista=[0,1]\n",
    "else:\n",
    "    lista=[0,1]\n",
    "    for i in range(2,n):\n",
    "        lista.append(lista[i-2]+lista[i-1])\n",
    "c=''\n",
    "for x in lista:\n",
    "    if x==lista[-1]:\n",
    "        c=c+str(x)\n",
    "    else:\n",
    "        c=c+str(x)+' '\n",
    "print(c)"
   ]
  },
  {
   "cell_type": "code",
   "execution_count": null,
   "metadata": {},
   "outputs": [],
   "source": [
    "n=int(input())\n",
    "f=1\n",
    "for i in range(1,n+1):\n",
    "    f=f*i\n",
    "print(f)"
   ]
  },
  {
   "cell_type": "code",
   "execution_count": null,
   "metadata": {},
   "outputs": [],
   "source": [
    "cond=0\n",
    "c=0\n",
    "idades=[]\n",
    "while cond==0:\n",
    "    x=int(input())\n",
    "    if x<0:\n",
    "        cond=1\n",
    "    else:\n",
    "        c+=1\n",
    "        idades.append(x)\n",
    "avr=sum(idades)/c\n",
    "print('%0.2f'%avr)"
   ]
  },
  {
   "cell_type": "code",
   "execution_count": null,
   "metadata": {},
   "outputs": [],
   "source": [
    "S=0\n",
    "for i in range(0,20):\n",
    "    S=S+(2*i+1)/(2**i)\n",
    "print('%0.2f'%S)"
   ]
  },
  {
   "cell_type": "code",
   "execution_count": null,
   "metadata": {},
   "outputs": [],
   "source": [
    "n=int(input())\n",
    "for i in range(1,n+1):\n",
    "    if n%i==0:\n",
    "        print(i)"
   ]
  },
  {
   "cell_type": "code",
   "execution_count": null,
   "metadata": {},
   "outputs": [],
   "source": [
    "x=int(input())\n",
    "while x!=0:\n",
    "    s=0\n",
    "    c=0\n",
    "    for i in range(x,x+2*5):\n",
    "        if i%2==0:\n",
    "            s=s+i\n",
    "    print(s)    \n",
    "    x=int(input())\n",
    "        "
   ]
  },
  {
   "cell_type": "code",
   "execution_count": null,
   "metadata": {},
   "outputs": [],
   "source": [
    "n=int(input())\n",
    "for i in range(1,n+1):\n",
    "    x=int(input())\n",
    "    s=0\n",
    "    for j in range(1,x):\n",
    "        if x%j==0:\n",
    "            s=s+j\n",
    "    if s==x:\n",
    "        print(x,'eh perfeito')\n",
    "    else:\n",
    "        print(x,'nao eh perfeito')"
   ]
  },
  {
   "cell_type": "code",
   "execution_count": null,
   "metadata": {},
   "outputs": [],
   "source": [
    "n=int(input())\n",
    "for i in range(1,n+1):\n",
    "    x=int(input())\n",
    "    y=True\n",
    "    for j in range(2,x):\n",
    "        if x%j==0:\n",
    "            y=False\n",
    "            break\n",
    "    if y:\n",
    "        print(x,'eh primo')\n",
    "    else:\n",
    "        print(x,'nao eh primo')"
   ]
  },
  {
   "cell_type": "code",
   "execution_count": null,
   "metadata": {},
   "outputs": [],
   "source": [
    "vetor=[]\n",
    "for i in range(0,10):\n",
    "    z=int(input())\n",
    "    if z<=0:\n",
    "        vetor.append(1)\n",
    "    else:\n",
    "        vetor.append(z)\n",
    "for x in range(0,len(vetor)):\n",
    "    y=vetor[x]\n",
    "    print('X[{}] = {}'.format(x,y))"
   ]
  },
  {
   "cell_type": "code",
   "execution_count": null,
   "metadata": {},
   "outputs": [],
   "source": [
    "n=int(input())\n",
    "vetor=[]\n",
    "vetor.append(n)\n",
    "for i in range(1,11):\n",
    "    vetor.append(vetor[(i-1)]*2)\n",
    "for x in range(0,len(vetor)):\n",
    "    y=vetor[x]\n",
    "    print('N[{}] = {}'.format(x,y))"
   ]
  },
  {
   "cell_type": "code",
   "execution_count": null,
   "metadata": {},
   "outputs": [],
   "source": [
    "n=int(input())\n",
    "import math\n",
    "for i in range(0,n):\n",
    "    popA,popB,txA,txB=map(float,input().split())\n",
    "    t=0\n",
    "    aini=popA\n",
    "    bini=popB\n",
    "    while popA<=popB:\n",
    "        popA=int(popA+(popA*txA/100))\n",
    "        popB=int(popB+(popB*txB/100))\n",
    "        t+=1\n",
    "        if t>100:\n",
    "            break\n",
    "    if t>100:\n",
    "        print('Mais de 1 século.')\n",
    "    else:\n",
    "        print(int(t),'anos.')"
   ]
  },
  {
   "cell_type": "code",
   "execution_count": null,
   "metadata": {},
   "outputs": [],
   "source": [
    "vet=[]\n",
    "for i in range(0,100):\n",
    "    vet.append(float(input()))\n",
    "for x in range(0,len(vet)):\n",
    "    if vet[x]<=10:\n",
    "        print('A[{}] = {}'.format(x,vet[x]))"
   ]
  },
  {
   "cell_type": "code",
   "execution_count": null,
   "metadata": {},
   "outputs": [],
   "source": [
    "vet=[]\n",
    "for i in range(0,20):\n",
    "    vet.append(int(input()))\n",
    "vetrev=[]\n",
    "for j in range(19,-1,-1):\n",
    "    vetrev.append(vet[j])\n",
    "for x in range(0,len(vetrev)):\n",
    "    print('N[{}] = {}'.format(x,vetrev[x]))"
   ]
  },
  {
   "cell_type": "code",
   "execution_count": null,
   "metadata": {},
   "outputs": [],
   "source": [
    "for i in range(20,0,-1):\n",
    "    print(i)"
   ]
  },
  {
   "cell_type": "code",
   "execution_count": null,
   "metadata": {},
   "outputs": [],
   "source": [
    "n=int(input())\n",
    "for i in range(0,n):\n",
    "    fib=[0,1]\n",
    "    m=int(input())\n",
    "    if m>1:\n",
    "        for j in range(2,m+1):\n",
    "            fib.append(fib[j-2]+fib[j-1])\n",
    "    print('Fib({}) = {}'.format(m,fib[m]))"
   ]
  },
  {
   "cell_type": "code",
   "execution_count": null,
   "metadata": {},
   "outputs": [],
   "source": [
    "n=int(input())\n",
    "vet=[]\n",
    "m=0\n",
    "for i in range(0,1000):\n",
    "    vet.append(m)\n",
    "    m+=1\n",
    "    if m==n:\n",
    "        m=0\n",
    "for x in range(0,len(vet)):\n",
    "    print('N[{}] = {}'.format(x,vet[x]))"
   ]
  },
  {
   "cell_type": "code",
   "execution_count": null,
   "metadata": {},
   "outputs": [],
   "source": [
    "n=float(input())\n",
    "vet=[n]\n",
    "for i in range(1,100):\n",
    "    vet.append(vet[i-1]/2)    \n",
    "for x in range(0,len(vet)):\n",
    "    print('N[{}] = {}'.format(x,'%0.4f'%vet[x]))"
   ]
  },
  {
   "cell_type": "code",
   "execution_count": null,
   "metadata": {},
   "outputs": [],
   "source": [
    "par=[]\n",
    "impar=[]\n",
    "for i in range(0,15):\n",
    "    n=int(input())\n",
    "    if n%2==1:\n",
    "        impar.append(n)\n",
    "    else:\n",
    "        par.append(n)\n",
    "    if len(par)==5:\n",
    "        for x in range(0,5):\n",
    "            print('par[{}] = {}'.format(x,par[x]))\n",
    "        par=[]\n",
    "    if len(impar)==5:\n",
    "        for x in range(0,5):\n",
    "            print('impar[{}] = {}'.format(x,impar[x]))            \n",
    "        impar=[]\n",
    "for x in range(0,len(impar)):\n",
    "    print('impar[{}] = {}'.format(x,impar[x]))\n",
    "for x in range(0,len(par)):\n",
    "    print('par[{}] = {}'.format(x,par[x]))"
   ]
  },
  {
   "cell_type": "code",
   "execution_count": null,
   "metadata": {},
   "outputs": [],
   "source": [
    "n=int(input())\n",
    "lista=input().split()\n",
    "listavalores=[]\n",
    "for i in lista:\n",
    "    listavalores.append(int(i))\n",
    "minimo=min(listavalores)\n",
    "indexo=listavalores.index(minimo)\n",
    "print('Menor valor: {}'.format(minimo))\n",
    "print('Posicao: {}'.format(indexo))"
   ]
  },
  {
   "cell_type": "code",
   "execution_count": null,
   "metadata": {},
   "outputs": [],
   "source": [
    "n=int(input())\n",
    "opc=str(input())\n",
    "tam=12\n",
    "matriz=[]\n",
    "for i in range(0,12):\n",
    "    matriz.append([])\n",
    "    for j in range(0,12):\n",
    "        x=float(input())\n",
    "        matriz[i].append(x)\n",
    "if opc=='S':\n",
    "    print(sum(matriz[n]))\n",
    "else:\n",
    "    print(sum(matriz[n])/12)    "
   ]
  },
  {
   "cell_type": "code",
   "execution_count": null,
   "metadata": {},
   "outputs": [],
   "source": [
    "n=int(input())\n",
    "opc=str(input())\n",
    "tam=3\n",
    "matriz=[]\n",
    "for i in range(0,tam):\n",
    "    matriz.append([])\n",
    "    for j in range(0,tam):\n",
    "        x=float(input())\n",
    "        matriz[i].append(x)\n",
    "if opc=='S':\n",
    "    col=[]\n",
    "    for i in range(0,tam):\n",
    "        col.append(matriz[i][n])\n",
    "    print(sum(col))\n",
    "else:\n",
    "    col=[]\n",
    "    for i in range(0,tam):\n",
    "        col.append(matriz[i][n])\n",
    "    med=sum(col)/tam\n",
    "    print('%0.1f'%med)"
   ]
  },
  {
   "cell_type": "code",
   "execution_count": null,
   "metadata": {},
   "outputs": [],
   "source": [
    "opc=str(input())\n",
    "tam=12\n",
    "matriz=[]\n",
    "for i in range(0,tam):\n",
    "    matriz.append([])\n",
    "    for j in range(0,tam):\n",
    "        x=float(input())\n",
    "        matriz[i].append(x)\n",
    "c=12\n",
    "s=0\n",
    "for i in range(0,tam):\n",
    "    for j in range(i+1,tam):\n",
    "        s=s+matriz[i][j]\n",
    "if opc=='S':\n",
    "    print(s)\n",
    "else:\n",
    "    x=s/(((tam*tam)-tam)/2)\n",
    "    print('%0.1f'%x)"
   ]
  },
  {
   "cell_type": "code",
   "execution_count": null,
   "metadata": {},
   "outputs": [],
   "source": [
    "opc=str(input())\n",
    "tam=3\n",
    "matriz=[]\n",
    "for i in range(0,tam):\n",
    "    matriz.append([])\n",
    "    for j in range(0,tam):\n",
    "        x=float(input())\n",
    "        matriz[i].append(x)\n",
    "c=12\n",
    "s=0\n",
    "for i in range(1,tam):\n",
    "    for j in range(0,i):\n",
    "        s=s+matriz[i][j]\n",
    "if opc=='S':\n",
    "    print(s)\n",
    "else:\n",
    "    x=s/(((tam*tam)-tam)/2)\n",
    "    print('%0.1f'%x)"
   ]
  },
  {
   "cell_type": "code",
   "execution_count": null,
   "metadata": {},
   "outputs": [],
   "source": [
    "opc=str(input())\n",
    "tam=3\n",
    "matriz=[]\n",
    "for i in range(0,tam):\n",
    "    matriz.append([])\n",
    "    for j in range(0,tam):\n",
    "        x=float(input())\n",
    "        matriz[i].append(x)\n",
    "s=0\n",
    "for i in range(1,tam):\n",
    "    for j in range(tam-1,tam-i-1,-1):\n",
    "        s=s+matriz[i][j]\n",
    "if opc=='S':\n",
    "    print(s)\n",
    "else:\n",
    "    x=s/(((tam*tam)-tam)/2)\n",
    "    print('%0.1f'%x)"
   ]
  },
  {
   "cell_type": "code",
   "execution_count": null,
   "metadata": {
    "scrolled": true
   },
   "outputs": [],
   "source": [
    "opc=str(input())\n",
    "tam=12\n",
    "matriz=[]\n",
    "for i in range(0,tam):\n",
    "    matriz.append([])\n",
    "    for j in range(0,tam):\n",
    "        x=float(input())\n",
    "        matriz[i].append(x)\n",
    "s=0\n",
    "for i in range(0,12):\n",
    "    for j in range(0,12):\n",
    "        if i>j and i<11-j:\n",
    "            s=s+matriz[i][j]\n",
    "if opc=='S':\n",
    "    print('%0.1f'%s)\n",
    "else:\n",
    "    x=s/30\n",
    "    print('%0.1f'%x)"
   ]
  },
  {
   "cell_type": "code",
   "execution_count": null,
   "metadata": {},
   "outputs": [],
   "source": [
    "x=1\n",
    "while x!=0:\n",
    "    x=int(input())\n",
    "    mat=[]\n",
    "    for i in range(0,x):\n",
    "        mat.append([])\n",
    "        for j in range(0,x):\n",
    "            v=[i+1 ,j+1 ,abs(j-x),abs(i-x)]\n",
    "            mat[i].append(min(v))\n",
    "    if x==0:\n",
    "        break\n",
    "    for i in mat:\n",
    "        c=''\n",
    "        for z in range(0,len(i)):\n",
    "            y=i[z]\n",
    "            if z==0:\n",
    "                c='  '+str(y)\n",
    "            else:\n",
    "                if len(str(y))==1:\n",
    "                    c=c+'   '+str(y)  \n",
    "                elif len(str(y))==2:\n",
    "                    c=c+'  '+str(y)\n",
    "                else:\n",
    "                    c=c+' '+str(y)\n",
    "        print(c)            \n",
    "    print('')"
   ]
  },
  {
   "cell_type": "code",
   "execution_count": null,
   "metadata": {
    "scrolled": true
   },
   "outputs": [],
   "source": [
    "x=1\n",
    "while x!=0:\n",
    "    x=int(input())\n",
    "    mat=[]\n",
    "    for i in range(0,x):\n",
    "        mat.append([])\n",
    "        for j in range(0,x):\n",
    "            mat[i].append(abs(i-j)+1)\n",
    "    if x==0:\n",
    "        break\n",
    "    for i in mat:\n",
    "        c=''\n",
    "        for z in range(0,len(i)):\n",
    "            y=i[z]\n",
    "            if z==0:\n",
    "                if len(str(y))==1:\n",
    "                    c=c+'  '+str(y)\n",
    "                elif len(str(y))==2:\n",
    "                    c=c+' '+str(y)\n",
    "                else:\n",
    "                    c=c+str(y)\n",
    "            else:\n",
    "                if len(str(y))==1:\n",
    "                    c=c+'   '+str(y)  \n",
    "                elif len(str(y))==2:\n",
    "                    c=c+'  '+str(y)\n",
    "                else:\n",
    "                    c=c+' '+str(y)\n",
    "        print(c)            \n",
    "    print('')"
   ]
  },
  {
   "cell_type": "code",
   "execution_count": null,
   "metadata": {},
   "outputs": [],
   "source": [
    "while True:\n",
    "  try:\n",
    "    x=int(input())\n",
    "    mat=[]\n",
    "    for i in range(0,x):\n",
    "        mat.append([])\n",
    "        for j in range(0,x):\n",
    "            if i==x-j-1:\n",
    "                mat[i].append(2)\n",
    "            elif i==j:\n",
    "                mat[i].append(1)\n",
    "            else:\n",
    "                mat[i].append(3)\n",
    "    if x==0:\n",
    "        break\n",
    "    for i in mat:\n",
    "        c=''\n",
    "        for z in range(0,len(i)):\n",
    "            y=i[z]\n",
    "            c=c+str(y)\n",
    "        print(c)           \n",
    "  except EOFError:\n",
    "    break"
   ]
  },
  {
   "cell_type": "code",
   "execution_count": null,
   "metadata": {},
   "outputs": [],
   "source": [
    "x=True\n",
    "while x:\n",
    "    x=input()\n",
    "    if len(x)==1:\n",
    "        break\n",
    "    la,lb,perc=map(int,x.split())\n",
    "    n=int((la*lb*(100/perc))**(1/2))\n",
    "    print(n)"
   ]
  },
  {
   "cell_type": "code",
   "execution_count": 13,
   "metadata": {},
   "outputs": [
    {
     "name": "stdout",
     "output_type": "stream",
     "text": [
      "0\n"
     ]
    }
   ],
   "source": [
    "while True:\n",
    "    z=int(input())\n",
    "    if z==0:\n",
    "        break\n",
    "    m=[]\n",
    "    for a in range(0,z):           \n",
    "        m.append([])\n",
    "        for b in range(0,z):\n",
    "            (m[a]).append(2**(a+b))\n",
    "    maior=0\n",
    "    for i in m:\n",
    "        maiorv=max(i)\n",
    "        if maiorv>maior:\n",
    "            maior=maiorv\n",
    "    t=len(str(maior))\n",
    "    for a in range(0,z):\n",
    "        c=\"\"\n",
    "        for b in range(0,z):\n",
    "            n=t-len(str(m[a][b]))+1\n",
    "            if b==0:\n",
    "                c=c+(n-1)*\" \"+str(m[a][b])\n",
    "            else:\n",
    "                c=c+n*\" \"+str(m[a][b])\n",
    "        print(c)\n",
    "    print('')"
   ]
  },
  {
   "cell_type": "code",
   "execution_count": null,
   "metadata": {},
   "outputs": [],
   "source": [
    "while True:\n",
    "  try:\n",
    "    x=int(input())\n",
    "    if x==0:\n",
    "        print('vai ter copa!')\n",
    "    else:\n",
    "        print('vai ter duas!')\n",
    "  except EOFError:\n",
    "    break"
   ]
  },
  {
   "cell_type": "code",
   "execution_count": 15,
   "metadata": {},
   "outputs": [
    {
     "name": "stdout",
     "output_type": "stream",
     "text": [
      "3\n",
      "1 1\n",
      "2\n",
      "2 8\n",
      "10\n",
      "8 2\n",
      "10\n"
     ]
    }
   ],
   "source": [
    "n=int(input())\n",
    "for i in range(0,n):\n",
    "    x,y=map(int,input().split())\n",
    "    r=int((x*2+y*2)/2)\n",
    "    print(r)"
   ]
  },
  {
   "cell_type": "code",
   "execution_count": 23,
   "metadata": {},
   "outputs": [
    {
     "name": "stdout",
     "output_type": "stream",
     "text": [
      "5\n",
      "Ho Ho Ho Ho Ho!\n"
     ]
    }
   ],
   "source": [
    "print(\"Ho\"+(int(input())-1)*\" Ho\"+\"!\")"
   ]
  },
  {
   "cell_type": "code",
   "execution_count": 31,
   "metadata": {},
   "outputs": [
    {
     "name": "stdout",
     "output_type": "stream",
     "text": [
      "10\n",
      "10 10 10 10 15 18 20 15 11 10\n",
      "3\n",
      "10\n",
      "1 5 2 9 5 5 8 4 4 3\n",
      "1\n",
      "10\n",
      "19 9 1 4 5 8 6 11 9 7\n",
      "2\n",
      "\n"
     ]
    },
    {
     "ename": "ValueError",
     "evalue": "invalid literal for int() with base 10: ''",
     "output_type": "error",
     "traceback": [
      "\u001b[0;31m---------------------------------------------------------------------------\u001b[0m",
      "\u001b[0;31mValueError\u001b[0m                                Traceback (most recent call last)",
      "\u001b[0;32m<ipython-input-31-4d6cbdaa0715>\u001b[0m in \u001b[0;36m<module>\u001b[0;34m()\u001b[0m\n\u001b[1;32m      1\u001b[0m \u001b[0;32mwhile\u001b[0m \u001b[0;32mTrue\u001b[0m\u001b[0;34m:\u001b[0m\u001b[0;34m\u001b[0m\u001b[0m\n\u001b[1;32m      2\u001b[0m   \u001b[0;32mtry\u001b[0m\u001b[0;34m:\u001b[0m\u001b[0;34m\u001b[0m\u001b[0m\n\u001b[0;32m----> 3\u001b[0;31m     \u001b[0mx\u001b[0m\u001b[0;34m=\u001b[0m\u001b[0mint\u001b[0m\u001b[0;34m(\u001b[0m\u001b[0minput\u001b[0m\u001b[0;34m(\u001b[0m\u001b[0;34m)\u001b[0m\u001b[0;34m)\u001b[0m\u001b[0;34m\u001b[0m\u001b[0m\n\u001b[0m\u001b[1;32m      4\u001b[0m     \u001b[0mvalores\u001b[0m\u001b[0;34m=\u001b[0m\u001b[0minput\u001b[0m\u001b[0;34m(\u001b[0m\u001b[0;34m)\u001b[0m\u001b[0;34m.\u001b[0m\u001b[0msplit\u001b[0m\u001b[0;34m(\u001b[0m\u001b[0;34m)\u001b[0m\u001b[0;34m\u001b[0m\u001b[0m\n\u001b[1;32m      5\u001b[0m     \u001b[0mlista\u001b[0m\u001b[0;34m=\u001b[0m\u001b[0;34m[\u001b[0m\u001b[0mint\u001b[0m\u001b[0;34m(\u001b[0m\u001b[0mvalores\u001b[0m\u001b[0;34m[\u001b[0m\u001b[0mx\u001b[0m\u001b[0;34m]\u001b[0m\u001b[0;34m)\u001b[0m \u001b[0;32mfor\u001b[0m \u001b[0mx\u001b[0m \u001b[0;32min\u001b[0m \u001b[0mrange\u001b[0m\u001b[0;34m(\u001b[0m\u001b[0;36m0\u001b[0m\u001b[0;34m,\u001b[0m\u001b[0mx\u001b[0m\u001b[0;34m)\u001b[0m\u001b[0;34m]\u001b[0m\u001b[0;34m\u001b[0m\u001b[0m\n",
      "\u001b[0;31mValueError\u001b[0m: invalid literal for int() with base 10: ''"
     ]
    }
   ],
   "source": [
    "while True:\n",
    "  try:\n",
    "    x=int(input())\n",
    "    valores=input().split()\n",
    "    lista=[int(valores[x]) for x in range(0,x)]\n",
    "    m=0\n",
    "    for x in lista:\n",
    "        if x>m:\n",
    "            m=x\n",
    "    if m<10:\n",
    "        print(1)\n",
    "    elif m<20:\n",
    "        print(2)\n",
    "    else:\n",
    "        print(3)\n",
    "  except EOFError:\n",
    "    break"
   ]
  },
  {
   "cell_type": "code",
   "execution_count": 40,
   "metadata": {},
   "outputs": [
    {
     "name": "stdout",
     "output_type": "stream",
     "text": [
      "5\n",
      "20003\n",
      "01110\n",
      "01410\n",
      "01110\n",
      "30002\n",
      "\n",
      "11\n",
      "20000000003\n",
      "02000000030\n",
      "00200000300\n",
      "00011111000\n",
      "00011111000\n",
      "00011411000\n",
      "00011111000\n",
      "00011111000\n",
      "00300000200\n",
      "03000000020\n",
      "30000000002\n",
      "\n"
     ]
    },
    {
     "ename": "KeyboardInterrupt",
     "evalue": "",
     "output_type": "error",
     "traceback": [
      "\u001b[0;31m---------------------------------------------------------------------------\u001b[0m",
      "\u001b[0;31mKeyboardInterrupt\u001b[0m                         Traceback (most recent call last)",
      "\u001b[0;32m/usr/local/lib/python3.5/dist-packages/ipykernel/kernelbase.py\u001b[0m in \u001b[0;36m_input_request\u001b[0;34m(self, prompt, ident, parent, password)\u001b[0m\n\u001b[1;32m    728\u001b[0m             \u001b[0;32mtry\u001b[0m\u001b[0;34m:\u001b[0m\u001b[0;34m\u001b[0m\u001b[0m\n\u001b[0;32m--> 729\u001b[0;31m                 \u001b[0mident\u001b[0m\u001b[0;34m,\u001b[0m \u001b[0mreply\u001b[0m \u001b[0;34m=\u001b[0m \u001b[0mself\u001b[0m\u001b[0;34m.\u001b[0m\u001b[0msession\u001b[0m\u001b[0;34m.\u001b[0m\u001b[0mrecv\u001b[0m\u001b[0;34m(\u001b[0m\u001b[0mself\u001b[0m\u001b[0;34m.\u001b[0m\u001b[0mstdin_socket\u001b[0m\u001b[0;34m,\u001b[0m \u001b[0;36m0\u001b[0m\u001b[0;34m)\u001b[0m\u001b[0;34m\u001b[0m\u001b[0m\n\u001b[0m\u001b[1;32m    730\u001b[0m             \u001b[0;32mexcept\u001b[0m \u001b[0mException\u001b[0m\u001b[0;34m:\u001b[0m\u001b[0;34m\u001b[0m\u001b[0m\n",
      "\u001b[0;32m/usr/local/lib/python3.5/dist-packages/jupyter_client/session.py\u001b[0m in \u001b[0;36mrecv\u001b[0;34m(self, socket, mode, content, copy)\u001b[0m\n\u001b[1;32m    802\u001b[0m         \u001b[0;32mtry\u001b[0m\u001b[0;34m:\u001b[0m\u001b[0;34m\u001b[0m\u001b[0m\n\u001b[0;32m--> 803\u001b[0;31m             \u001b[0mmsg_list\u001b[0m \u001b[0;34m=\u001b[0m \u001b[0msocket\u001b[0m\u001b[0;34m.\u001b[0m\u001b[0mrecv_multipart\u001b[0m\u001b[0;34m(\u001b[0m\u001b[0mmode\u001b[0m\u001b[0;34m,\u001b[0m \u001b[0mcopy\u001b[0m\u001b[0;34m=\u001b[0m\u001b[0mcopy\u001b[0m\u001b[0;34m)\u001b[0m\u001b[0;34m\u001b[0m\u001b[0m\n\u001b[0m\u001b[1;32m    804\u001b[0m         \u001b[0;32mexcept\u001b[0m \u001b[0mzmq\u001b[0m\u001b[0;34m.\u001b[0m\u001b[0mZMQError\u001b[0m \u001b[0;32mas\u001b[0m \u001b[0me\u001b[0m\u001b[0;34m:\u001b[0m\u001b[0;34m\u001b[0m\u001b[0m\n",
      "\u001b[0;32m/usr/local/lib/python3.5/dist-packages/zmq/sugar/socket.py\u001b[0m in \u001b[0;36mrecv_multipart\u001b[0;34m(self, flags, copy, track)\u001b[0m\n\u001b[1;32m    465\u001b[0m         \"\"\"\n\u001b[0;32m--> 466\u001b[0;31m         \u001b[0mparts\u001b[0m \u001b[0;34m=\u001b[0m \u001b[0;34m[\u001b[0m\u001b[0mself\u001b[0m\u001b[0;34m.\u001b[0m\u001b[0mrecv\u001b[0m\u001b[0;34m(\u001b[0m\u001b[0mflags\u001b[0m\u001b[0;34m,\u001b[0m \u001b[0mcopy\u001b[0m\u001b[0;34m=\u001b[0m\u001b[0mcopy\u001b[0m\u001b[0;34m,\u001b[0m \u001b[0mtrack\u001b[0m\u001b[0;34m=\u001b[0m\u001b[0mtrack\u001b[0m\u001b[0;34m)\u001b[0m\u001b[0;34m]\u001b[0m\u001b[0;34m\u001b[0m\u001b[0m\n\u001b[0m\u001b[1;32m    467\u001b[0m         \u001b[0;31m# have first part already, only loop while more to receive\u001b[0m\u001b[0;34m\u001b[0m\u001b[0;34m\u001b[0m\u001b[0m\n",
      "\u001b[0;32mzmq/backend/cython/socket.pyx\u001b[0m in \u001b[0;36mzmq.backend.cython.socket.Socket.recv\u001b[0;34m()\u001b[0m\n",
      "\u001b[0;32mzmq/backend/cython/socket.pyx\u001b[0m in \u001b[0;36mzmq.backend.cython.socket.Socket.recv\u001b[0;34m()\u001b[0m\n",
      "\u001b[0;32mzmq/backend/cython/socket.pyx\u001b[0m in \u001b[0;36mzmq.backend.cython.socket._recv_copy\u001b[0;34m()\u001b[0m\n",
      "\u001b[0;32m/usr/local/lib/python3.5/dist-packages/zmq/backend/cython/checkrc.pxd\u001b[0m in \u001b[0;36mzmq.backend.cython.checkrc._check_rc\u001b[0;34m()\u001b[0m\n",
      "\u001b[0;31mKeyboardInterrupt\u001b[0m: ",
      "\nDuring handling of the above exception, another exception occurred:\n",
      "\u001b[0;31mKeyboardInterrupt\u001b[0m                         Traceback (most recent call last)",
      "\u001b[0;32m<ipython-input-40-80e02c6ce533>\u001b[0m in \u001b[0;36m<module>\u001b[0;34m()\u001b[0m\n\u001b[1;32m      1\u001b[0m \u001b[0;32mwhile\u001b[0m \u001b[0;32mTrue\u001b[0m\u001b[0;34m:\u001b[0m\u001b[0;34m\u001b[0m\u001b[0m\n\u001b[1;32m      2\u001b[0m   \u001b[0;32mtry\u001b[0m\u001b[0;34m:\u001b[0m\u001b[0;34m\u001b[0m\u001b[0m\n\u001b[0;32m----> 3\u001b[0;31m     \u001b[0mx\u001b[0m\u001b[0;34m=\u001b[0m\u001b[0mint\u001b[0m\u001b[0;34m(\u001b[0m\u001b[0minput\u001b[0m\u001b[0;34m(\u001b[0m\u001b[0;34m)\u001b[0m\u001b[0;34m)\u001b[0m\u001b[0;34m\u001b[0m\u001b[0m\n\u001b[0m\u001b[1;32m      4\u001b[0m     \u001b[0mM\u001b[0m\u001b[0;34m=\u001b[0m\u001b[0;34m[\u001b[0m\u001b[0;34m]\u001b[0m\u001b[0;34m\u001b[0m\u001b[0m\n\u001b[1;32m      5\u001b[0m     \u001b[0;32mfor\u001b[0m \u001b[0ma\u001b[0m \u001b[0;32min\u001b[0m \u001b[0mrange\u001b[0m\u001b[0;34m(\u001b[0m\u001b[0;36m0\u001b[0m\u001b[0;34m,\u001b[0m\u001b[0mx\u001b[0m\u001b[0;34m)\u001b[0m\u001b[0;34m:\u001b[0m\u001b[0;34m\u001b[0m\u001b[0m\n",
      "\u001b[0;32m/usr/local/lib/python3.5/dist-packages/ipykernel/kernelbase.py\u001b[0m in \u001b[0;36mraw_input\u001b[0;34m(self, prompt)\u001b[0m\n\u001b[1;32m    702\u001b[0m             \u001b[0mself\u001b[0m\u001b[0;34m.\u001b[0m\u001b[0m_parent_ident\u001b[0m\u001b[0;34m,\u001b[0m\u001b[0;34m\u001b[0m\u001b[0m\n\u001b[1;32m    703\u001b[0m             \u001b[0mself\u001b[0m\u001b[0;34m.\u001b[0m\u001b[0m_parent_header\u001b[0m\u001b[0;34m,\u001b[0m\u001b[0;34m\u001b[0m\u001b[0m\n\u001b[0;32m--> 704\u001b[0;31m             \u001b[0mpassword\u001b[0m\u001b[0;34m=\u001b[0m\u001b[0;32mFalse\u001b[0m\u001b[0;34m,\u001b[0m\u001b[0;34m\u001b[0m\u001b[0m\n\u001b[0m\u001b[1;32m    705\u001b[0m         )\n\u001b[1;32m    706\u001b[0m \u001b[0;34m\u001b[0m\u001b[0m\n",
      "\u001b[0;32m/usr/local/lib/python3.5/dist-packages/ipykernel/kernelbase.py\u001b[0m in \u001b[0;36m_input_request\u001b[0;34m(self, prompt, ident, parent, password)\u001b[0m\n\u001b[1;32m    732\u001b[0m             \u001b[0;32mexcept\u001b[0m \u001b[0mKeyboardInterrupt\u001b[0m\u001b[0;34m:\u001b[0m\u001b[0;34m\u001b[0m\u001b[0m\n\u001b[1;32m    733\u001b[0m                 \u001b[0;31m# re-raise KeyboardInterrupt, to truncate traceback\u001b[0m\u001b[0;34m\u001b[0m\u001b[0;34m\u001b[0m\u001b[0m\n\u001b[0;32m--> 734\u001b[0;31m                 \u001b[0;32mraise\u001b[0m \u001b[0mKeyboardInterrupt\u001b[0m\u001b[0;34m\u001b[0m\u001b[0m\n\u001b[0m\u001b[1;32m    735\u001b[0m             \u001b[0;32melse\u001b[0m\u001b[0;34m:\u001b[0m\u001b[0;34m\u001b[0m\u001b[0m\n\u001b[1;32m    736\u001b[0m                 \u001b[0;32mbreak\u001b[0m\u001b[0;34m\u001b[0m\u001b[0m\n",
      "\u001b[0;31mKeyboardInterrupt\u001b[0m: "
     ]
    }
   ],
   "source": [
    "while True:\n",
    "  try:\n",
    "    x=int(input())\n",
    "    M=[]\n",
    "    for a in range(0,x):\n",
    "        M.append([])\n",
    "        for b in range(0,x):\n",
    "            if a==b and a==int(x/2):\n",
    "                M[a].append(4)\n",
    "            elif a==b:\n",
    "                M[a].append(2)\n",
    "            elif b==x-a-1:\n",
    "                M[a].append(3)\n",
    "            else:\n",
    "                M[a].append(0)\n",
    "    t=int(x/3)\n",
    "    for a in range(t,x-t):\n",
    "        for b in range(t,x-t):\n",
    "            M[a][b]=1\n",
    "            if a==b and a==int(x/2):\n",
    "                M[a][b]=4\n",
    "    for a in range(0,x):\n",
    "        c=\"\"\n",
    "        for b in range(0,x):\n",
    "            c=c+str(M[a][b])\n",
    "        print(c)\n",
    "    print(\"\")\n",
    "  except EOFError:\n",
    "    break        "
   ]
  },
  {
   "cell_type": "code",
   "execution_count": 49,
   "metadata": {},
   "outputs": [
    {
     "name": "stdout",
     "output_type": "stream",
     "text": [
      "1\n",
      "pedra Spock\n",
      "Caso #1: Raj trapaceou!\n"
     ]
    }
   ],
   "source": [
    "n=int(input())\n",
    "for i in range(0,n):\n",
    "    s,r=input().split()\n",
    "    if s=='papel':\n",
    "        if r in ['pedra','Spock']:\n",
    "            caso=1\n",
    "        elif r==s:\n",
    "            caso=3\n",
    "        else:\n",
    "            caso=2\n",
    "    elif s=='pedra':\n",
    "        if r in ['lagarto','tesoura']:\n",
    "            caso=1        \n",
    "        elif r==s:\n",
    "            caso=3\n",
    "        else:\n",
    "            caso=2\n",
    "    elif s=='lagarto':\n",
    "        if r in ['Spock','papel']:\n",
    "            caso=1\n",
    "        elif r==s:\n",
    "            caso=3\n",
    "        else:\n",
    "            caso=2\n",
    "    elif s=='tesoura':\n",
    "        if r in ['papel','lagarto']:\n",
    "            caso=1\n",
    "        elif r==s:\n",
    "            caso=3\n",
    "        else:\n",
    "            caso=2\n",
    "    else:\n",
    "        #Spock\n",
    "        if r in ['tesoura','pedra']:\n",
    "            caso=1\n",
    "        elif r==s:\n",
    "            caso=3\n",
    "        else:\n",
    "            caso=2\n",
    "    if caso==1:\n",
    "        print('Caso #{}: Bazinga!'.format(i+1))\n",
    "    elif caso==2:\n",
    "        print('Caso #{}: Raj trapaceou!'.format(i+1))\n",
    "    else:\n",
    "        print('Caso #{}: De novo!'.format(i+1))"
   ]
  },
  {
   "cell_type": "code",
   "execution_count": 69,
   "metadata": {},
   "outputs": [
    {
     "name": "stdout",
     "output_type": "stream",
     "text": [
      "-7 3\n",
      "-3 2\n"
     ]
    }
   ],
   "source": [
    "a,b=map(int,input().split())\n",
    "if a%b<0:\n",
    "    r=a%b+abs(b)\n",
    "else:\n",
    "    r=a%b\n",
    "a=a-r\n",
    "q=int(a/b)\n",
    "print(q,r)"
   ]
  },
  {
   "cell_type": "code",
   "execution_count": 80,
   "metadata": {},
   "outputs": [
    {
     "name": "stdout",
     "output_type": "stream",
     "text": [
      "10 10 2\n",
      ":(\n"
     ]
    }
   ],
   "source": [
    "t1,t2,t3=map(int,input().split())\n",
    "v1=abs(t2-t1)\n",
    "v2=abs(t3-t2)\n",
    "if t2>t1:\n",
    "    if t3<=t2:\n",
    "        feliz=0\n",
    "    else:\n",
    "        if v2<v1:\n",
    "            feliz=0\n",
    "        else:\n",
    "            feliz=1\n",
    "elif t2<t1:\n",
    "    if t3>=t2:\n",
    "        feliz=1  \n",
    "    else:\n",
    "        if v2<v1:\n",
    "            feliz=1\n",
    "        else:\n",
    "            feliz=0\n",
    "else:\n",
    "    if t3>t2:\n",
    "        feliz=1\n",
    "    else:\n",
    "        feliz=0\n",
    "if feliz==1:\n",
    "    print(':)')\n",
    "else:\n",
    "    print(':(')"
   ]
  },
  {
   "cell_type": "code",
   "execution_count": 85,
   "metadata": {},
   "outputs": [
    {
     "name": "stdout",
     "output_type": "stream",
     "text": [
      "--*\n",
      "*--\n",
      "caw caw\n",
      "5\n"
     ]
    },
    {
     "ename": "KeyboardInterrupt",
     "evalue": "",
     "output_type": "error",
     "traceback": [
      "\u001b[0;31m---------------------------------------------------------------------------\u001b[0m",
      "\u001b[0;31mKeyboardInterrupt\u001b[0m                         Traceback (most recent call last)",
      "\u001b[0;32m/usr/local/lib/python3.5/dist-packages/ipykernel/kernelbase.py\u001b[0m in \u001b[0;36m_input_request\u001b[0;34m(self, prompt, ident, parent, password)\u001b[0m\n\u001b[1;32m    728\u001b[0m             \u001b[0;32mtry\u001b[0m\u001b[0;34m:\u001b[0m\u001b[0;34m\u001b[0m\u001b[0m\n\u001b[0;32m--> 729\u001b[0;31m                 \u001b[0mident\u001b[0m\u001b[0;34m,\u001b[0m \u001b[0mreply\u001b[0m \u001b[0;34m=\u001b[0m \u001b[0mself\u001b[0m\u001b[0;34m.\u001b[0m\u001b[0msession\u001b[0m\u001b[0;34m.\u001b[0m\u001b[0mrecv\u001b[0m\u001b[0;34m(\u001b[0m\u001b[0mself\u001b[0m\u001b[0;34m.\u001b[0m\u001b[0mstdin_socket\u001b[0m\u001b[0;34m,\u001b[0m \u001b[0;36m0\u001b[0m\u001b[0;34m)\u001b[0m\u001b[0;34m\u001b[0m\u001b[0m\n\u001b[0m\u001b[1;32m    730\u001b[0m             \u001b[0;32mexcept\u001b[0m \u001b[0mException\u001b[0m\u001b[0;34m:\u001b[0m\u001b[0;34m\u001b[0m\u001b[0m\n",
      "\u001b[0;32m/usr/local/lib/python3.5/dist-packages/jupyter_client/session.py\u001b[0m in \u001b[0;36mrecv\u001b[0;34m(self, socket, mode, content, copy)\u001b[0m\n\u001b[1;32m    802\u001b[0m         \u001b[0;32mtry\u001b[0m\u001b[0;34m:\u001b[0m\u001b[0;34m\u001b[0m\u001b[0m\n\u001b[0;32m--> 803\u001b[0;31m             \u001b[0mmsg_list\u001b[0m \u001b[0;34m=\u001b[0m \u001b[0msocket\u001b[0m\u001b[0;34m.\u001b[0m\u001b[0mrecv_multipart\u001b[0m\u001b[0;34m(\u001b[0m\u001b[0mmode\u001b[0m\u001b[0;34m,\u001b[0m \u001b[0mcopy\u001b[0m\u001b[0;34m=\u001b[0m\u001b[0mcopy\u001b[0m\u001b[0;34m)\u001b[0m\u001b[0;34m\u001b[0m\u001b[0m\n\u001b[0m\u001b[1;32m    804\u001b[0m         \u001b[0;32mexcept\u001b[0m \u001b[0mzmq\u001b[0m\u001b[0;34m.\u001b[0m\u001b[0mZMQError\u001b[0m \u001b[0;32mas\u001b[0m \u001b[0me\u001b[0m\u001b[0;34m:\u001b[0m\u001b[0;34m\u001b[0m\u001b[0m\n",
      "\u001b[0;32m/usr/local/lib/python3.5/dist-packages/zmq/sugar/socket.py\u001b[0m in \u001b[0;36mrecv_multipart\u001b[0;34m(self, flags, copy, track)\u001b[0m\n\u001b[1;32m    465\u001b[0m         \"\"\"\n\u001b[0;32m--> 466\u001b[0;31m         \u001b[0mparts\u001b[0m \u001b[0;34m=\u001b[0m \u001b[0;34m[\u001b[0m\u001b[0mself\u001b[0m\u001b[0;34m.\u001b[0m\u001b[0mrecv\u001b[0m\u001b[0;34m(\u001b[0m\u001b[0mflags\u001b[0m\u001b[0;34m,\u001b[0m \u001b[0mcopy\u001b[0m\u001b[0;34m=\u001b[0m\u001b[0mcopy\u001b[0m\u001b[0;34m,\u001b[0m \u001b[0mtrack\u001b[0m\u001b[0;34m=\u001b[0m\u001b[0mtrack\u001b[0m\u001b[0;34m)\u001b[0m\u001b[0;34m]\u001b[0m\u001b[0;34m\u001b[0m\u001b[0m\n\u001b[0m\u001b[1;32m    467\u001b[0m         \u001b[0;31m# have first part already, only loop while more to receive\u001b[0m\u001b[0;34m\u001b[0m\u001b[0;34m\u001b[0m\u001b[0m\n",
      "\u001b[0;32mzmq/backend/cython/socket.pyx\u001b[0m in \u001b[0;36mzmq.backend.cython.socket.Socket.recv\u001b[0;34m()\u001b[0m\n",
      "\u001b[0;32mzmq/backend/cython/socket.pyx\u001b[0m in \u001b[0;36mzmq.backend.cython.socket.Socket.recv\u001b[0;34m()\u001b[0m\n",
      "\u001b[0;32mzmq/backend/cython/socket.pyx\u001b[0m in \u001b[0;36mzmq.backend.cython.socket._recv_copy\u001b[0;34m()\u001b[0m\n",
      "\u001b[0;32m/usr/local/lib/python3.5/dist-packages/zmq/backend/cython/checkrc.pxd\u001b[0m in \u001b[0;36mzmq.backend.cython.checkrc._check_rc\u001b[0;34m()\u001b[0m\n",
      "\u001b[0;31mKeyboardInterrupt\u001b[0m: ",
      "\nDuring handling of the above exception, another exception occurred:\n",
      "\u001b[0;31mKeyboardInterrupt\u001b[0m                         Traceback (most recent call last)",
      "\u001b[0;32m<ipython-input-85-47ba82b7df6d>\u001b[0m in \u001b[0;36m<module>\u001b[0;34m()\u001b[0m\n\u001b[1;32m      2\u001b[0m \u001b[0;32mwhile\u001b[0m \u001b[0;32mTrue\u001b[0m\u001b[0;34m:\u001b[0m\u001b[0;34m\u001b[0m\u001b[0m\n\u001b[1;32m      3\u001b[0m     \u001b[0;32mtry\u001b[0m\u001b[0;34m:\u001b[0m\u001b[0;34m\u001b[0m\u001b[0m\n\u001b[0;32m----> 4\u001b[0;31m         \u001b[0ms\u001b[0m\u001b[0;34m=\u001b[0m\u001b[0minput\u001b[0m\u001b[0;34m(\u001b[0m\u001b[0;34m)\u001b[0m\u001b[0;34m\u001b[0m\u001b[0m\n\u001b[0m\u001b[1;32m      5\u001b[0m         \u001b[0;32mif\u001b[0m \u001b[0ms\u001b[0m\u001b[0;34m==\u001b[0m\u001b[0;34m'caw caw'\u001b[0m\u001b[0;34m:\u001b[0m\u001b[0;34m\u001b[0m\u001b[0m\n\u001b[1;32m      6\u001b[0m             \u001b[0mprint\u001b[0m\u001b[0;34m(\u001b[0m\u001b[0mn\u001b[0m\u001b[0;34m)\u001b[0m\u001b[0;34m\u001b[0m\u001b[0m\n",
      "\u001b[0;32m/usr/local/lib/python3.5/dist-packages/ipykernel/kernelbase.py\u001b[0m in \u001b[0;36mraw_input\u001b[0;34m(self, prompt)\u001b[0m\n\u001b[1;32m    702\u001b[0m             \u001b[0mself\u001b[0m\u001b[0;34m.\u001b[0m\u001b[0m_parent_ident\u001b[0m\u001b[0;34m,\u001b[0m\u001b[0;34m\u001b[0m\u001b[0m\n\u001b[1;32m    703\u001b[0m             \u001b[0mself\u001b[0m\u001b[0;34m.\u001b[0m\u001b[0m_parent_header\u001b[0m\u001b[0;34m,\u001b[0m\u001b[0;34m\u001b[0m\u001b[0m\n\u001b[0;32m--> 704\u001b[0;31m             \u001b[0mpassword\u001b[0m\u001b[0;34m=\u001b[0m\u001b[0;32mFalse\u001b[0m\u001b[0;34m,\u001b[0m\u001b[0;34m\u001b[0m\u001b[0m\n\u001b[0m\u001b[1;32m    705\u001b[0m         )\n\u001b[1;32m    706\u001b[0m \u001b[0;34m\u001b[0m\u001b[0m\n",
      "\u001b[0;32m/usr/local/lib/python3.5/dist-packages/ipykernel/kernelbase.py\u001b[0m in \u001b[0;36m_input_request\u001b[0;34m(self, prompt, ident, parent, password)\u001b[0m\n\u001b[1;32m    732\u001b[0m             \u001b[0;32mexcept\u001b[0m \u001b[0mKeyboardInterrupt\u001b[0m\u001b[0;34m:\u001b[0m\u001b[0;34m\u001b[0m\u001b[0m\n\u001b[1;32m    733\u001b[0m                 \u001b[0;31m# re-raise KeyboardInterrupt, to truncate traceback\u001b[0m\u001b[0;34m\u001b[0m\u001b[0;34m\u001b[0m\u001b[0m\n\u001b[0;32m--> 734\u001b[0;31m                 \u001b[0;32mraise\u001b[0m \u001b[0mKeyboardInterrupt\u001b[0m\u001b[0;34m\u001b[0m\u001b[0m\n\u001b[0m\u001b[1;32m    735\u001b[0m             \u001b[0;32melse\u001b[0m\u001b[0;34m:\u001b[0m\u001b[0;34m\u001b[0m\u001b[0m\n\u001b[1;32m    736\u001b[0m                 \u001b[0;32mbreak\u001b[0m\u001b[0;34m\u001b[0m\u001b[0m\n",
      "\u001b[0;31mKeyboardInterrupt\u001b[0m: "
     ]
    }
   ],
   "source": [
    "n=0\n",
    "while True:\n",
    "    try:\n",
    "        s=input()\n",
    "        if s=='caw caw':\n",
    "            print(n)\n",
    "            n=0\n",
    "        else:\n",
    "            bin1,bin2,bin3=list(s)\n",
    "            if bin1=='*':\n",
    "                n+=4\n",
    "            if bin2=='*':\n",
    "                n+=2\n",
    "            if bin3=='*':\n",
    "                n+=1\n",
    "    except EOFError:\n",
    "        break"
   ]
  },
  {
   "cell_type": "code",
   "execution_count": 86,
   "metadata": {},
   "outputs": [
    {
     "name": "stdout",
     "output_type": "stream",
     "text": [
      "4\n",
      "Hulk 5000\n",
      "N\n",
      "Tony 1000\n",
      "N\n",
      "Thor 50\n",
      "Y\n",
      "Steve 500\n",
      "N\n"
     ]
    }
   ],
   "source": [
    "n=int(input())\n",
    "for i in range(0,n):\n",
    "    t=input().split()\n",
    "    a=t[0]\n",
    "    if a=='Thor':\n",
    "        print('Y')\n",
    "    else:\n",
    "        print('N')"
   ]
  },
  {
   "cell_type": "code",
   "execution_count": 120,
   "metadata": {},
   "outputs": [
    {
     "name": "stdout",
     "output_type": "stream",
     "text": [
      "5 5000000\n",
      "0\n",
      "3 123456\n",
      "12456\n",
      "9 23454324543423\n",
      "23454324543423\n",
      "9 99999999991999999\n",
      "1\n",
      "7 777\n",
      "0\n",
      "0 0\n"
     ]
    }
   ],
   "source": [
    "x=1\n",
    "while x==1:\n",
    "    a,b=map(int,input().split())\n",
    "    if a==0 and b==0:\n",
    "        break\n",
    "    else:\n",
    "        c=list(str(b))\n",
    "        while str(a) in c:\n",
    "            c.remove(str(a))\n",
    "        d=''\n",
    "        for z in c:\n",
    "            d=d+z\n",
    "        if d!='':\n",
    "            b=int(d)\n",
    "        else:\n",
    "            b=0\n",
    "    print(b)"
   ]
  },
  {
   "cell_type": "code",
   "execution_count": 126,
   "metadata": {},
   "outputs": [
    {
     "name": "stdout",
     "output_type": "stream",
     "text": [
      "2\n",
      "1 1\n",
      "1\n"
     ]
    }
   ],
   "source": [
    "n=int(input())\n",
    "lista=input().split()\n",
    "algozes=[]\n",
    "for i in lista:\n",
    "    algozes.append(int(i))\n",
    "print(lista.index(min(lista))+1)"
   ]
  },
  {
   "cell_type": "code",
   "execution_count": 140,
   "metadata": {},
   "outputs": [
    {
     "name": "stdout",
     "output_type": "stream",
     "text": [
      "7\n",
      "LIFE IS\n"
     ]
    }
   ],
   "source": [
    "texto='LIFE IS NOT A PROBLEM TO BE SOLVED'\n",
    "a=list(texto)\n",
    "n=int(input())\n",
    "c=''\n",
    "for i in range(0,n):\n",
    "    c=c+a[i]\n",
    "print(c)"
   ]
  },
  {
   "cell_type": "code",
   "execution_count": 142,
   "metadata": {},
   "outputs": [
    {
     "name": "stdout",
     "output_type": "stream",
     "text": [
      "3\n",
      "11\n",
      "1\n",
      "7\n",
      "1\n",
      "18\n",
      "0\n"
     ]
    }
   ],
   "source": [
    "n=int(input())\n",
    "for i in range(0,n):\n",
    "    z=int(input())\n",
    "    if z%2==1:\n",
    "        print(1)\n",
    "    else:\n",
    "        print(0)"
   ]
  },
  {
   "cell_type": "code",
   "execution_count": 143,
   "metadata": {},
   "outputs": [
    {
     "name": "stdout",
     "output_type": "stream",
     "text": [
      "4\n",
      "Quico PAR Chiquinha IMPAR\n",
      "9 7\n",
      "Quico\n",
      "Dami PAR Marcus IMPAR\n",
      "12 13\n",
      "Marcus\n",
      "Dayran PAR Conrado IMPAR\n",
      "3 1000000000\n",
      "Conrado\n",
      "Popis PAR Chaves IMPAR\n",
      "2 7\n",
      "Chaves\n"
     ]
    }
   ],
   "source": [
    "n=int(input())\n",
    "for i in range(0,n):\n",
    "    a,b,c,d=map(str,input().split())\n",
    "    n1,n2=map(int,input().split())\n",
    "    if (n1+n2)%2==0:\n",
    "        if b=='PAR':\n",
    "            print(a)\n",
    "        else:\n",
    "            print(c)\n",
    "    else:\n",
    "        if b=='IMPAR':\n",
    "            print(a)\n",
    "        else:\n",
    "            print(c)"
   ]
  },
  {
   "cell_type": "code",
   "execution_count": 147,
   "metadata": {},
   "outputs": [
    {
     "name": "stdout",
     "output_type": "stream",
     "text": [
      "11\n",
      "44\n"
     ]
    }
   ],
   "source": [
    "n=int(input())\n",
    "print(int(n*(n-3)/2))"
   ]
  },
  {
   "cell_type": "code",
   "execution_count": 148,
   "metadata": {},
   "outputs": [
    {
     "name": "stdout",
     "output_type": "stream",
     "text": [
      "3\n",
      "a\n",
      "b\n",
      "c\n",
      "Ciencia da Computacao\n"
     ]
    }
   ],
   "source": [
    "n=int(input())\n",
    "for i in range(0,n):\n",
    "    a=input()\n",
    "print('Ciencia da Computacao')"
   ]
  },
  {
   "cell_type": "code",
   "execution_count": 11,
   "metadata": {},
   "outputs": [
    {
     "name": "stdout",
     "output_type": "stream",
     "text": [
      "2 20 200 2000\n",
      "N\n"
     ]
    }
   ],
   "source": [
    "lista=[int(x) for x in input().split()]\n",
    "c=False\n",
    "for i in lista:\n",
    "    for j in lista:\n",
    "        for k in lista:\n",
    "            if i!=j and j!=k and i!=k:\n",
    "                if i<j+k and j<i+k and k<i+j:\n",
    "                    c=True\n",
    "if c:\n",
    "    print(\"S\")\n",
    "else:\n",
    "    print(\"N\")"
   ]
  },
  {
   "cell_type": "code",
   "execution_count": 14,
   "metadata": {},
   "outputs": [
    {
     "name": "stdout",
     "output_type": "stream",
     "text": [
      "2 2 2 2\n",
      "5\n"
     ]
    }
   ],
   "source": [
    "lista=[int(x) for x in input().split()]\n",
    "a,b,c,d=lista\n",
    "print(a+b+c+d-3)"
   ]
  },
  {
   "cell_type": "code",
   "execution_count": 16,
   "metadata": {},
   "outputs": [
    {
     "name": "stdout",
     "output_type": "stream",
     "text": [
      "10 7\n",
      "10\n"
     ]
    }
   ],
   "source": [
    "a,b=map(int,input().split())\n",
    "print(max(a,b))"
   ]
  },
  {
   "cell_type": "code",
   "execution_count": 31,
   "metadata": {},
   "outputs": [
    {
     "name": "stdout",
     "output_type": "stream",
     "text": [
      "16\n",
      "10\n"
     ]
    }
   ],
   "source": [
    "n=int(input())\n",
    "lista=list(hex(n))\n",
    "lista.pop(0)\n",
    "lista.pop(0)\n",
    "c=\"\"\n",
    "for i in lista:\n",
    "    c=c+i.upper()\n",
    "print(c)"
   ]
  },
  {
   "cell_type": "code",
   "execution_count": 90,
   "metadata": {
    "scrolled": true
   },
   "outputs": [
    {
     "name": "stdout",
     "output_type": "stream",
     "text": [
      "-0\n",
      "-0.0000E+00\n"
     ]
    }
   ],
   "source": [
    "z=input()\n",
    "n=float(z)\n",
    "c='%.4e'%n\n",
    "d=list(c)\n",
    "if float(n)>=0:\n",
    "    d[6]=\"E\"\n",
    "    d.insert(0,'+')\n",
    "else:\n",
    "    d[7]=\"E\"\n",
    "e=''\n",
    "for i in d:\n",
    "    e=e+i\n",
    "if z==\"-0\":\n",
    "    print(\"-0.0000E+00\")\n",
    "elif z==\"+0\":\n",
    "    print(\"+0.0000E+00\")\n",
    "else:\n",
    "    print(e)"
   ]
  },
  {
   "cell_type": "code",
   "execution_count": 93,
   "metadata": {},
   "outputs": [
    {
     "name": "stdout",
     "output_type": "stream",
     "text": [
      "1000000 1000\n",
      "1000000000\n"
     ]
    }
   ],
   "source": [
    "n,l=map(int,input().split())\n",
    "print(n*l)"
   ]
  },
  {
   "cell_type": "code",
   "execution_count": 39,
   "metadata": {},
   "outputs": [
    {
     "name": "stdout",
     "output_type": "stream",
     "text": [
      "888\n",
      "DCCCLXXXVIII\n"
     ]
    }
   ],
   "source": [
    "n=int(input())\n",
    "c=''\n",
    "if n>=900:\n",
    "    c=c+'CM'\n",
    "elif n>=500:\n",
    "    c=c+'D'+(int((n-n%100)/100)-5)*'C'\n",
    "elif n>=400:\n",
    "    c=c+'CD'\n",
    "elif n>=100:\n",
    "    c=c+int((n-n%100)/100)*'C'\n",
    "if n%100!=0:\n",
    "    if n%100>=90:\n",
    "        c=c+'XC'\n",
    "    elif n%100>=50:\n",
    "        c=c+'L'+int((n%100-n%10)/10-5)*'X'\n",
    "    elif n%100>=40:\n",
    "        c=c+'XL'\n",
    "    elif n%100>=10:\n",
    "        c=c+int((n%100-n%10)/10)*'X'\n",
    "if n%10!=0:\n",
    "    if n%10>=9:\n",
    "        c=c+'IX'\n",
    "    elif n%10>=5:\n",
    "        c=c+'V'+int(n%10-5)*'I'\n",
    "    elif n%10>=4:\n",
    "        c=c+'IV'\n",
    "    elif n%10>=1:\n",
    "        c=c+int(n%10)*'I'\n",
    "print(c)    "
   ]
  },
  {
   "cell_type": "code",
   "execution_count": 43,
   "metadata": {},
   "outputs": [
    {
     "name": "stdout",
     "output_type": "stream",
     "text": [
      "1 2\n",
      "1 3\n",
      "GAME OVER\n"
     ]
    }
   ],
   "source": [
    "pulo,canos=map(int,input().split())\n",
    "alturac=[int(x) for x in input().split()]\n",
    "c=0\n",
    "for i in range(1,canos):\n",
    "    if abs(alturac[i]-alturac[i-1])>pulo:\n",
    "        c=1\n",
    "if c==0:\n",
    "    print('YOU WIN')\n",
    "else:\n",
    "    print('GAME OVER')"
   ]
  },
  {
   "cell_type": "code",
   "execution_count": 50,
   "metadata": {},
   "outputs": [
    {
     "name": "stdout",
     "output_type": "stream",
     "text": [
      "3\n",
      "10000\n",
      "7986 A.C.\n",
      "15\n",
      "2000 D.C.\n",
      "2015\n",
      "1 A.C.\n"
     ]
    }
   ],
   "source": [
    "for i in range(0,int(input())):\n",
    "    n=int(input())\n",
    "    if n>=2015:\n",
    "        print(abs(n-2015+1),'A.C.')\n",
    "    else:\n",
    "        print(abs(2015-n),'D.C.')"
   ]
  },
  {
   "cell_type": "code",
   "execution_count": 36,
   "metadata": {},
   "outputs": [],
   "source": [
    "def posicao(pos):\n",
    "    teste=[0,1,2,3,4,5,6,7,8,9]\n",
    "    n=int(pos/362880)\n",
    "    c=str(teste[n])\n",
    "    pos=pos-n*362880\n",
    "    teste.remove(teste[n])\n",
    "    \n",
    "    n=int(pos/40320)\n",
    "    c=c+str(teste[n])\n",
    "    pos=pos-n*40320\n",
    "    teste.remove(teste[n])\n",
    "    \n",
    "    n=int(pos/5040)\n",
    "    c=c+str(teste[n])\n",
    "    pos=pos-n*5040\n",
    "    teste.remove(teste[n])\n",
    "    \n",
    "    n=int(pos/720)\n",
    "    c=c+str(teste[n])\n",
    "    pos=pos-n*720\n",
    "    teste.remove(teste[n])\n",
    "    \n",
    "    n=int(pos/120)\n",
    "    c=c+str(teste[n])\n",
    "    pos=pos-n*120\n",
    "    teste.remove(teste[n])\n",
    "    \n",
    "    n=int(pos/24)\n",
    "    c=c+str(teste[n])\n",
    "    pos=pos-n*24\n",
    "    teste.remove(teste[n])\n",
    "    \n",
    "    n=int(pos/6)\n",
    "    c=c+str(teste[n])\n",
    "    pos=pos-n*6\n",
    "    teste.remove(teste[n])\n",
    "    \n",
    "    n=int(pos/2)\n",
    "    c=c+str(teste[n])\n",
    "    pos=pos-n*2\n",
    "    teste.remove(teste[n])\n",
    "    \n",
    "    n=pos\n",
    "    c=c+str(teste[n])\n",
    "    pos=pos-n\n",
    "    teste.remove(teste[n])\n",
    "    \n",
    "    c=c+str(teste[0])\n",
    "    return c"
   ]
  },
  {
   "cell_type": "code",
   "execution_count": 30,
   "metadata": {},
   "outputs": [
    {
     "data": {
      "text/plain": [
       "24"
      ]
     },
     "execution_count": 30,
     "metadata": {},
     "output_type": "execute_result"
    }
   ],
   "source": []
  },
  {
   "cell_type": "code",
   "execution_count": 43,
   "metadata": {},
   "outputs": [
    {
     "data": {
      "text/plain": [
       "'2783915640'"
      ]
     },
     "execution_count": 43,
     "metadata": {},
     "output_type": "execute_result"
    }
   ],
   "source": [
    "posicao(1000001)"
   ]
  },
  {
   "cell_type": "code",
   "execution_count": null,
   "metadata": {},
   "outputs": [],
   "source": []
  }
 ],
 "metadata": {
  "kernelspec": {
   "display_name": "Python 3",
   "language": "python",
   "name": "python3"
  },
  "language_info": {
   "codemirror_mode": {
    "name": "ipython",
    "version": 3
   },
   "file_extension": ".py",
   "mimetype": "text/x-python",
   "name": "python",
   "nbconvert_exporter": "python",
   "pygments_lexer": "ipython3",
   "version": "3.5.2"
  }
 },
 "nbformat": 4,
 "nbformat_minor": 2
}
