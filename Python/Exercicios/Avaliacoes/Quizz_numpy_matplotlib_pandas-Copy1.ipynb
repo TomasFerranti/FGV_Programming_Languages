{
 "cells": [
  {
   "cell_type": "code",
   "execution_count": 4,
   "metadata": {},
   "outputs": [],
   "source": [
    "import numpy as np\n",
    "import matplotlib.pyplot as plt\n",
    "import pandas as pd\n",
    "from IPython.display import clear_output\n",
    "%matplotlib inline"
   ]
  },
  {
   "cell_type": "markdown",
   "metadata": {},
   "source": [
    "1 - Crie um objeto do tipo subplots do matplotlib com 4 eixos, ocupando duas linhas e duas colunas.  \n",
    "Plote em cada eixo as funções seno, cosseno, tangente e cotangente no intervalo de $ -2\\pi $ à $ +2\\pi $  \n",
    "Se necessário, consulte [esta](https://docs.scipy.org/doc/numpy-1.13.0/reference/routines.math.html) página."
   ]
  },
  {
   "cell_type": "code",
   "execution_count": 76,
   "metadata": {},
   "outputs": [
    {
     "data": {
      "image/png": "[encoded data removed]",
      "text/plain": [
       "<Figure size 432x288 with 4 Axes>"
      ]
     },
     "metadata": {},
     "output_type": "display_data"
    }
   ],
   "source": [
    "x1 = np.linspace(-2*np.pi,2*np.pi,100000)\n",
    "y=[np.sin(x1),np.cos(x1),np.tan(x1),np.cos(x1)/np.sin(x1)]\n",
    "for n in range(1, 5):           \n",
    "    plt.subplot(2, 2, n)\n",
    "    if n<3:\n",
    "        plt.plot(x1,y[n-1])\n",
    "    else:        \n",
    "        plt.plot(x1,y[n-1])\n",
    "        plt.ylim(-5,5)\n",
    "plt.show()\n",
    "#x1 = np.linspace(-np.pi,np.pi,4000)\n",
    "#x2 = np.linspace(-np.pi/2+0.1,np.pi/2-0.1,4000)\n",
    "#x3 = np.linspace(0.1,np.pi-0.1,4000)\n",
    "#y=[np.sin(x1),np.cos(x1),np.tan(x2),np.cos(x3)/np.sin(x3)]\n",
    "#for n in range(1, 5):           \n",
    "#    plt.subplot(2, 2, n) \n",
    "#    if n<=2:\n",
    "#        plt.plot(x1,y[n-1])\n",
    "#    else:\n",
    "#        if n==3:\n",
    "#            plt.plot(x2,y[n-1])\n",
    "#        else:\n",
    "#            plt.plot(x3,y[n-1])\n",
    "#plt.show()"
   ]
  },
  {
   "cell_type": "markdown",
   "metadata": {},
   "source": [
    "2 - Crie objetos [Matrix](https://docs.scipy.org/doc/numpy/reference/generated/numpy.matrix.html) e [Array](https://docs.scipy.org/doc/numpy-1.15.1/reference/generated/numpy.array.html) a partir das listas criadas abaixo.  \n",
    "Mostre que a multiplicação dos objetos Array e Matrix apresentam resultados diferentes."
   ]
  },
  {
   "cell_type": "code",
   "execution_count": 54,
   "metadata": {},
   "outputs": [],
   "source": [
    "lista1 = [[1,5,3],[3,-6,1],[4,8,9]] \n",
    "lista2 = [[1,3,3],[2,6,8],[1,1,-9]]"
   ]
  },
  {
   "cell_type": "code",
   "execution_count": 58,
   "metadata": {},
   "outputs": [
    {
     "name": "stdout",
     "output_type": "stream",
     "text": [
      "[[  1  15   9]\n",
      " [  6 -36   8]\n",
      " [  4   8 -81]]\n",
      "[[ 14  36  16]\n",
      " [ -8 -26 -48]\n",
      " [ 29  69  -5]]\n"
     ]
    }
   ],
   "source": [
    "A=np.array(lista1)\n",
    "B=np.array(lista2)\n",
    "C=np.matrix(lista1)\n",
    "D=np.matrix(lista2)\n",
    "print(A*B)\n",
    "print(C*D)"
   ]
  },
  {
   "cell_type": "markdown",
   "metadata": {},
   "source": [
    "3 - Transforme um dos objetos Array anteriormente criados em um objeto [DataFrame](https://pandas.pydata.org/pandas-docs/stable/generated/pandas.DataFrame.html) do [Pandas](http://pandas.pydata.org/), utilizando como índices das linhas e como título das colunas os valores das listas criadas abaixo, respectivamente.   "
   ]
  },
  {
   "cell_type": "code",
   "execution_count": 59,
   "metadata": {},
   "outputs": [],
   "source": [
    "linhas = ['linha1', 'linha2', 'linha3']\n",
    "colunas = ['coluna1','coluna2', 'coluna2']  "
   ]
  },
  {
   "cell_type": "code",
   "execution_count": 62,
   "metadata": {},
   "outputs": [
    {
     "data": {
      "text/html": [
       "<div>\n",
       "<style scoped>\n",
       "    .dataframe tbody tr th:only-of-type {\n",
       "        vertical-align: middle;\n",
       "    }\n",
       "\n",
       "    .dataframe tbody tr th {\n",
       "        vertical-align: top;\n",
       "    }\n",
       "\n",
       "    .dataframe thead th {\n",
       "        text-align: right;\n",
       "    }\n",
       "</style>\n",
       "<table border=\"1\" class=\"dataframe\">\n",
       "  <thead>\n",
       "    <tr style=\"text-align: right;\">\n",
       "      <th></th>\n",
       "      <th>coluna1</th>\n",
       "      <th>coluna2</th>\n",
       "      <th>coluna2</th>\n",
       "    </tr>\n",
       "  </thead>\n",
       "  <tbody>\n",
       "    <tr>\n",
       "      <th>linha1</th>\n",
       "      <td>1</td>\n",
       "      <td>5</td>\n",
       "      <td>3</td>\n",
       "    </tr>\n",
       "    <tr>\n",
       "      <th>linha2</th>\n",
       "      <td>3</td>\n",
       "      <td>-6</td>\n",
       "      <td>1</td>\n",
       "    </tr>\n",
       "    <tr>\n",
       "      <th>linha3</th>\n",
       "      <td>4</td>\n",
       "      <td>8</td>\n",
       "      <td>9</td>\n",
       "    </tr>\n",
       "  </tbody>\n",
       "</table>\n",
       "</div>"
      ],
      "text/plain": [
       "        coluna1  coluna2  coluna2\n",
       "linha1        1        5        3\n",
       "linha2        3       -6        1\n",
       "linha3        4        8        9"
      ]
     },
     "execution_count": 62,
     "metadata": {},
     "output_type": "execute_result"
    }
   ],
   "source": [
    "frame = pd.DataFrame(lista1, columns=colunas,\n",
    "                      index=linhas)\n",
    "frame"
   ]
  },
  {
   "cell_type": "markdown",
   "metadata": {},
   "source": [
    "4 - Exporte este DataFrame criado para um arquivo em formato html"
   ]
  },
  {
   "cell_type": "code",
   "execution_count": 64,
   "metadata": {},
   "outputs": [
    {
     "data": {
      "text/plain": [
       "'<table border=\"1\" class=\"dataframe\">\\n  <thead>\\n    <tr style=\"text-align: right;\">\\n      <th></th>\\n      <th>coluna1</th>\\n      <th>coluna2</th>\\n      <th>coluna2</th>\\n    </tr>\\n  </thead>\\n  <tbody>\\n    <tr>\\n      <th>linha1</th>\\n      <td>1</td>\\n      <td>5</td>\\n      <td>3</td>\\n    </tr>\\n    <tr>\\n      <th>linha2</th>\\n      <td>3</td>\\n      <td>-6</td>\\n      <td>1</td>\\n    </tr>\\n    <tr>\\n      <th>linha3</th>\\n      <td>4</td>\\n      <td>8</td>\\n      <td>9</td>\\n    </tr>\\n  </tbody>\\n</table>'"
      ]
     },
     "execution_count": 64,
     "metadata": {},
     "output_type": "execute_result"
    }
   ],
   "source": [
    "frame.to_html()"
   ]
  }
 ],
 "metadata": {
  "kernelspec": {
   "display_name": "Python 3",
   "language": "python",
   "name": "python3"
  },
  "language_info": {
   "codemirror_mode": {
    "name": "ipython",
    "version": 3
   },
   "file_extension": ".py",
   "mimetype": "text/x-python",
   "name": "python",
   "nbconvert_exporter": "python",
   "pygments_lexer": "ipython3",
   "version": "3.5.2"
  }
 },
 "nbformat": 4,
 "nbformat_minor": 2
}
