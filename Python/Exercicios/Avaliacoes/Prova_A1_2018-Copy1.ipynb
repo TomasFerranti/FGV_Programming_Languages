{
 "cells": [
  {
   "cell_type": "markdown",
   "metadata": {},
   "source": [
    "A1 de Linguagens de Programação – 19/09/2018\n",
    "--\n",
    "Professor: Renato Rocha Souza  \n",
    "--"
   ]
  },
  {
   "cell_type": "markdown",
   "metadata": {},
   "source": [
    "Nome do Aluno(a):"
   ]
  },
  {
   "cell_type": "code",
   "execution_count": 28,
   "metadata": {},
   "outputs": [
    {
     "name": "stdout",
     "output_type": "stream",
     "text": [
      "Entre com o seu nome completo: Tomás\n",
      "Olá, Tomás!\n",
      "Bom trabalho!\n"
     ]
    }
   ],
   "source": [
    "meu_nome = input('Entre com o seu nome completo: ')\n",
    "print('Olá, {}!'.format(meu_nome))\n",
    "print('Bom trabalho!')"
   ]
  },
  {
   "cell_type": "code",
   "execution_count": 1,
   "metadata": {},
   "outputs": [],
   "source": [
    "# Somente estes módulos podem ser importados para a realização das questões\n",
    "import numpy as np\n",
    "import matplotlib.pyplot as plt\n",
    "import random\n",
    "import re\n",
    "import string\n",
    "import time\n",
    "from IPython.display import clear_output\n",
    "%matplotlib inline"
   ]
  },
  {
   "cell_type": "markdown",
   "metadata": {},
   "source": [
    "Questão 1 (2.5 pontos)  \n",
    "\n",
    "Partindo do código abaixo, escreva comandos para realizar as seguintes tarefas:  \n",
    "a) Crie uma função genérica para construir um dicionário de frequências de palavras de um texto (string), passado como parâmetro. Aplique a função ao texto;  \n",
    "b) Identifique os candidatos a nomes próprios no texto;  \n",
    "c) Imagine que o texto seja constituído pela soma de suas letras, com repetições. Com esta \"caixa de letras\", quantas vezes você conseguiria escrever seu nome completo? Use as letras da variável meu_nome, sem os espaços em branco.  \n",
    "d) Identifique as palavras que só ocorrem uma vez;  \n",
    "e) Crie código para salvar os resultados em um arquivo chamado \"respostas_q1.txt\" no computador.  "
   ]
  },
  {
   "cell_type": "code",
   "execution_count": 2,
   "metadata": {},
   "outputs": [],
   "source": [
    "with open('../../Dados/DomCasmurroMachadoAssis.txt', 'r', encoding='utf-8') as f:\n",
    "    texto = f.read()"
   ]
  },
  {
   "cell_type": "code",
   "execution_count": 46,
   "metadata": {},
   "outputs": [
    {
     "name": "stdout",
     "output_type": "stream",
     "text": [
      "10385\n"
     ]
    }
   ],
   "source": [
    "dictpalavras={}\n",
    "for k in texto.split():\n",
    "    k=k.strip(string.punctuation)\n",
    "    k=k.lower()\n",
    "    if k in dictpalavras:\n",
    "        dictpalavras[k]+=1\n",
    "    else:\n",
    "        dictpalavras[k]=1\n",
    "print(dictpalavras)"
   ]
  },
  {
   "cell_type": "code",
   "execution_count": 26,
   "metadata": {},
   "outputs": [
    {
     "name": "stdout",
     "output_type": "stream",
     "text": [
      "{'Criméa': 2, 'Petropolis': 2, 'Project': 80, 'Sua': 3, 'Mostrar': 1, 'Portuguese': 1, 'Quadro': 1, 'Catumby': 1, 'Lage': 1, 'Vão': 1, 'Abril': 1, 'Pobres': 2, 'Free': 2, 'Consentiu': 1, 'Falava': 1, 'Des': 2, 'Senhora': 1, 'Uma': 25, 'Certíssima': 1, 'Se': 5, 'Já': 2, 'Vida': 1, 'Concertou': 1, 'Virtudes': 1, 'Acceito': 2, 'Corcovado': 1, 'Historia': 2, 'Terms': 2, 'Julio': 1, 'Quanto': 1, 'Bastos': 1, 'Queres': 1, 'Tivemos': 1, 'Pyramides': 1, 'Rothschild': 1, 'Language': 1, 'Prazo': 2, 'Outubro': 1, '1.F.3': 4, 'Santa-Cruz': 1, 'Jura': 1, 'Ande': 1, 'Vae': 2, 'Benguella': 1, 'Destino': 1, 'Olha': 3, 'Um': 28, 'Archive': 13, 'Tudo': 2, 'Nhonhô': 1, 'Quem': 8, 'Verdade': 2, 'Souza': 2, 'No': 6, 'Sinházinha': 1, 'Imitar': 1, 'Cinco': 2, 'Pedir': 1, 'Wagner': 1, 'Estas': 1, 'Venho': 1, 'Dalloz': 1, 'Mando': 1, 'Catão': 1, 'Conheci': 1, 'Justamente': 2, 'City': 1, 'Alaska': 1, 'Dei': 1, 'Cosmo': 1, 'Nada': 1, 'Senado': 2, 'Cidade-Nova': 1, 'Espere': 1, 'Mastai': 1, 'Feijó': 1, 'Aurora': 1, 'Satanaz': 5, 'Pernambuco': 1, 'Mulheres': 1, 'Cabo': 1, 'Sensações': 2, 'Chega': 1, 'Escobares': 1, 'Laura': 2, 'Executive': 1, 'You': 5, 'Ponhamos': 1, 'Dentro': 1, 'Natal': 2, 'For': 1, 'Depois': 3, 'Intimidade': 2, 'Miquelina': 1, 'Pedro': 5, 'Apparentemente': 1, 'Póde': 1, 'Constituinte': 1, 'Nossa': 1, 'Director': 1, 'Na': 5, 'Priamo': 1, 'Sr': 11, 'Shakespeare': 1, 'B': 1, 'Papae': 5, 'Quasi': 1, '1.E.7': 2, 'V': 2, 'Michael': 1, 'Genesis': 1, 'Creio': 2, 'Gabriel': 1, 'Box': 1, 'Bordéos': 1, 'Redistributing': 1, 'Cesar': 7, 'Excellentissima': 3, 'É': 18, 'Escocia': 1, 'Princeza': 1, 'S': 23, 'Vem': 1, 'Campo': 1, 'Contaria': 1, 'Desdemona': 4, 'Talvez': 2, 'Barbonos': 3, 'Priamos': 1, 'Maria': 1, 'Sancha': 29, 'Candelaria': 1, 'Chief': 1, 'Images': 2, 'Ora': 6, 'Olhei': 1, 'Positivamente': 1, 'Timidez': 1, 'Permanentes': 1, 'Ouvidor': 1, 'Mission': 1, 'Bento': 1, 'Walter': 1, 'Eliphaz': 1, 'Santissimo': 5, 'Criado': 1, 'Elle': 1, 'Punhado': 2, 'Novembro': 3, 'Vaticano': 1, 'Use': 2, 'Anterior': 2, 'Acho': 1, 'Right': 1, 'Benção': 1, 'Escobar': 76, 'Fazer': 1, 'Dê': 1, 'Voltas': 1, 'Paulo': 2, 'Ahi': 1, 'Juro': 3, 'Robespierre': 1, 'Lindissimo': 1, 'Brasil': 3, 'Muito': 1, 'Experimentemos': 1, 'Defects': 1, 'Homeros': 1, 'Vossa': 2, 'Sabia': 1, 'Costa': 2, 'Santidade': 1, 'Escola': 6, 'End': 1, 'Estou': 1, 'Ora!»': 1, 'Lisboa': 1, 'Norte': 1, 'Chianti': 1, 'Grecia': 1, 'Esquece': 1, 'Homem': 1, 'Quitanda': 2, 'Prompto': 1, 'Algum': 1, 'Sandia': 2, 'Suissa': 2, 'Ideia': 2, 'October': 1, 'Ha': 5, 'Eva': 1, 'Except': 1, 'Franklin': 1, 'Eis': 1, 'Abane': 2, 'Capitúsinha': 1, 'Atlantico': 1, 'Monica': 7, 'Medicina': 3, 'Bentinho...»': 1, 'Estados-Unidos': 1, 'Isaac': 1, 'Quiz': 1, 'Section': 5, 'Enxuguei': 1, 'Corityba': 1, 'Fulo': 1, 'C': 1, 'Macbeth!»--«Tu': 1, 'Bentinho!»': 3, 'Juramento': 2, 'Municipaes': 1, '1.A': 1, 'Sabbado': 1, 'Minas': 1, 'Italia': 2, 'America': 1, 'Escriptura': 7, 'D': 32, 'Providencia': 1, 'Março': 2, 'Matacavallos.»': 1, 'Invalidos': 7, 'Era': 9, 'Duvidas': 2, 'Estados': 1, 'Deus.»': 1, 'Deus': 61, 'Padre': 4, 'Assis': 3, 'Majestade': 3, 'Lucrecia': 1, 'Como': 9, 'Alencar': 1, 'Quando': 5, 'Branco': 1, 'Tijolos': 1, 'Orgãos': 1, 'Gutenberg': 28, 'Luciano': 2, 'Seremos': 1, 'Grande': 1, 'Paula': 1, 'Lopes': 2, 'Vê': 1, 'Entretanto': 1, 'Novo': 9, 'Desculpe': 1, 'Web': 3, 'Scismando': 2, 'Meu': 2, 'Donations': 1, 'H': 1, 'Anda': 2, 'Joãosinho': 1, 'Para': 2, 'Cosme': 55, 'Gloria': 30, 'Correcção': 1, 'Violas': 1, 'Entre': 3, 'Contado': 2, 'Revenue': 1, 'Rita': 1, 'Santos': 1, 'Rinovalatte': 1, 'Prometto': 1, 'Thetis': 2, '1.E.1': 5, 'Janeiro': 6, 'Marc': 2, 'Trademark': 1, 'Applique': 1, 'Ouço': 2, 'O': 63, 'U.S': 6, 'Ia': 1, 'Azevedo': 1, 'Preciso': 1, 'Ariosto': 1, 'Lapa': 3, 'Job': 1, 'Queria': 1, 'Portanto': 1, 'Fernandes': 2, 'Othello': 5, 'Outra': 2, 'West': 1, 'While': 1, 'Logo': 1, 'Mas': 19, 'Eden': 1, 'São': 3, 'Windsor': 1, 'Ao': 5, 'Diga': 4, 'Arcos': 1, 'Comprido': 1, 'Europa': 22, 'Deixa': 2, 'Itaguahy': 4, 'Ainda': 1, 'Incommodo': 1, 'Ezequiel?»': 1, 'Dias': 151, 'Justina': 52, 'Caro': 1, 'Você': 15, 'Nero': 2, 'Freire': 1, 'Vejam': 1, 'Olhe': 1, 'Gloria!»': 1, 'Querido': 2, 'Ja': 1, 'Ninguem': 1, 'Temos': 1, 'Scott': 1, 'Gorda': 1, 'Date': 1, 'Miguel': 1, 'Rhenania': 1, 'Bahia': 2, 'Abrahão': 1, 'Plutarcho': 2, 'Só': 3, 'Sempre': 2, 'Assim': 5, 'Chora': 2, 'Alvares': 1, 'Andarahy': 6, 'Sei': 1, 'Constantinopla': 1, 'Fairbanks': 2, 'Tal': 1, 'Prima': 7, 'Tornariam': 1, 'Ellas': 1, 'Amai': 2, 'Ciumes': 2, 'Abel': 1, 'Vou': 3, 'Raphael': 1, 'Baptista': 1, 'Vim': 1, 'Casa': 1, 'Segredo': 3, 'Medo': 1, 'Flamengo': 10, 'Usavamos': 1, 'Isto': 2, 'Dante': 2, 'Tio': 5, 'Os': 13, 'Agora': 4, 'A': 74, 'Turquia': 3, 'Produced': 2, 'Agostinho': 1, 'Porque': 3, 'Maioridade': 1, 'Iria': 1, 'Barros': 1, 'Em': 8, 'The': 2, 'Escola.»': 1, 'Sou': 4, 'Camões': 2, 'Plain': 2, 'Está': 6, 'Nem': 4, 'Repeti': 1, 'Mande': 1, 'Contra': 1, 'Offereceu': 1, 'Oh': 3, 'Constantinopla!»': 3, 'Grieux': 2, 'Vulgata': 1, 'Santissima': 1, 'Veja': 3, 'Adiemos': 2, 'Venhamos': 2, 'Fiquei': 3, 'Virgem': 2, 'Updated': 1, 'License': 10, 'Ullysses': 1, 'Mil': 2, 'Parei': 1, 'Trabalhei': 1, 'Albuquerque': 1, 'Imperial': 1, 'Esperança': 1, 'Marcolini': 2, 'If': 1, 'Disse': 1, 'Refund': 1, 'Albuquerques': 1, 'Thomaz': 1, 'Borges': 1, 'Relê': 1, 'I': 2, 'Jerusalem': 1, 'Dá': 1, 'Não': 64, 'Capitulo': 1, 'Pio': 2, 'Mamãe': 14, 'Passeio': 6, 'Marte': 4, 'Dom': 8, 'Napoleão': 1, 'Sirius': 4, 'Prazer': 2, 'Mano': 2, '1.E.9': 2, 'Vamos': 7, 'Amigos': 2, 'Machado': 3, 'José': 111, 'Vintem': 1, 'Digital': 2, 'General': 1, 'Toda': 2, 'Ar': 1, 'Engenho': 9, 'Matacavallos...»': 1, 'Platão': 2, 'Paraná': 2, 'Leitor': 2, 'Acclamação': 1, 'Todo': 1, 'Salt': 1, 'Conto': 1, 'João': 7, 'Tambem': 4, 'Capitú.»': 1, 'Aljube': 1, 'Realmente': 2, 'Casmurro': 8, 'Luiz': 2, 'Pois': 12, 'Service': 1, 'Digo': 1, 'Nanata': 1, 'Foi': 5, 'Aquillo': 1, 'Medroso': 1, 'Bibliotheca': 2, 'Junqueira': 1, 'Amanhã': 1, 'Carmo': 1, 'Manduca': 16, 'Primo': 1, 'Evangelho': 1, 'Quer': 1, 'Olympio': 1, 'Rio': 8, 'Terror': 1, 'Vá': 3, 'Deixe': 1, '1.E.8': 3, 'Panegyrico': 13, 'Eu': 13, 'Homero': 5, 'Dr': 1, 'Suppuz': 1, 'Fica': 2, 'Senhor': 9, 'Justtina': 1, 'Alexandre': 1, \"D'Hooghe\": 2, 'Então': 4, 'Segundo': 2, 'This': 5, 'Hoje': 3, 'To': 1, 'Mette': 1, 'Bondade': 1, 'L': 1, 'Coroação': 2, 'Coitado': 1, 'Antonio': 2, 'Manual': 1, 'Tem': 2, 'Conceição': 2, 'Brazil': 1, 'Pensei': 1, 'Suburbios': 1, 'Capella': 1, 'United': 15, 'Perfeitamente': 1, 'Achado': 2, 'Protonotario': 1, 'Aguente': 1, 'Publico': 5, 'Devia': 1, 'Sabes': 1, 'Beata': 1, 'Sirach': 1, 'Release': 1, 'Author': 1, 'Padua': 26, 'Biblia': 2, 'Heitor': 1, 'Chamado': 2, 'Ver': 1, 'Isso': 1, 'Achilles': 2, 'Russia': 2, 'Ou': 1, 'Fausto': 1, 'Pescadores': 1, 'Gosta': 1, 'About': 1, 'Mississippi': 1, 'Santa': 10, 'Sim': 7, 'Por': 2, 'Santiago.»': 1, 'Moçambique': 1, 'Roma': 6, '1.E': 1, 'Desta': 1, 'Lá': 1, 'Gurgel': 8, 'Levo': 1, 'Reverendissimo': 1, 'Neste': 1, 'Eterno': 1, 'Da': 1, 'Sections': 1, 'Melhor': 1, 'Santo': 3, 'Defect': 1, 'Trepliquei': 1, 'Bentinho': 47, 'Povo': 1, 'Volta': 2, 'Mandar': 1, 'Peça': 1, 'Fui': 1, 'Do': 3, 'Vanilla': 2, 'Tartaruga': 2, 'Visão': 1, 'North': 1, '1.C': 1, 'Tenho': 2, 'Ezequiel': 40, 'Sem': 3, 'Central': 3, 'Pilatos': 1, 'Esta': 1, 'De': 8, 'Problema': 1, 'Ashaverus': 2, 'Morreu': 2, 'In': 1, 'Minha': 3, 'Ouviu': 1, 'Estará': 1, 'Gonçalves': 1, 'Epistola': 1, 'States': 15, 'Cantagallo': 1, 'Parece': 4, 'Explicação': 2, 'Mana': 2, 'Cantico': 3, 'Posso': 1, 'Santiago': 7, 'Olhos': 4, 'Vedes': 1, 'Nunca': 2, 'Sanchinha': 5, 'Tijuca': 3, 'Capitú': 260, 'Pouco': 1, 'Sacramento': 1, 'Todos': 1, 'Fillipinas': 1, 'Rio-Grande': 1, 'Damião': 1, 'Literature': 2, 'Visita': 2, 'Acceitei': 1, 'Levas': 1, 'Rasgos': 2, 'Pae': 1, 'Ouvimos': 1, 'Lake': 1, 'Embargos': 2, 'Cabral': 28, 'E': 28, 'Alembra': 1, 'Filho': 3, 'Sinhásinha': 2, 'Egypto': 2, 'Matacavallos': 21, 'Adão': 1, 'Literary': 13, 'Convivas': 2, 'Ella': 2, 'Palestina': 1, 'Meia-Ponte': 1, 'Aqui': 1, 'Tu': 9, 'Desmosthenes': 1, 'Muitos': 1, 'Joanna': 1, 'Tacito': 1, 'Foundation': 21, 'Terra-Santa': 2, 'Information': 2, 'Theresa': 2, 'Vocês': 1, 'Pereira': 2, 'Nacional': 2, 'Ideias': 2, 'Perguntou': 1, 'Internal': 1, 'Quatro': 1, 'Que': 25, 'Estavamos': 1, 'As': 13, 'X': 2, 'Tinha': 4, 'Nosso': 3, 'Horas': 1, 'Cattete': 5, 'Dez': 2, 'Full': 1, 'Brute': 1, 'Massinissa': 3, 'Santíssimo': 1, 'Iago': 4, 'Poncio': 1, 'Cuidei': 2, 'Metades': 2, 'Vi': 1, 'Conservou': 1, 'Ah': 5, 'Fosse': 1, 'Este': 3, 'Reverendíssima': 1, 'Augusto': 2, 'Pandora': 2, 'Rodriguez': 2, 'Holmes': 1, 'Nesse': 1, 'Estrada': 1, 'Babylonia': 1, 'Replacement': 1}\n"
     ]
    }
   ],
   "source": [
    "a=texto.split()\n",
    "nomesproprios={}\n",
    "for k in range(1,len(a)):\n",
    "    l=a[k]\n",
    "    l=l.strip(string.punctuation+\"«\")\n",
    "    if (not a[k-1].endswith(\".\")) and l.istitle():\n",
    "        if l in nomesproprios:\n",
    "            nomesproprios[l]+=1\n",
    "        else:\n",
    "            nomesproprios[l]=1\n",
    "print(nomesproprios)"
   ]
  },
  {
   "cell_type": "code",
   "execution_count": 42,
   "metadata": {},
   "outputs": [
    {
     "name": "stdout",
     "output_type": "stream",
     "text": [
      "39964\n",
      "19982\n"
     ]
    }
   ],
   "source": [
    "#fazendo sem considerar maiúsculas, se não perde a graça\n",
    "b=texto.split()\n",
    "dictletras={}\n",
    "meu_nome='aa'\n",
    "for k in b:\n",
    "    k=k.strip(string.punctuation)\n",
    "    for l in k:\n",
    "        l=l.lower()\n",
    "        if l in dictletras:\n",
    "            dictletras[l]+=1\n",
    "        else:\n",
    "            dictletras[l]=1\n",
    "dictmeunome={}\n",
    "for k in meu_nome:\n",
    "    if k in dictmeunome:\n",
    "        dictmeunome[k]+=1\n",
    "    else:\n",
    "        dictmeunome[k]=1\n",
    "for k in dictmeunome:\n",
    "    if not k in dictletras:\n",
    "        quantidade=0\n",
    "        break\n",
    "    else:\n",
    "        quantidade=1\n",
    "if quantidade==1:\n",
    "    c=0\n",
    "    for k in dictmeunome:\n",
    "        if c==0:\n",
    "            quantidade=int(dictletras[k]/dictmeunome[k])\n",
    "            c+=1\n",
    "        else:\n",
    "            quantidadeteste=int(dictletras[k]/dictmeunome[k])\n",
    "            if quantidadeteste<quantidade:\n",
    "                quantidade=quantidadeteste\n",
    "print(quantidade)"
   ]
  },
  {
   "cell_type": "code",
   "execution_count": 45,
   "metadata": {},
   "outputs": [
    {
     "name": "stdout",
     "output_type": "stream",
     "text": [
      "5900\n"
     ]
    }
   ],
   "source": [
    "dictpalavras={}\n",
    "for k in texto.split():\n",
    "    k=k.strip(string.punctuation)\n",
    "    k=k.lower()\n",
    "    if k in dictpalavras:\n",
    "        dictpalavras[k]+=1\n",
    "    else:\n",
    "        dictpalavras[k]=1\n",
    "palavrasumavez=[]\n",
    "for k in dictpalavras:\n",
    "    if dictpalavras[k]==1:\n",
    "        palavrasumavez.append(k)\n",
    "print(palavrasumavez)"
   ]
  },
  {
   "cell_type": "code",
   "execution_count": 56,
   "metadata": {},
   "outputs": [],
   "source": [
    "f = open('respostas_q1.txt', mode='w', encoding='utf-8')\n",
    "f.write('Letra a:\\n')\n",
    "for k in dictpalavras:\n",
    "    f.write(k)\n",
    "    f.write(' : ')\n",
    "    f.write(str(dictpalavras[k]))\n",
    "    f.write('\\n')\n",
    "f.write('\\n')\n",
    "f.write('----------------------------------------------------------------------------------\\n')\n",
    "f.write('Letra b:\\n')\n",
    "for k in nomesproprios:\n",
    "    f.write(k)\n",
    "    f.write(' : ')\n",
    "    f.write(str(nomesproprios[k]))\n",
    "    f.write('\\n')\n",
    "f.write('\\n')\n",
    "f.write('----------------------------------------------------------------------------------\\n')\n",
    "f.write('Letra c:\\n')\n",
    "f.write('Nome: ')\n",
    "f.write(meu_nome)\n",
    "f.write('\\n')\n",
    "f.write(str(quantidade))\n",
    "f.write('\\n')\n",
    "f.write('----------------------------------------------------------------------------------\\n')\n",
    "f.write('Letra d:\\n')\n",
    "for k in palavrasumavez:\n",
    "    f.write(k)\n",
    "    f.write(str(k))\n",
    "    f.write('\\n')\n",
    "f.close()"
   ]
  },
  {
   "cell_type": "markdown",
   "metadata": {},
   "source": [
    "Questão 2 (2.0 pontos)  \n",
    "\n",
    "Seja d(n) definido como a suma dos divisores inteiros de n. Se d(a) = b e d(b) = a, sendo a ≠ b, então a e b são um \"par amigável\" de números.  \n",
    "\n",
    "Por exemplo, os divisores inteiros de 220 são 1, 2, 4, 5, 10, 11, 20, 22, 44, 55 e 110; então d(220) = 284.  \n",
    "Os divisores inteiros de 284 são 1, 2, 4, 71 e 142; então d(284) = 220.  \n",
    "\n",
    "Encontre todos os \"pares amigáveis\" de números menores que 20000.  Crie uma lista de tuplas com esses pares.  "
   ]
  },
  {
   "cell_type": "code",
   "execution_count": 72,
   "metadata": {},
   "outputs": [
    {
     "data": {
      "text/plain": [
       "[(6, 6),\n",
       " (28, 28),\n",
       " (220, 284),\n",
       " (284, 220),\n",
       " (496, 496),\n",
       " (1184, 1210),\n",
       " (1210, 1184),\n",
       " (2620, 2924),\n",
       " (2924, 2620),\n",
       " (5020, 5564),\n",
       " (5564, 5020),\n",
       " (6232, 6368),\n",
       " (6368, 6232),\n",
       " (8128, 8128),\n",
       " (10744, 10856),\n",
       " (10856, 10744),\n",
       " (12285, 14595),\n",
       " (14595, 12285),\n",
       " (17296, 18416),\n",
       " (18416, 17296)]"
      ]
     },
     "execution_count": 72,
     "metadata": {},
     "output_type": "execute_result"
    }
   ],
   "source": [
    "#Demora um pouquinho\n",
    "def somadivisores(n):\n",
    "    lista=[]\n",
    "    for k in range(1,int(n/2)+1):\n",
    "        if n%k==0:\n",
    "            lista.append(k)   \n",
    "    return sum(lista)\n",
    "paresamigaveis=[]\n",
    "for k in range(1,20000):\n",
    "    l=somadivisores(k)\n",
    "    j=somadivisores(l)\n",
    "    if k==j:\n",
    "        paresamigaveis.append((k,l))\n",
    "print(paresamigaveis)"
   ]
  },
  {
   "cell_type": "markdown",
   "metadata": {},
   "source": [
    "Questão 3 (2.5 pontos)  \n",
    "\n",
    "Usando funções geradoras, crie um objeto que emule um dado de oito faces (1-8) que seja viciado, de tal forma que a probabilidade desta função geradora retornar certo valor seja proporcional ao próprio valor (por exemplo, a face 6 é 3 vezes mais provável de sair do que a face 2).  \n",
    "\n",
    "(a) Usando os comandos plt.plot ou plt.hist, mostre graficamente o resultado de 10000 lançamentos;  \n",
    "(b) Modifique esta função geradora de forma que ela termine automaticamente quando todos os valores possíveis (1,2,3,4,5,6,7,8) tiverem sido retornados pelo menos uma vez. Neste caso, ela retornará o tempo absoluto total que ocorreu desde a primeira iteração.  "
   ]
  },
  {
   "cell_type": "code",
   "execution_count": 101,
   "metadata": {},
   "outputs": [
    {
     "data": {
      "text/plain": [
       "[<matplotlib.lines.Line2D at 0x7f045ec7acf8>]"
      ]
     },
     "execution_count": 101,
     "metadata": {},
     "output_type": "execute_result"
    },
    {
     "data": {
      "image/png": "[encoded data removed]",
      "text/plain": [
       "<Figure size 432x288 with 1 Axes>"
      ]
     },
     "metadata": {},
     "output_type": "display_data"
    }
   ],
   "source": [
    "lista=[1,2,2,3,3,3,4,4,4,4,5,5,5,5,5,6,6,6,6,6,6,7,7,7,7,7,7,7,8,8,8,8,8,8,8,8]\n",
    "def gerador():\n",
    "    while True:\n",
    "        k=random.choice(lista)\n",
    "        yield k\n",
    "x=np.arange(0,10000)\n",
    "y=[]\n",
    "k=gerador()\n",
    "for i in range(0,10000):\n",
    "    y.append(next(k))\n",
    "y.sort()\n",
    "plt.plot(x,y)"
   ]
  },
  {
   "cell_type": "code",
   "execution_count": 137,
   "metadata": {},
   "outputs": [],
   "source": [
    "def gerador():\n",
    "    lista=[1,2,2,3,3,3,4,4,4,4,5,5,5,5,5,6,6,6,6,6,6,7,7,7,7,7,7,7,8,8,8,8,8,8,8,8]\n",
    "    lista1=[1,2,3,4,5,6,7,8]\n",
    "    agora=time.time()\n",
    "    while lista1!=[]:\n",
    "        k=random.choice(lista)\n",
    "        if k in lista1:\n",
    "            lista1.remove(k)\n",
    "        yield(k)\n",
    "    yield(time.time() - agora)"
   ]
  },
  {
   "cell_type": "code",
   "execution_count": 138,
   "metadata": {},
   "outputs": [],
   "source": [
    "gen1=gerador()"
   ]
  },
  {
   "cell_type": "code",
   "execution_count": 159,
   "metadata": {},
   "outputs": [
    {
     "data": {
      "text/plain": [
       "6"
      ]
     },
     "execution_count": 159,
     "metadata": {},
     "output_type": "execute_result"
    }
   ],
   "source": [
    "next(gen1)"
   ]
  },
  {
   "cell_type": "markdown",
   "metadata": {},
   "source": [
    "Questão 4 (3.0 pontos)   \n",
    "\n",
    "Crie uma classe chamada \"Elevador\" que recebe, ao instanciada, o número de andares do edifício e inicia no andar mais baixo.  \n",
    "Crie métodos e propriedades para permitir que o elevador:  \n",
    "- Receba uma chamada (usuário aperta um botão em um andar);  \n",
    "- Receba um andar como destino (usuários apertam botões dentro do elevador);  \n",
    "- Informe em qual andar o elevador está;  \n",
    "- Informe a sequência de andares ainda por visitar;\n",
    "- Informe a quantidade de vezes que parou em cada andar (passar pelo andar sem \"parar\" no andar não conta);  \n",
    "\n",
    "Leve em consideração que cada deslocamento de andar demora 3 segundos.  \n",
    "Simule o comportamento do elevador atendendo à dez usuários, que têm andar de origem, andar de destino e sequência de chegada (fora e dentro do elevador) definidos aleatóriamente.  "
   ]
  },
  {
   "cell_type": "code",
   "execution_count": 1608,
   "metadata": {},
   "outputs": [],
   "source": [
    "class elevador:\n",
    "    def __init__(self,n):\n",
    "        self.qandar=n\n",
    "        self.andara=0\n",
    "        self.andaravisitar=[]\n",
    "        self.hist=[0 for i in range(0,n+1)]\n",
    "        self.histo=[0]\n",
    "        self.c=0\n",
    "        self.status=0\n",
    "        self.simulacaocond=False\n",
    "        \n",
    "    def primeirachamada(self):\n",
    "        if self.c==0:\n",
    "            self.tempoatual=time.time()\n",
    "            self.c+=1\n",
    "            \n",
    "    def sobeoudesce(self):\n",
    "        #0=parado, 1=subindo, 2=descendo\n",
    "        if self.status==0:\n",
    "            if self.andaravisitar==[]:\n",
    "                self.status=0\n",
    "            else:\n",
    "                d=self.qandar\n",
    "                for k in self.andaravisitar:\n",
    "                    if abs(k-self.andara)<d:\n",
    "                        d=abs(k-self.andara)\n",
    "                        if k>self.andara:\n",
    "                            self.status=1\n",
    "                        else:\n",
    "                            self.status=2                    \n",
    "        elif self.status==1:\n",
    "            if self.andaravisitar==[]:\n",
    "                self.status=0\n",
    "            else:\n",
    "                d=self.qandar\n",
    "                for k in self.andaravisitar:\n",
    "                    if abs(k-self.andara)<d:\n",
    "                        d=abs(k-self.andara)\n",
    "                        if k>self.andara:\n",
    "                            self.status=1\n",
    "                        else:\n",
    "                            self.status=2\n",
    "        else:\n",
    "            if self.andaravisitar==[]:\n",
    "                self.status=0\n",
    "            else:\n",
    "                d=self.qandar\n",
    "                for k in self.andaravisitar:\n",
    "                    if abs(k-self.andara)<d:\n",
    "                        d=abs(k-self.andara)\n",
    "                        if k>self.andara:\n",
    "                            self.status=1\n",
    "                        else:\n",
    "                            self.status=2\n",
    "                    \n",
    "    def logico(self):\n",
    "        n=int((time.time()-self.tempoatual)/3)\n",
    "        while n!=0:\n",
    "            self.sobeoudesce()\n",
    "            if self.status==1:\n",
    "                self.andara+=1\n",
    "                if self.andara in self.andaravisitar:\n",
    "                    self.andaravisitar.remove(self.andara)\n",
    "                    self.hist[self.andara]+=1            \n",
    "            if self.status==2:\n",
    "                self.andara-=1\n",
    "                if self.andara in self.andaravisitar:\n",
    "                    self.andaravisitar.remove(self.andara)\n",
    "                    self.hist[self.andara]+=1\n",
    "            self.histo.append(self.andara)\n",
    "            n-=1\n",
    "            self.tempoatual=time.time()\n",
    "            \n",
    "    def chamada(self,andar):\n",
    "        self.primeirachamada()\n",
    "        self.logico()\n",
    "        if andar==self.andara:\n",
    "            print('O elevador já está nesse andar.')\n",
    "        else:\n",
    "            self.andaravisitar.append(andar)\n",
    "            \n",
    "    def destino(self,andar):\n",
    "        self.primeirachamada()\n",
    "        self.logico()\n",
    "        if andar==self.andara:\n",
    "            print('O elevador já está nesse andar.')\n",
    "        else:\n",
    "            self.andaravisitar.append(andar)\n",
    "            \n",
    "    def andar(self):     \n",
    "        self.primeirachamada()\n",
    "        self.logico()           \n",
    "        print(self.andara)\n",
    "        \n",
    "    def seqandar(self):\n",
    "        self.primeirachamada()\n",
    "        self.logico()\n",
    "        self.tempoatual=time.time()\n",
    "        print(self.andaravisitar)\n",
    "        \n",
    "    def qtddvezes(self):\n",
    "        self.primeirachamada()\n",
    "        self.logico()\n",
    "        print(self.hist)\n",
    "        \n",
    "    def simulacao(self,lista):\n",
    "        self.simulacaocond=True\n",
    "        self.simulacaolista=lista\n",
    "        for k in self.simulacaolista:\n",
    "            if k[0] not in self.andaravisitar:\n",
    "                self.destino(k[0])"
   ]
  },
  {
   "cell_type": "code",
   "execution_count": 1609,
   "metadata": {},
   "outputs": [],
   "source": [
    "n=10\n",
    "elev1=elevador(n)"
   ]
  },
  {
   "cell_type": "markdown",
   "metadata": {},
   "source": [
    "Simule o comportamento do elevador atendendo à dez usuários, que têm andar de origem, andar de destino e sequência de chegada (fora e dentro do elevador) definidos aleatóriamente."
   ]
  },
  {
   "cell_type": "markdown",
   "metadata": {},
   "source": [
    "Meu elevador é inteligente"
   ]
  },
  {
   "cell_type": "code",
   "execution_count": 1610,
   "metadata": {},
   "outputs": [],
   "source": [
    "opcoespessoas=[]\n",
    "for i in range(0,10):\n",
    "    y=random.randint(0,n)\n",
    "    x=random.randint(0,n)\n",
    "    while x==y:\n",
    "        x=random.randint(0,n)\n",
    "    opcoespessoas.append([x,y])\n",
    "elev1.simulacao(opcoespessoas)"
   ]
  },
  {
   "cell_type": "markdown",
   "metadata": {},
   "source": [
    "Monitore o elevador, considerando as seguintes opcoes das pessoas(andar atual, destino):"
   ]
  },
  {
   "cell_type": "code",
   "execution_count": 1611,
   "metadata": {},
   "outputs": [
    {
     "data": {
      "text/plain": [
       "[[7, 3],\n",
       " [1, 5],\n",
       " [9, 4],\n",
       " [10, 7],\n",
       " [4, 9],\n",
       " [6, 3],\n",
       " [8, 0],\n",
       " [9, 2],\n",
       " [4, 5],\n",
       " [5, 7]]"
      ]
     },
     "execution_count": 1611,
     "metadata": {},
     "output_type": "execute_result"
    }
   ],
   "source": [
    "opcoespessoas\n",
    "#Faltou adicionar o destino das pessoas."
   ]
  },
  {
   "cell_type": "code",
   "execution_count": 1645,
   "metadata": {},
   "outputs": [
    {
     "name": "stdout",
     "output_type": "stream",
     "text": [
      "[7, 9, 10, 6, 8, 5]\n"
     ]
    }
   ],
   "source": [
    "elev1.seqandar()"
   ]
  },
  {
   "cell_type": "code",
   "execution_count": 1648,
   "metadata": {},
   "outputs": [
    {
     "name": "stdout",
     "output_type": "stream",
     "text": [
      "4\n"
     ]
    }
   ],
   "source": [
    "elev1.andar()"
   ]
  },
  {
   "cell_type": "code",
   "execution_count": 1649,
   "metadata": {},
   "outputs": [
    {
     "name": "stdout",
     "output_type": "stream",
     "text": [
      "[0, 1, 0, 0, 1, 0, 0, 0, 0, 0, 0]\n"
     ]
    }
   ],
   "source": [
    "elev1.qtddvezes()"
   ]
  },
  {
   "cell_type": "markdown",
   "metadata": {},
   "source": [
    "Questão bônus I (0.5 ponto)   \n",
    "\n",
    "Ilustre graficamente as posições do elevador acima para a simulação pedida:  "
   ]
  },
  {
   "cell_type": "code",
   "execution_count": 1607,
   "metadata": {
    "scrolled": true
   },
   "outputs": [
    {
     "data": {
      "text/plain": [
       "[<matplotlib.lines.Line2D at 0x7f045f11e780>]"
      ]
     },
     "execution_count": 1607,
     "metadata": {},
     "output_type": "execute_result"
    },
    {
     "data": {
      "image/png": "[encoded data removed]",
      "text/plain": [
       "<Figure size 432x288 with 1 Axes>"
      ]
     },
     "metadata": {},
     "output_type": "display_data"
    }
   ],
   "source": [
    "elev1.primeirachamada()\n",
    "elev1.logico()\n",
    "x=np.arange(0,len(elev1.histo))\n",
    "y=elev1.histo\n",
    "plt.plot(x,y)"
   ]
  },
  {
   "cell_type": "markdown",
   "metadata": {},
   "source": [
    "Questão bônus II (0.5 ponto)   \n",
    "\n",
    "Crie um simulador de prédio inteligente, controlando chamadas feitas para n > 1 elevadores:  "
   ]
  },
  {
   "cell_type": "code",
   "execution_count": 1326,
   "metadata": {},
   "outputs": [
    {
     "data": {
      "text/plain": [
       "-1"
      ]
     },
     "execution_count": 1326,
     "metadata": {},
     "output_type": "execute_result"
    }
   ],
   "source": []
  },
  {
   "cell_type": "code",
   "execution_count": null,
   "metadata": {},
   "outputs": [],
   "source": []
  }
 ],
 "metadata": {
  "kernelspec": {
   "display_name": "Python 3",
   "language": "python",
   "name": "python3"
  },
  "language_info": {
   "codemirror_mode": {
    "name": "ipython",
    "version": 3
   },
   "file_extension": ".py",
   "mimetype": "text/x-python",
   "name": "python",
   "nbconvert_exporter": "python",
   "pygments_lexer": "ipython3",
   "version": "3.5.2"
  }
 },
 "nbformat": 4,
 "nbformat_minor": 2
}
