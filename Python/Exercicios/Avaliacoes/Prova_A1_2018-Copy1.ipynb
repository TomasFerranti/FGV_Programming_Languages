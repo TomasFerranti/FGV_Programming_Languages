{
 "cells": [
  {
   "cell_type": "markdown",
   "metadata": {},
   "source": [
    "A1 de Linguagens de Programação – 19/09/2018\n",
    "--\n",
    "Professor: Renato Rocha Souza  \n",
    "--"
   ]
  },
  {
   "cell_type": "markdown",
   "metadata": {},
   "source": [
    "Nome do Aluno(a):"
   ]
  },
  {
   "cell_type": "code",
   "execution_count": null,
   "metadata": {},
   "outputs": [],
   "source": [
    "meu_nome = input('Entre com o seu nome completo: ')\n",
    "print('Olá, {}!'.format(meu_nome))\n",
    "print('Bom trabalho!')"
   ]
  },
  {
   "cell_type": "code",
   "execution_count": 1,
   "metadata": {},
   "outputs": [],
   "source": [
    "# Somente estes módulos podem ser importados para a realização das questões\n",
    "import numpy as np\n",
    "import matplotlib.pyplot as plt\n",
    "import random\n",
    "import re\n",
    "import string\n",
    "import time\n",
    "from IPython.display import clear_output\n",
    "%matplotlib inline"
   ]
  },
  {
   "cell_type": "markdown",
   "metadata": {},
   "source": [
    "Questão 1 (2.5 pontos)  \n",
    "\n",
    "Partindo do código abaixo, escreva comandos para realizar as seguintes tarefas:  \n",
    "a) Crie uma função genérica para construir um dicionário de frequências de palavras de um texto (string), passado como parâmetro. Aplique a função ao texto;  \n",
    "b) Identifique os candidatos a nomes próprios no texto;  \n",
    "c) Imagine que o texto seja constituído pela soma de suas letras, com repetições. Com esta \"caixa de letras\", quantas vezes você conseguiria escrever seu nome completo? Use as letras da variável meu_nome, sem os espaços em branco.  \n",
    "d) Identifique as palavras que só ocorrem uma vez;  \n",
    "e) Crie código para salvar os resultados em um arquivo chamado \"respostas_q1.txt\" no computador.  "
   ]
  },
  {
   "cell_type": "code",
   "execution_count": null,
   "metadata": {},
   "outputs": [],
   "source": [
    "with open('../../Dados/DomCasmurroMachadoAssis.txt', 'r', encoding='utf-8') as f:\n",
    "    texto = f.read()"
   ]
  },
  {
   "cell_type": "code",
   "execution_count": null,
   "metadata": {},
   "outputs": [],
   "source": [
    "dictpalavras={}\n",
    "for k in texto.split():\n",
    "    k=k.strip(string.punctuation)\n",
    "    k=k.lower()\n",
    "    if k in dictpalavras:\n",
    "        dictpalavras[k]+=1\n",
    "    else:\n",
    "        dictpalavras[k]=1\n",
    "print(dictpalavras)"
   ]
  },
  {
   "cell_type": "code",
   "execution_count": null,
   "metadata": {},
   "outputs": [],
   "source": [
    "a=texto.split()\n",
    "nomesproprios={}\n",
    "for k in range(1,len(a)):\n",
    "    l=a[k]\n",
    "    l=l.strip(string.punctuation+\"«\")\n",
    "    if (not a[k-1].endswith(\".\")) and l.istitle():\n",
    "        if l in nomesproprios:\n",
    "            nomesproprios[l]+=1\n",
    "        else:\n",
    "            nomesproprios[l]=1\n",
    "print(nomesproprios)"
   ]
  },
  {
   "cell_type": "code",
   "execution_count": null,
   "metadata": {},
   "outputs": [],
   "source": [
    "#fazendo sem considerar maiúsculas, se não perde a graça\n",
    "b=texto.split()\n",
    "dictletras={}\n",
    "meu_nome='aa'\n",
    "for k in b:\n",
    "    k=k.strip(string.punctuation)\n",
    "    for l in k:\n",
    "        l=l.lower()\n",
    "        if l in dictletras:\n",
    "            dictletras[l]+=1\n",
    "        else:\n",
    "            dictletras[l]=1\n",
    "dictmeunome={}\n",
    "for k in meu_nome:\n",
    "    if k in dictmeunome:\n",
    "        dictmeunome[k]+=1\n",
    "    else:\n",
    "        dictmeunome[k]=1\n",
    "for k in dictmeunome:\n",
    "    if not k in dictletras:\n",
    "        quantidade=0\n",
    "        break\n",
    "    else:\n",
    "        quantidade=1\n",
    "if quantidade==1:\n",
    "    c=0\n",
    "    for k in dictmeunome:\n",
    "        if c==0:\n",
    "            quantidade=int(dictletras[k]/dictmeunome[k])\n",
    "            c+=1\n",
    "        else:\n",
    "            quantidadeteste=int(dictletras[k]/dictmeunome[k])\n",
    "            if quantidadeteste<quantidade:\n",
    "                quantidade=quantidadeteste\n",
    "print(quantidade)"
   ]
  },
  {
   "cell_type": "code",
   "execution_count": null,
   "metadata": {},
   "outputs": [],
   "source": [
    "dictpalavras={}\n",
    "for k in texto.split():\n",
    "    k=k.strip(string.punctuation)\n",
    "    k=k.lower()\n",
    "    if k in dictpalavras:\n",
    "        dictpalavras[k]+=1\n",
    "    else:\n",
    "        dictpalavras[k]=1\n",
    "palavrasumavez=[]\n",
    "for k in dictpalavras:\n",
    "    if dictpalavras[k]==1:\n",
    "        palavrasumavez.append(k)\n",
    "print(palavrasumavez)"
   ]
  },
  {
   "cell_type": "code",
   "execution_count": null,
   "metadata": {},
   "outputs": [],
   "source": [
    "f = open('respostas_q1.txt', mode='w', encoding='utf-8')\n",
    "f.write('Letra a:\\n')\n",
    "for k in dictpalavras:\n",
    "    f.write(k)\n",
    "    f.write(' : ')\n",
    "    f.write(str(dictpalavras[k]))\n",
    "    f.write('\\n')\n",
    "f.write('\\n')\n",
    "f.write('----------------------------------------------------------------------------------\\n')\n",
    "f.write('Letra b:\\n')\n",
    "for k in nomesproprios:\n",
    "    f.write(k)\n",
    "    f.write(' : ')\n",
    "    f.write(str(nomesproprios[k]))\n",
    "    f.write('\\n')\n",
    "f.write('\\n')\n",
    "f.write('----------------------------------------------------------------------------------\\n')\n",
    "f.write('Letra c:\\n')\n",
    "f.write('Nome: ')\n",
    "f.write(meu_nome)\n",
    "f.write('\\n')\n",
    "f.write(str(quantidade))\n",
    "f.write('\\n')\n",
    "f.write('----------------------------------------------------------------------------------\\n')\n",
    "f.write('Letra d:\\n')\n",
    "for k in palavrasumavez:\n",
    "    f.write(k)\n",
    "    f.write(str(k))\n",
    "    f.write('\\n')\n",
    "f.close()"
   ]
  },
  {
   "cell_type": "markdown",
   "metadata": {},
   "source": [
    "Questão 2 (2.0 pontos)  \n",
    "\n",
    "Seja d(n) definido como a suma dos divisores inteiros de n. Se d(a) = b e d(b) = a, sendo a ≠ b, então a e b são um \"par amigável\" de números.  \n",
    "\n",
    "Por exemplo, os divisores inteiros de 220 são 1, 2, 4, 5, 10, 11, 20, 22, 44, 55 e 110; então d(220) = 284.  \n",
    "Os divisores inteiros de 284 são 1, 2, 4, 71 e 142; então d(284) = 220.  \n",
    "\n",
    "Encontre todos os \"pares amigáveis\" de números menores que 20000.  Crie uma lista de tuplas com esses pares.  "
   ]
  },
  {
   "cell_type": "code",
   "execution_count": null,
   "metadata": {},
   "outputs": [],
   "source": [
    "#Demora um pouquinho\n",
    "def somadivisores(n):\n",
    "    lista=[]\n",
    "    for k in range(1,int(n/2)+1):\n",
    "        if n%k==0:\n",
    "            lista.append(k)   \n",
    "    return sum(lista)\n",
    "paresamigaveis=[]\n",
    "for k in range(1,20000):\n",
    "    l=somadivisores(k)\n",
    "    j=somadivisores(l)\n",
    "    if k==j:\n",
    "        paresamigaveis.append((k,l))\n",
    "print(paresamigaveis)"
   ]
  },
  {
   "cell_type": "markdown",
   "metadata": {},
   "source": [
    "Questão 3 (2.5 pontos)  \n",
    "\n",
    "Usando funções geradoras, crie um objeto que emule um dado de oito faces (1-8) que seja viciado, de tal forma que a probabilidade desta função geradora retornar certo valor seja proporcional ao próprio valor (por exemplo, a face 6 é 3 vezes mais provável de sair do que a face 2).  \n",
    "\n",
    "(a) Usando os comandos plt.plot ou plt.hist, mostre graficamente o resultado de 10000 lançamentos;  \n",
    "(b) Modifique esta função geradora de forma que ela termine automaticamente quando todos os valores possíveis (1,2,3,4,5,6,7,8) tiverem sido retornados pelo menos uma vez. Neste caso, ela retornará o tempo absoluto total que ocorreu desde a primeira iteração.  "
   ]
  },
  {
   "cell_type": "code",
   "execution_count": null,
   "metadata": {},
   "outputs": [],
   "source": [
    "lista=[1,2,2,3,3,3,4,4,4,4,5,5,5,5,5,6,6,6,6,6,6,7,7,7,7,7,7,7,8,8,8,8,8,8,8,8]\n",
    "def gerador():\n",
    "    while True:\n",
    "        k=random.choice(lista)\n",
    "        yield k\n",
    "x=np.arange(0,10000)\n",
    "y=[]\n",
    "k=gerador()\n",
    "for i in range(0,10000):\n",
    "    y.append(next(k))\n",
    "y.sort()\n",
    "plt.plot(x,y)"
   ]
  },
  {
   "cell_type": "code",
   "execution_count": null,
   "metadata": {},
   "outputs": [],
   "source": [
    "def gerador():\n",
    "    lista=[1,2,2,3,3,3,4,4,4,4,5,5,5,5,5,6,6,6,6,6,6,7,7,7,7,7,7,7,8,8,8,8,8,8,8,8]\n",
    "    lista1=[1,2,3,4,5,6,7,8]\n",
    "    agora=time.time()\n",
    "    while lista1!=[]:\n",
    "        k=random.choice(lista)\n",
    "        if k in lista1:\n",
    "            lista1.remove(k)\n",
    "        yield(k)\n",
    "    yield(time.time() - agora)"
   ]
  },
  {
   "cell_type": "code",
   "execution_count": null,
   "metadata": {},
   "outputs": [],
   "source": [
    "gen1=gerador()"
   ]
  },
  {
   "cell_type": "code",
   "execution_count": null,
   "metadata": {},
   "outputs": [],
   "source": [
    "next(gen1)"
   ]
  },
  {
   "cell_type": "markdown",
   "metadata": {},
   "source": [
    "Questão 4 (3.0 pontos)   \n",
    "\n",
    "Crie uma classe chamada \"Elevador\" que recebe, ao instanciada, o número de andares do edifício e inicia no andar mais baixo.  \n",
    "Crie métodos e propriedades para permitir que o elevador:  \n",
    "- Receba uma chamada (usuário aperta um botão em um andar);  \n",
    "- Receba um andar como destino (usuários apertam botões dentro do elevador);  \n",
    "- Informe em qual andar o elevador está;  \n",
    "- Informe a sequência de andares ainda por visitar;\n",
    "- Informe a quantidade de vezes que parou em cada andar (passar pelo andar sem \"parar\" no andar não conta);  \n",
    "\n",
    "Leve em consideração que cada deslocamento de andar demora 3 segundos.  \n",
    "Simule o comportamento do elevador atendendo à dez usuários, que têm andar de origem, andar de destino e sequência de chegada (fora e dentro do elevador) definidos aleatóriamente.  "
   ]
  },
  {
   "cell_type": "code",
   "execution_count": 194,
   "metadata": {},
   "outputs": [],
   "source": [
    "class elevador:\n",
    "    def __init__(self,n):\n",
    "        self.qandar=n\n",
    "        self.andara=0\n",
    "        self.andaravisitar=[]\n",
    "        self.hist=[0 for i in range(0,n+1)]\n",
    "        self.histo=[0]\n",
    "        self.status=0\n",
    "        self.simulacaocond=False\n",
    "        \n",
    "    def primeirachamada(self):\n",
    "        if self.andaravisitar==[]:\n",
    "            self.tempoatual=time.time()\n",
    "            \n",
    "    def sobeoudesce(self):\n",
    "        #0=parado, 1=subindo, 2=descendo\n",
    "        if self.status==0:\n",
    "            if self.andaravisitar==[]:\n",
    "                self.status=0\n",
    "            else:\n",
    "                d=self.qandar\n",
    "                for k in self.andaravisitar:\n",
    "                    if abs(k-self.andara)<d:\n",
    "                        d=abs(k-self.andara)\n",
    "                        if k>self.andara:\n",
    "                            self.status=1\n",
    "                        else:\n",
    "                            self.status=2                    \n",
    "        elif self.status==1:\n",
    "            if self.andaravisitar==[]:\n",
    "                self.status=0\n",
    "            else:\n",
    "                if max(self.andaravisitar)<self.andara:\n",
    "                    self.status=2\n",
    "        else:\n",
    "            if self.andaravisitar==[]:\n",
    "                self.status=0\n",
    "            else:\n",
    "                if max(self.andaravisitar)>self.andara:\n",
    "                    self.status=1\n",
    "                    \n",
    "    def logico(self):\n",
    "        n=int((time.time()-self.tempoatual)/3)\n",
    "        while n!=0:\n",
    "            self.sobeoudesce()\n",
    "            if self.status==1:\n",
    "                self.andara+=1\n",
    "                if self.andara in self.andaravisitar:\n",
    "                    self.andaravisitar.remove(self.andara)\n",
    "                    self.hist[self.andara]+=1          \n",
    "                if self.simulacaocond:\n",
    "                    for k in self.simulacaolista:\n",
    "                        if self.andara==k[0]:\n",
    "                            if k[1] not in self.andaravisitar:\n",
    "                                self.andaravisitar.append(k[1])\n",
    "                            self.simulacaolista.remove(k)                    \n",
    "            if self.status==2:\n",
    "                self.andara-=1\n",
    "                if self.andara in self.andaravisitar:\n",
    "                    self.andaravisitar.remove(self.andara)\n",
    "                    self.hist[self.andara]+=1\n",
    "                if self.simulacaocond:\n",
    "                    for k in self.simulacaolista:\n",
    "                        if self.andara==k[0]:\n",
    "                            if k[1] not in self.andaravisitar:\n",
    "                                self.andaravisitar.append(k[1])\n",
    "                            self.simulacaolista.remove(k)                     \n",
    "            if self.simulacaolista==[]:\n",
    "                self.simulacaocond=False\n",
    "            self.histo.append(self.andara)\n",
    "            n-=1\n",
    "            self.tempoatual=time.time()\n",
    "            \n",
    "    def chamada(self,andar):\n",
    "        self.primeirachamada()\n",
    "        self.logico()\n",
    "        if andar!=self.andara:\n",
    "            if andar not in self.andaravisitar:\n",
    "                self.andaravisitar.append(andar)\n",
    "            \n",
    "    def destino(self,andar):\n",
    "        self.primeirachamada()\n",
    "        self.logico()\n",
    "        if andar!=self.andara:\n",
    "            if andar not in self.andaravisitar:\n",
    "                self.andaravisitar.append(andar)\n",
    "             \n",
    "    def andar(self):     \n",
    "        self.primeirachamada()\n",
    "        self.logico()           \n",
    "        print(self.andara)\n",
    "        \n",
    "    def seqandar(self):\n",
    "        self.primeirachamada()\n",
    "        self.logico()\n",
    "        print(self.andaravisitar)\n",
    "        \n",
    "    def qtddvezes(self):\n",
    "        self.primeirachamada()\n",
    "        self.logico()\n",
    "        print(self.hist)\n",
    "        \n",
    "    def simulacao(self,lista):\n",
    "        self.simulacaocond=True\n",
    "        self.simulacaolista=lista\n",
    "        for k in self.simulacaolista:\n",
    "            self.destino(k[0])"
   ]
  },
  {
   "cell_type": "code",
   "execution_count": 195,
   "metadata": {},
   "outputs": [],
   "source": [
    "n=10\n",
    "elev1=elevador(n)"
   ]
  },
  {
   "cell_type": "markdown",
   "metadata": {},
   "source": [
    "Simule o comportamento do elevador atendendo à dez usuários, que têm andar de origem, andar de destino e sequência de chegada (fora e dentro do elevador) definidos aleatóriamente."
   ]
  },
  {
   "cell_type": "code",
   "execution_count": null,
   "metadata": {},
   "outputs": [],
   "source": [
    "elev1.destino(5)"
   ]
  },
  {
   "cell_type": "code",
   "execution_count": null,
   "metadata": {},
   "outputs": [],
   "source": [
    "elev1.andara"
   ]
  },
  {
   "cell_type": "code",
   "execution_count": null,
   "metadata": {},
   "outputs": [],
   "source": []
  },
  {
   "cell_type": "markdown",
   "metadata": {},
   "source": [
    "Meu elevador é inteligente"
   ]
  },
  {
   "cell_type": "code",
   "execution_count": 196,
   "metadata": {},
   "outputs": [],
   "source": [
    "opcoespessoas=[]\n",
    "for i in range(0,10):\n",
    "    y=random.randint(0,n)\n",
    "    x=random.randint(0,n)\n",
    "    while x==y:\n",
    "        x=random.randint(0,n)\n",
    "    opcoespessoas.append([x,y])\n",
    "elev1.simulacao(opcoespessoas)"
   ]
  },
  {
   "cell_type": "markdown",
   "metadata": {},
   "source": [
    "Monitore o elevador, considerando as seguintes opcoes das pessoas(andar atual, destino):"
   ]
  },
  {
   "cell_type": "code",
   "execution_count": 197,
   "metadata": {},
   "outputs": [
    {
     "name": "stdout",
     "output_type": "stream",
     "text": [
      "[[3, 9], [3, 9], [2, 8], [3, 9], [6, 5], [7, 10], [2, 6], [0, 6], [3, 1], [3, 1]]\n"
     ]
    }
   ],
   "source": [
    "print(opcoespessoas)\n",
    "#Faltou adicionar o destino das pessoas."
   ]
  },
  {
   "cell_type": "code",
   "execution_count": 222,
   "metadata": {},
   "outputs": [
    {
     "name": "stdout",
     "output_type": "stream",
     "text": [
      "[1, 5, 10]\n"
     ]
    }
   ],
   "source": [
    "elev1.seqandar()"
   ]
  },
  {
   "cell_type": "code",
   "execution_count": 230,
   "metadata": {},
   "outputs": [
    {
     "name": "stdout",
     "output_type": "stream",
     "text": [
      "9\n"
     ]
    }
   ],
   "source": [
    "elev1.andar()"
   ]
  },
  {
   "cell_type": "code",
   "execution_count": 228,
   "metadata": {},
   "outputs": [
    {
     "name": "stdout",
     "output_type": "stream",
     "text": [
      "[0, 0, 1, 1, 0, 0, 1, 1, 1, 1, 1]\n"
     ]
    }
   ],
   "source": [
    "elev1.qtddvezes()"
   ]
  },
  {
   "cell_type": "markdown",
   "metadata": {},
   "source": [
    "Questão bônus I (0.5 ponto)   \n",
    "\n",
    "Ilustre graficamente as posições do elevador acima para a simulação pedida:  "
   ]
  },
  {
   "cell_type": "code",
   "execution_count": 231,
   "metadata": {
    "scrolled": true
   },
   "outputs": [
    {
     "data": {
      "text/plain": [
       "[<matplotlib.lines.Line2D at 0x7fc38c247908>]"
      ]
     },
     "execution_count": 231,
     "metadata": {},
     "output_type": "execute_result"
    },
    {
     "data": {
      "image/png": "[encoded data removed]",
      "text/plain": [
       "<Figure size 432x288 with 1 Axes>"
      ]
     },
     "metadata": {},
     "output_type": "display_data"
    }
   ],
   "source": [
    "elev1.primeirachamada()\n",
    "elev1.logico()\n",
    "x=np.arange(0,len(elev1.histo))\n",
    "y=elev1.histo\n",
    "plt.plot(x,y)"
   ]
  },
  {
   "cell_type": "markdown",
   "metadata": {},
   "source": [
    "Questão bônus II (0.5 ponto)   \n",
    "\n",
    "Crie um simulador de prédio inteligente, controlando chamadas feitas para n > 1 elevadores:  "
   ]
  },
  {
   "cell_type": "code",
   "execution_count": 102,
   "metadata": {},
   "outputs": [
    {
     "data": {
      "text/plain": [
       "1537375017.1877193"
      ]
     },
     "execution_count": 102,
     "metadata": {},
     "output_type": "execute_result"
    }
   ],
   "source": [
    "time.time()"
   ]
  },
  {
   "cell_type": "code",
   "execution_count": 103,
   "metadata": {},
   "outputs": [
    {
     "name": "stdout",
     "output_type": "stream",
     "text": [
      "1.000000238418579\n",
      "1.0000038146972656\n",
      "1.0000007152557373\n",
      "1.0000026226043701\n",
      "1.0000026226043701\n",
      "1.0000014305114746\n",
      "1.0000026226043701\n",
      "1.0000004768371582\n",
      "1.0000014305114746\n",
      "1.0000007152557373\n",
      "1.000002384185791\n",
      "1.000000238418579\n",
      "1.000000238418579\n",
      "1.0000014305114746\n",
      "1.0000004768371582\n",
      "1.0000019073486328\n"
     ]
    },
    {
     "ename": "KeyboardInterrupt",
     "evalue": "",
     "output_type": "error",
     "traceback": [
      "\u001b[0;31m---------------------------------------------------------------------------\u001b[0m",
      "\u001b[0;31mKeyboardInterrupt\u001b[0m                         Traceback (most recent call last)",
      "\u001b[0;32m<ipython-input-103-9090088147c0>\u001b[0m in \u001b[0;36m<module>\u001b[0;34m()\u001b[0m\n\u001b[1;32m      1\u001b[0m \u001b[0ma\u001b[0m\u001b[0;34m=\u001b[0m\u001b[0mtime\u001b[0m\u001b[0;34m.\u001b[0m\u001b[0mtime\u001b[0m\u001b[0;34m(\u001b[0m\u001b[0;34m)\u001b[0m\u001b[0;34m\u001b[0m\u001b[0m\n\u001b[1;32m      2\u001b[0m \u001b[0;32mwhile\u001b[0m \u001b[0;32mTrue\u001b[0m\u001b[0;34m:\u001b[0m\u001b[0;34m\u001b[0m\u001b[0m\n\u001b[0;32m----> 3\u001b[0;31m     \u001b[0mb\u001b[0m\u001b[0;34m=\u001b[0m\u001b[0mtime\u001b[0m\u001b[0;34m.\u001b[0m\u001b[0mtime\u001b[0m\u001b[0;34m(\u001b[0m\u001b[0;34m)\u001b[0m\u001b[0;34m\u001b[0m\u001b[0m\n\u001b[0m\u001b[1;32m      4\u001b[0m     \u001b[0;32mif\u001b[0m \u001b[0mb\u001b[0m\u001b[0;34m-\u001b[0m\u001b[0ma\u001b[0m\u001b[0;34m>\u001b[0m\u001b[0;36m1\u001b[0m\u001b[0;34m:\u001b[0m\u001b[0;34m\u001b[0m\u001b[0m\n\u001b[1;32m      5\u001b[0m         \u001b[0mprint\u001b[0m\u001b[0;34m(\u001b[0m\u001b[0mb\u001b[0m\u001b[0;34m-\u001b[0m\u001b[0ma\u001b[0m\u001b[0;34m)\u001b[0m\u001b[0;34m\u001b[0m\u001b[0m\n",
      "\u001b[0;31mKeyboardInterrupt\u001b[0m: "
     ]
    }
   ],
   "source": [
    "a=time.time()\n",
    "while True:\n",
    "    b=time.time()\n",
    "    if b-a>1:\n",
    "        print(b-a)\n",
    "        a=b"
   ]
  },
  {
   "cell_type": "code",
   "execution_count": null,
   "metadata": {},
   "outputs": [],
   "source": []
  }
 ],
 "metadata": {
  "kernelspec": {
   "display_name": "Python 3",
   "language": "python",
   "name": "python3"
  },
  "language_info": {
   "codemirror_mode": {
    "name": "ipython",
    "version": 3
   },
   "file_extension": ".py",
   "mimetype": "text/x-python",
   "name": "python",
   "nbconvert_exporter": "python",
   "pygments_lexer": "ipython3",
   "version": "3.5.2"
  }
 },
 "nbformat": 4,
 "nbformat_minor": 2
}
