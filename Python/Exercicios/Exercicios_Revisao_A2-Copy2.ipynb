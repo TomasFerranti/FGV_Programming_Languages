{
 "cells": [
  {
   "cell_type": "markdown",
   "metadata": {},
   "source": [
    "Exercícios de Revisão A2\n",
    "--\n",
    "Professor: Renato Rocha Souza  \n",
    "--"
   ]
  },
  {
   "cell_type": "code",
   "execution_count": null,
   "metadata": {},
   "outputs": [],
   "source": [
    "import itertools\n",
    "import random\n",
    "from collections import Counter\n",
    "import re\n",
    "import string\n",
    "\n",
    "import pymysql\n",
    "import sqlite3\n",
    "import getpass\n",
    "\n",
    "import numpy as np\n",
    "import matplotlib.pyplot as plt\n",
    "import pandas as pd\n",
    "import pandas.io.sql as psql\n",
    "\n",
    "%matplotlib inline"
   ]
  },
  {
   "cell_type": "markdown",
   "metadata": {},
   "source": [
    "### Parte I - Pandas"
   ]
  },
  {
   "cell_type": "markdown",
   "metadata": {},
   "source": [
    "Para o Dataframe abaixo, resolva as seguintes tarefas:"
   ]
  },
  {
   "cell_type": "code",
   "execution_count": 110,
   "metadata": {},
   "outputs": [
    {
     "data": {
      "text/html": [
       "<div>\n",
       "<style scoped>\n",
       "    .dataframe tbody tr th:only-of-type {\n",
       "        vertical-align: middle;\n",
       "    }\n",
       "\n",
       "    .dataframe tbody tr th {\n",
       "        vertical-align: top;\n",
       "    }\n",
       "\n",
       "    .dataframe thead th {\n",
       "        text-align: right;\n",
       "    }\n",
       "</style>\n",
       "<table border=\"1\" class=\"dataframe\">\n",
       "  <thead>\n",
       "    <tr style=\"text-align: right;\">\n",
       "      <th></th>\n",
       "      <th>animal</th>\n",
       "      <th>hair</th>\n",
       "      <th>feathers</th>\n",
       "      <th>eggs</th>\n",
       "      <th>milk</th>\n",
       "      <th>airborne</th>\n",
       "      <th>aquatic</th>\n",
       "      <th>predator</th>\n",
       "      <th>toothed</th>\n",
       "      <th>backbone</th>\n",
       "      <th>breathes</th>\n",
       "      <th>venomous</th>\n",
       "      <th>fins</th>\n",
       "      <th>legs</th>\n",
       "      <th>tail</th>\n",
       "      <th>domestic</th>\n",
       "      <th>catsize</th>\n",
       "      <th>type</th>\n",
       "    </tr>\n",
       "  </thead>\n",
       "  <tbody>\n",
       "    <tr>\n",
       "      <th>0</th>\n",
       "      <td>aardvark</td>\n",
       "      <td>True</td>\n",
       "      <td>False</td>\n",
       "      <td>False</td>\n",
       "      <td>True</td>\n",
       "      <td>False</td>\n",
       "      <td>False</td>\n",
       "      <td>True</td>\n",
       "      <td>True</td>\n",
       "      <td>True</td>\n",
       "      <td>True</td>\n",
       "      <td>False</td>\n",
       "      <td>False</td>\n",
       "      <td>4</td>\n",
       "      <td>False</td>\n",
       "      <td>False</td>\n",
       "      <td>True</td>\n",
       "      <td>mammal</td>\n",
       "    </tr>\n",
       "    <tr>\n",
       "      <th>1</th>\n",
       "      <td>antelope</td>\n",
       "      <td>True</td>\n",
       "      <td>False</td>\n",
       "      <td>False</td>\n",
       "      <td>True</td>\n",
       "      <td>False</td>\n",
       "      <td>False</td>\n",
       "      <td>False</td>\n",
       "      <td>True</td>\n",
       "      <td>True</td>\n",
       "      <td>True</td>\n",
       "      <td>False</td>\n",
       "      <td>False</td>\n",
       "      <td>4</td>\n",
       "      <td>True</td>\n",
       "      <td>False</td>\n",
       "      <td>True</td>\n",
       "      <td>mammal</td>\n",
       "    </tr>\n",
       "    <tr>\n",
       "      <th>2</th>\n",
       "      <td>bass</td>\n",
       "      <td>False</td>\n",
       "      <td>False</td>\n",
       "      <td>True</td>\n",
       "      <td>False</td>\n",
       "      <td>False</td>\n",
       "      <td>True</td>\n",
       "      <td>True</td>\n",
       "      <td>True</td>\n",
       "      <td>True</td>\n",
       "      <td>False</td>\n",
       "      <td>False</td>\n",
       "      <td>True</td>\n",
       "      <td>0</td>\n",
       "      <td>True</td>\n",
       "      <td>False</td>\n",
       "      <td>False</td>\n",
       "      <td>fish</td>\n",
       "    </tr>\n",
       "    <tr>\n",
       "      <th>3</th>\n",
       "      <td>bear</td>\n",
       "      <td>True</td>\n",
       "      <td>False</td>\n",
       "      <td>False</td>\n",
       "      <td>True</td>\n",
       "      <td>False</td>\n",
       "      <td>False</td>\n",
       "      <td>True</td>\n",
       "      <td>True</td>\n",
       "      <td>True</td>\n",
       "      <td>True</td>\n",
       "      <td>False</td>\n",
       "      <td>False</td>\n",
       "      <td>4</td>\n",
       "      <td>False</td>\n",
       "      <td>False</td>\n",
       "      <td>True</td>\n",
       "      <td>mammal</td>\n",
       "    </tr>\n",
       "    <tr>\n",
       "      <th>4</th>\n",
       "      <td>boar</td>\n",
       "      <td>True</td>\n",
       "      <td>False</td>\n",
       "      <td>False</td>\n",
       "      <td>True</td>\n",
       "      <td>False</td>\n",
       "      <td>False</td>\n",
       "      <td>True</td>\n",
       "      <td>True</td>\n",
       "      <td>True</td>\n",
       "      <td>True</td>\n",
       "      <td>False</td>\n",
       "      <td>False</td>\n",
       "      <td>4</td>\n",
       "      <td>True</td>\n",
       "      <td>False</td>\n",
       "      <td>True</td>\n",
       "      <td>mammal</td>\n",
       "    </tr>\n",
       "  </tbody>\n",
       "</table>\n",
       "</div>"
      ],
      "text/plain": [
       "     animal   hair  feathers   eggs   milk  airborne  aquatic  predator  \\\n",
       "0  aardvark   True     False  False   True     False    False      True   \n",
       "1  antelope   True     False  False   True     False    False     False   \n",
       "2      bass  False     False   True  False     False     True      True   \n",
       "3      bear   True     False  False   True     False    False      True   \n",
       "4      boar   True     False  False   True     False    False      True   \n",
       "\n",
       "   toothed  backbone  breathes  venomous   fins  legs   tail  domestic  \\\n",
       "0     True      True      True     False  False     4  False     False   \n",
       "1     True      True      True     False  False     4   True     False   \n",
       "2     True      True     False     False   True     0   True     False   \n",
       "3     True      True      True     False  False     4  False     False   \n",
       "4     True      True      True     False  False     4   True     False   \n",
       "\n",
       "   catsize    type  \n",
       "0     True  mammal  \n",
       "1     True  mammal  \n",
       "2    False    fish  \n",
       "3     True  mammal  \n",
       "4     True  mammal  "
      ]
     },
     "execution_count": 110,
     "metadata": {},
     "output_type": "execute_result"
    }
   ],
   "source": [
    "df_zoo = pd.read_csv('../Dados/zoo.csv')\n",
    "df_zoo.head()"
   ]
  },
  {
   "cell_type": "code",
   "execution_count": null,
   "metadata": {},
   "outputs": [],
   "source": [
    "df_zoo.loc[:2,['animal','hair']]"
   ]
  },
  {
   "cell_type": "code",
   "execution_count": null,
   "metadata": {},
   "outputs": [],
   "source": [
    "df_zoo.iloc[0:2,0:2]"
   ]
  },
  {
   "cell_type": "markdown",
   "metadata": {},
   "source": [
    "1 - Crie uma série somente com os nomes dos animais (primeira coluna)"
   ]
  },
  {
   "cell_type": "code",
   "execution_count": 113,
   "metadata": {},
   "outputs": [
    {
     "data": {
      "text/plain": [
       "pandas.core.series.Series"
      ]
     },
     "execution_count": 113,
     "metadata": {},
     "output_type": "execute_result"
    }
   ],
   "source": [
    "type(df_zoo.animal)"
   ]
  },
  {
   "cell_type": "markdown",
   "metadata": {},
   "source": [
    "2 - Transforme os campos booleanos True/False em strings \"True\"/\"False\"  \n",
    "Veja as dicas [aqui](https://pandas.pydata.org/pandas-docs/stable/generated/pandas.DataFrame.apply.html) e [aqui](https://pandas.pydata.org/pandas-docs/stable/generated/pandas.DataFrame.applymap.html)  \n",
    "\n",
    "Obs: O Pandas já inferiu que as variáveis originais são de tipo booleano, mas como você faria se não o fossem; se fossem strings, por exemplo?  "
   ]
  },
  {
   "cell_type": "code",
   "execution_count": null,
   "metadata": {},
   "outputs": [],
   "source": [
    "df_zoo.info()"
   ]
  },
  {
   "cell_type": "code",
   "execution_count": null,
   "metadata": {},
   "outputs": [],
   "source": [
    "type(df_zoo.hair[0])"
   ]
  },
  {
   "cell_type": "code",
   "execution_count": null,
   "metadata": {},
   "outputs": [],
   "source": [
    "df_zoo.hair = df_zoo.hair.apply(lambda x:str(x))\n",
    "df_zoo.info()"
   ]
  },
  {
   "cell_type": "code",
   "execution_count": null,
   "metadata": {},
   "outputs": [],
   "source": [
    "df_zoo.feathers = df_zoo.feathers.map({True:'Verdadeiro', False:'Falso'})\n",
    "df_zoo.info()"
   ]
  },
  {
   "cell_type": "code",
   "execution_count": null,
   "metadata": {},
   "outputs": [],
   "source": [
    "df_zoo.loc[:, df_zoo.dtypes == bool].columns"
   ]
  },
  {
   "cell_type": "code",
   "execution_count": null,
   "metadata": {},
   "outputs": [],
   "source": [
    "booleanas = df_zoo.loc[:, df_zoo.dtypes == bool].columns\n",
    "df_zoo[booleanas].head()"
   ]
  },
  {
   "cell_type": "code",
   "execution_count": null,
   "metadata": {},
   "outputs": [],
   "source": [
    "df_zoo[booleanas] = df_zoo[booleanas].applymap(lambda x:int(x))\n",
    "df_zoo.info()"
   ]
  },
  {
   "cell_type": "markdown",
   "metadata": {},
   "source": [
    "3 - Crie um novo dataframe somente com os Mamíferos"
   ]
  },
  {
   "cell_type": "code",
   "execution_count": null,
   "metadata": {},
   "outputs": [],
   "source": [
    "df_zoo[df_zoo.type == 'mammal']"
   ]
  },
  {
   "cell_type": "markdown",
   "metadata": {},
   "source": [
    "4 - Crie um gráfico com os números de patas por animais  \n",
    "Veja as dicas [aqui](https://pandas.pydata.org/pandas-docs/version/0.22/generated/pandas.DataFrame.plot.html)  "
   ]
  },
  {
   "cell_type": "code",
   "execution_count": null,
   "metadata": {},
   "outputs": [],
   "source": [
    "df_zoo.legs.plot()"
   ]
  },
  {
   "cell_type": "code",
   "execution_count": null,
   "metadata": {},
   "outputs": [],
   "source": [
    "df_zoo.legs.plot(kind='hist')"
   ]
  },
  {
   "cell_type": "code",
   "execution_count": null,
   "metadata": {},
   "outputs": [],
   "source": [
    "df_zoo[df_zoo.legs == 5]"
   ]
  },
  {
   "cell_type": "markdown",
   "metadata": {},
   "source": [
    "5 - crie uma tabela no banco alunos a partir do dataframe  \n",
    "ver referência [aqui](https://pandas.pydata.org/pandas-docs/stable/generated/pandas.DataFrame.to_sql.html)"
   ]
  },
  {
   "cell_type": "raw",
   "metadata": {},
   "source": [
    "#como seria com um banco MySQL\n",
    "\n",
    "p = getpass.getpass()\n",
    "conn = pymysql.connect(host='127.0.0.1', #localhost\n",
    "                       port=3306, \n",
    "                       user='aluno', \n",
    "                       passwd=p, \n",
    "                       db='alunos')"
   ]
  },
  {
   "cell_type": "code",
   "execution_count": null,
   "metadata": {},
   "outputs": [],
   "source": [
    "conn = sqlite3.connect('tabela_zoo')"
   ]
  },
  {
   "cell_type": "code",
   "execution_count": null,
   "metadata": {},
   "outputs": [],
   "source": [
    "df_zoo.to_sql('tabela_zoo', con=conn)"
   ]
  },
  {
   "cell_type": "code",
   "execution_count": null,
   "metadata": {},
   "outputs": [],
   "source": [
    "cur = conn.cursor()"
   ]
  },
  {
   "cell_type": "code",
   "execution_count": null,
   "metadata": {},
   "outputs": [],
   "source": [
    "cur.execute(\"SELECT * FROM sqlite_master;\")\n",
    "for r in cur.fetchall():\n",
    "    print(r)"
   ]
  },
  {
   "cell_type": "code",
   "execution_count": null,
   "metadata": {},
   "outputs": [],
   "source": [
    "cur.execute(\"SELECT name FROM sqlite_master WHERE type='table';\")\n",
    "print(cur.fetchall())"
   ]
  },
  {
   "cell_type": "code",
   "execution_count": null,
   "metadata": {},
   "outputs": [],
   "source": [
    "cur.execute(\"SELECT * FROM tabela_zoo;\")\n",
    "for r in cur.fetchmany(12):\n",
    "    print(r)"
   ]
  },
  {
   "cell_type": "code",
   "execution_count": null,
   "metadata": {},
   "outputs": [],
   "source": [
    "new_df = pd.read_sql_query(\"SELECT * FROM tabela_zoo;\", conn)\n",
    "new_df.head()"
   ]
  },
  {
   "cell_type": "markdown",
   "metadata": {},
   "source": [
    "### Parte 2 - Shell Linux"
   ]
  },
  {
   "cell_type": "markdown",
   "metadata": {},
   "source": [
    "Usando comandos do Shell, abra o arquivo ../Dados/DomCasmurroMachadoAssis.txt e resolva as seguintes tarefas:"
   ]
  },
  {
   "cell_type": "markdown",
   "metadata": {},
   "source": [
    "1 - [Ordene as palavras do texto nas formas abaixo](https://jupyterhub.namd.mat.br/user/rsouza/notebooks/FGV_Programming_Languages/Bash/Unix4Poets.ipynb):\n",
    "+ ordem ascii\n",
    "+ ordem alfabética\n",
    "+ ordem de \"rima\""
   ]
  },
  {
   "cell_type": "code",
   "execution_count": null,
   "metadata": {
    "scrolled": false
   },
   "outputs": [],
   "source": [
    "! export LC_ALL=C\n",
    "! cat ../Dados/DomCasmurroMachadoAssis.txt | tr -sc '[A-Z][a-z]' '[\\012*]' < ../Dados/DomCasmurroMachadoAssis.txt | sort | uniq -c"
   ]
  },
  {
   "cell_type": "code",
   "execution_count": null,
   "metadata": {
    "scrolled": false
   },
   "outputs": [],
   "source": [
    "! cat ../Dados/DomCasmurroMachadoAssis.txt | tr -sc '[A-Z][a-z]' '[\\012*]' < ../Dados/DomCasmurroMachadoAssis.txt | sort | uniq -c"
   ]
  },
  {
   "cell_type": "code",
   "execution_count": null,
   "metadata": {},
   "outputs": [],
   "source": [
    "! cat ../Dados/DomCasmurroMachadoAssis.txt | tr -sc '[A-Z][a-z]' '[\\012*]' | rev | sort | rev | uniq -c | sed -n '110,130p'"
   ]
  },
  {
   "cell_type": "markdown",
   "metadata": {},
   "source": [
    "2 - Quantas palavras maiúsculas distintas há no texto?"
   ]
  },
  {
   "cell_type": "code",
   "execution_count": null,
   "metadata": {},
   "outputs": [],
   "source": [
    "!cat ../Dados/DomCasmurroMachadoAssis.txt | tr -sc '[A-Z][a-z]' '[\\012*]' | egrep '*[A-Z]' | sort | uniq -c | wc -l"
   ]
  },
  {
   "cell_type": "markdown",
   "metadata": {},
   "source": [
    "3 - Quantas palavras há com apenas uma; com apenas duas; e com apenas 3 vogais?"
   ]
  },
  {
   "cell_type": "code",
   "execution_count": 155,
   "metadata": {},
   "outputs": [
    {
     "name": "stdout",
     "output_type": "stream",
     "text": [
      "610\r\n"
     ]
    }
   ],
   "source": [
    "!cat ../Dados/DomCasmurroMachadoAssis.txt | tr -sc '[A-Z][a-z]' '[\\012*]' | egrep '\\<[^AEIOUaeiou]*[AEIOUaeiou][^AEIOUaeiou]*\\>' | sort | uniq -c | wc -l"
   ]
  },
  {
   "cell_type": "code",
   "execution_count": 150,
   "metadata": {},
   "outputs": [
    {
     "name": "stdout",
     "output_type": "stream",
     "text": [
      "2350\r\n"
     ]
    }
   ],
   "source": [
    "!cat ../Dados/DomCasmurroMachadoAssis.txt | tr -sc '[A-Z][a-z]' '[\\012*]' | egrep '\\<[^AEIOUaeiou]*[AEIOUaeiou][^AEIOUaeiou]*[AEIOUaeiou][^AEIOUaeiou]*\\>' | sort | uniq | wc -l"
   ]
  },
  {
   "cell_type": "code",
   "execution_count": 151,
   "metadata": {},
   "outputs": [
    {
     "name": "stdout",
     "output_type": "stream",
     "text": [
      "3447\r\n"
     ]
    }
   ],
   "source": [
    "!cat ../Dados/DomCasmurroMachadoAssis.txt | tr -sc '[A-Z][a-z]' '[\\012*]' | egrep '\\<[^AEIOUaeiou]*[AEIOUaeiou][^AEIOUaeiou]*[AEIOUaeiou][^AEIOUaeiou]*[AEIOUaeiou][^AEIOUaeiou]*\\>' | sort | uniq | wc -l"
   ]
  },
  {
   "cell_type": "markdown",
   "metadata": {},
   "source": [
    "4 - Qual a sequência de comandos para criar um arquivo com os bigramas e suas contagens?"
   ]
  },
  {
   "cell_type": "code",
   "execution_count": 141,
   "metadata": {},
   "outputs": [
    {
     "name": "stdout",
     "output_type": "stream",
     "text": [
      "     14 a\ta\r\n",
      "      5 a\tA\r\n",
      "      1 a\tabobada\r\n",
      "      1 a\tabomina\r\n",
      "      1 a\taborreciamos\r\n",
      "      1 a\tabril\r\n",
      "      1 a\tabrir\r\n",
      "      2 a\tabsolvi\r\n",
      "      2 a\tac\r\n",
      "      1 a\tacabar\r\n",
      "cat: write error: Broken pipe\r\n"
     ]
    }
   ],
   "source": [
    "! cat ../Dados/DomCasmurroMachadoAssis.txt | tr -sc '[A-Z][a-z]' '[\\012*]' > ../Dados/domcasmurro.words\n",
    "! tail -n+2 ../Dados/domcasmurro.words > ../Dados/domcasmurro.nextwords\n",
    "! paste ../Dados/domcasmurro.words ../Dados/domcasmurro.nextwords | sort | uniq -c > ../Dados/domcasmurro.bigrams\n",
    "! cat ../Dados/domcasmurro.bigrams | head "
   ]
  },
  {
   "cell_type": "markdown",
   "metadata": {},
   "source": [
    "### Parte 3 - Expressões Regulares"
   ]
  },
  {
   "cell_type": "markdown",
   "metadata": {},
   "source": [
    "1 - Repita os exercícios 1 a 4 da parte 2 utilizando [Python](https://docs.python.org/3/library/re.html)"
   ]
  },
  {
   "cell_type": "code",
   "execution_count": 137,
   "metadata": {},
   "outputs": [
    {
     "name": "stdout",
     "output_type": "stream",
     "text": [
      "﻿The Project Gutenberg EBook of Dom Casmurro, by Machado de Assis\n",
      "\n",
      "This eBook is for the use of anyone anywhere in the United States and most\n",
      "other parts of the world at no cost and with almost no restrictions\n",
      "whatsoever.  You may copy it, give it away or re-use it under the terms of\n",
      "the Project Gutenberg License included with this eBook or online at\n",
      "www.gutenberg.org.  If you are not located in the United States, you'll have\n",
      "to check the laws of the country where you are located before using th\n"
     ]
    }
   ],
   "source": [
    "with open('../Dados/DomCasmurroMachadoAssis.txt', 'r') as f:\n",
    "    texto = f.read()\n",
    "print(texto[0:500])"
   ]
  },
  {
   "cell_type": "code",
   "execution_count": 107,
   "metadata": {},
   "outputs": [
    {
     "data": {
      "text/plain": [
       "['\\ufeffThe',\n",
       " 'Project',\n",
       " 'Gutenberg',\n",
       " 'EBook',\n",
       " 'of',\n",
       " 'Dom',\n",
       " 'Casmurro',\n",
       " 'by',\n",
       " 'Machado',\n",
       " 'de']"
      ]
     },
     "execution_count": 107,
     "metadata": {},
     "output_type": "execute_result"
    }
   ],
   "source": [
    "palavras = texto.split()\n",
    "palavras = [p.strip(string.punctuation) for p in palavras]\n",
    "palavras[0:10]"
   ]
  },
  {
   "cell_type": "code",
   "execution_count": null,
   "metadata": {},
   "outputs": [],
   "source": [
    "#Exercicio 1\n",
    "palavrasunicas=list(set(palavras))\n",
    "#ascii\n",
    "def ascii_sorting(l):\n",
    "    convert = lambda text: int(text) if text.isdigit() else text \n",
    "    ascii_key = lambda key: [ convert(c) for c in re.split('([0-9]+)', key) ] \n",
    "    return sorted(l, key=ascii_key )\n",
    "asc=ascii_sorting(palavrasunicas)\n",
    "#alfabetica\n",
    "alfabetica=palavrasunicas\n",
    "alfabetica.sort()\n",
    "#rima\n",
    "palavrasviradas=[]\n",
    "for i in range(len(palavrasunicas)):\n",
    "    palavrasvirada=list(palavras[i])\n",
    "    palavrasvirada.reverse()\n",
    "    palavrasviradas.append(''.join(palavrasvirada))\n",
    "palavrasviradas.sort()\n",
    "rima=[]\n",
    "for i in range(len(palavrasviradas)):\n",
    "    palrima=list(palavrasviradas[i])\n",
    "    palrima.reverse()\n",
    "    rima.append(''.join(palrima))\n",
    "#-----\n",
    "#print(asc)\n",
    "#print(alfabetica)\n",
    "#print(rima)"
   ]
  },
  {
   "cell_type": "code",
   "execution_count": null,
   "metadata": {},
   "outputs": [],
   "source": [
    "#Exercicio 2\n",
    "maiusculas = re.findall(r'\\s[$A-Z]{1}[a-z]*', texto)\n",
    "maiusculas"
   ]
  },
  {
   "cell_type": "code",
   "execution_count": null,
   "metadata": {},
   "outputs": [],
   "source": [
    "#Exercicio 3\n",
    "vogais=['A','E','I','O','U','a','e','i','o','u']\n",
    "umavogal=[]\n",
    "for palavra in palavras:\n",
    "    palavraorig=palavra\n",
    "    palavra=list(palavra)\n",
    "    quantidadevogais=0\n",
    "    for vogal in vogais:\n",
    "        while vogal in palavra:\n",
    "            palavra.remove(vogal)\n",
    "            quantidadevogais+=1\n",
    "    if quantidadevogais==1:\n",
    "        umavogal.append(palavraorig)\n",
    "print(umavogal)        "
   ]
  },
  {
   "cell_type": "code",
   "execution_count": 138,
   "metadata": {},
   "outputs": [],
   "source": [
    "#Exercicio 4\n",
    "bigramas=[]\n",
    "for i in range(0,len(palavras)-1):\n",
    "    bigramas.append(palavras[i]+' --> '+palavras[i+1])\n",
    "contagem={}\n",
    "for i in bigramas:    \n",
    "    if i in contagem:\n",
    "        contagem[i]+=1\n",
    "    else:\n",
    "        contagem[i]=0\n",
    "bigramas=list(set(bigramas))\n",
    "listafinal=[]\n",
    "for k in bigramas:\n",
    "    listafinal.append([str(contagem[k]),k])\n",
    "listafinal.sort(reverse=True)"
   ]
  },
  {
   "cell_type": "code",
   "execution_count": 139,
   "metadata": {},
   "outputs": [],
   "source": [
    "g = open('ex4revisaoa22018.txt', mode='w', encoding='utf-8')\n",
    "for i in listafinal:\n",
    "    g.write(i[1])\n",
    "    g.write(' -|- ')\n",
    "    g.write(i[0])\n",
    "    g.write('\\n')\n",
    "g.close()"
   ]
  },
  {
   "cell_type": "code",
   "execution_count": 156,
   "metadata": {},
   "outputs": [],
   "source": [
    "f.close()"
   ]
  },
  {
   "cell_type": "markdown",
   "metadata": {},
   "source": [
    "### Parte 4 - Bancos de dados"
   ]
  },
  {
   "cell_type": "code",
   "execution_count": null,
   "metadata": {},
   "outputs": [],
   "source": [
    "p = getpass.getpass()\n",
    "conn = pymysql.connect(host='127.0.0.1', #localhost\n",
    "                       port=3306, \n",
    "                       user='aluno', \n",
    "                       passwd=p, \n",
    "                       db='SQLExample1')\n",
    "cur = conn.cursor()"
   ]
  },
  {
   "cell_type": "code",
   "execution_count": null,
   "metadata": {},
   "outputs": [],
   "source": [
    "cur.execute('use SQLExample1;')\n",
    "cur.execute('show tables;')\n",
    "for r in cur.fetchall():\n",
    "    print(r)"
   ]
  },
  {
   "cell_type": "code",
   "execution_count": null,
   "metadata": {},
   "outputs": [],
   "source": [
    "cur.execute('describe account;')\n",
    "for r in cur.fetchall():\n",
    "    print(r)"
   ]
  },
  {
   "cell_type": "code",
   "execution_count": null,
   "metadata": {},
   "outputs": [],
   "source": [
    "cur.execute('select * from account limit 5;')\n",
    "for r in cur.fetchall():\n",
    "    print(r)"
   ]
  },
  {
   "cell_type": "code",
   "execution_count": null,
   "metadata": {},
   "outputs": [],
   "source": [
    "cur.execute('describe product;')\n",
    "for r in cur.fetchall():\n",
    "    print(r)"
   ]
  },
  {
   "cell_type": "code",
   "execution_count": null,
   "metadata": {},
   "outputs": [],
   "source": [
    "cur.execute('select * from product;')\n",
    "for r in cur.fetchall():\n",
    "    print(r)"
   ]
  },
  {
   "cell_type": "code",
   "execution_count": null,
   "metadata": {},
   "outputs": [],
   "source": [
    "cur.execute('describe product_type;')\n",
    "for r in cur.fetchall():\n",
    "    print(r)"
   ]
  },
  {
   "cell_type": "code",
   "execution_count": null,
   "metadata": {},
   "outputs": [],
   "source": [
    "cur.execute('select * from product_type;')\n",
    "for r in cur.fetchall():\n",
    "    print(r)"
   ]
  },
  {
   "cell_type": "code",
   "execution_count": null,
   "metadata": {},
   "outputs": [],
   "source": [
    "cur.execute('describe employee;')\n",
    "for r in cur.fetchall():\n",
    "    print(r)"
   ]
  },
  {
   "cell_type": "code",
   "execution_count": null,
   "metadata": {},
   "outputs": [],
   "source": [
    "cur.execute('select * from employee limit 10;')\n",
    "for r in cur.fetchall():\n",
    "    print(r)"
   ]
  },
  {
   "cell_type": "markdown",
   "metadata": {},
   "source": [
    "1 - Na tabela \"account\", quais os valores médio, mínimo e máximo de \"avail_balance\"?"
   ]
  },
  {
   "cell_type": "code",
   "execution_count": null,
   "metadata": {},
   "outputs": [],
   "source": []
  },
  {
   "cell_type": "markdown",
   "metadata": {},
   "source": [
    "2 - Quais registros na tabela \"account\" estão acima da média de \"avail_balance\"?"
   ]
  },
  {
   "cell_type": "code",
   "execution_count": null,
   "metadata": {},
   "outputs": [],
   "source": []
  },
  {
   "cell_type": "markdown",
   "metadata": {},
   "source": [
    "3 - Na tabela \"account\", quais as 3 datas mais recentes e as 3 datas mais antigas (\"open_date\")?"
   ]
  },
  {
   "cell_type": "code",
   "execution_count": null,
   "metadata": {},
   "outputs": [],
   "source": []
  },
  {
   "cell_type": "markdown",
   "metadata": {},
   "source": [
    "4 - Para cada elemento na tabela \"product\", exiba o nome completo do \"product_type_cd\" (tabela \"product_type\")"
   ]
  },
  {
   "cell_type": "code",
   "execution_count": null,
   "metadata": {},
   "outputs": [],
   "source": [
    "cur.execute('use SQLExample1;')"
   ]
  },
  {
   "cell_type": "code",
   "execution_count": null,
   "metadata": {},
   "outputs": [],
   "source": [
    "q = '''\n",
    "SELECT p.name, t.name FROM product AS p \n",
    "JOIN product_type AS t\n",
    "ON p.product_type_cd = t.product_type_cd\n",
    ";\n",
    "'''\n",
    "\n",
    "cur.execute(q)\n",
    "for r in cur.fetchall():\n",
    "    print(r)"
   ]
  },
  {
   "cell_type": "markdown",
   "metadata": {},
   "source": [
    "5 - Quantos empregados (\"employees\") possuem a letra \"e\" em seus nomes? E quantos tem sobrenomes que terminam com \"r\"? "
   ]
  },
  {
   "cell_type": "code",
   "execution_count": null,
   "metadata": {},
   "outputs": [],
   "source": []
  },
  {
   "cell_type": "markdown",
   "metadata": {},
   "source": [
    "6 - Quais são os títulos (\"title\") possíveis para os empregados (\"employees\")? "
   ]
  },
  {
   "cell_type": "code",
   "execution_count": null,
   "metadata": {},
   "outputs": [],
   "source": []
  },
  {
   "cell_type": "markdown",
   "metadata": {},
   "source": [
    "7 - Quantos empregados (\"employees\") estão a exatamente dois níveis abaixo do presidente? "
   ]
  },
  {
   "cell_type": "code",
   "execution_count": null,
   "metadata": {},
   "outputs": [],
   "source": [
    "cur.execute('use SQLExample1;')"
   ]
  },
  {
   "cell_type": "code",
   "execution_count": null,
   "metadata": {},
   "outputs": [],
   "source": [
    "cur.execute('describe employee;')\n",
    "for r in cur.fetchall():\n",
    "    print(r)"
   ]
  },
  {
   "cell_type": "code",
   "execution_count": null,
   "metadata": {},
   "outputs": [],
   "source": [
    "q = '''\n",
    "SELECT * FROM employee WHERE superior_emp_id IN \n",
    "(SELECT emp_id FROM employee WHERE superior_emp_id = 1)\n",
    "OR \n",
    "superior_emp_id = 1\n",
    ";\n",
    "'''\n",
    "\n",
    "cur.execute(q)\n",
    "for r in cur.fetchall():\n",
    "    print(r)"
   ]
  },
  {
   "cell_type": "code",
   "execution_count": null,
   "metadata": {},
   "outputs": [],
   "source": []
  },
  {
   "cell_type": "markdown",
   "metadata": {},
   "source": [
    "8 - Na tabela \"account\", quais os valores médio, mínimo e máximo de \"avail_balance\" por tipo de 'product_cd' ?"
   ]
  },
  {
   "cell_type": "code",
   "execution_count": null,
   "metadata": {},
   "outputs": [],
   "source": []
  },
  {
   "cell_type": "markdown",
   "metadata": {},
   "source": [
    "9 - Na tabela \"transaction\", há quantos registros por ano (\"txn_date\")?"
   ]
  },
  {
   "cell_type": "code",
   "execution_count": null,
   "metadata": {},
   "outputs": [],
   "source": []
  },
  {
   "cell_type": "markdown",
   "metadata": {},
   "source": [
    "10 - Você é dono de uma loja de automóveis. Crie tabelas no banco \"alunos\" para representar os carros de seu pátio, os modelos de automóveis, os clientes e as compras realizadas. "
   ]
  },
  {
   "cell_type": "code",
   "execution_count": null,
   "metadata": {},
   "outputs": [],
   "source": [
    "cur.execute('use alunos;')\n",
    "cur.execute('show tables;')\n",
    "for r in cur.fetchall():\n",
    "    print(r)"
   ]
  },
  {
   "cell_type": "code",
   "execution_count": null,
   "metadata": {},
   "outputs": [],
   "source": [
    "q = '''CREATE TABLE IF NOT EXISTS carros\n",
    "       (text VARCHAR(200) DEFAULT NULL,\n",
    "        number INT DEFAULT NULL)\n",
    "        ENGINE=MyISAM DEFAULT CHARSET='utf8';'''\n",
    "\n",
    "cur.execute(q)"
   ]
  },
  {
   "cell_type": "code",
   "execution_count": null,
   "metadata": {},
   "outputs": [],
   "source": [
    "cur.execute('show tables;')\n",
    "for r in cur.fetchall():\n",
    "    print(r)"
   ]
  },
  {
   "cell_type": "markdown",
   "metadata": {},
   "source": [
    "11 - Crie uma lista no Python com todos os nomes e sobrenomes em strings únicas, a partir da tabela \"individual\"  "
   ]
  },
  {
   "cell_type": "code",
   "execution_count": null,
   "metadata": {},
   "outputs": [],
   "source": []
  },
  {
   "cell_type": "markdown",
   "metadata": {},
   "source": [
    "12 - A partir da tabela \"individual\", crie um dicionário no Python tendo os nomes e sobrenomes em strings únicas como chaves e os anos das datas como valores."
   ]
  },
  {
   "cell_type": "code",
   "execution_count": null,
   "metadata": {},
   "outputs": [],
   "source": []
  },
  {
   "cell_type": "markdown",
   "metadata": {},
   "source": [
    "13 - Utilizando Python, crie um banco de dados no sqlite que guarde a seguinte estrutura, demonstrada no dataframe do Pandas:  \n",
    "Use os tipos de dados mais adequados.  \n",
    "\n",
    "Veja:  \n",
    "https://sqlite.org/datatype3.html    \n",
    "https://sqlite.org/autoinc.html  \n",
    "https://www.tutorialspoint.com/sqlite/sqlite_update_query.htm  "
   ]
  },
  {
   "cell_type": "code",
   "execution_count": null,
   "metadata": {},
   "outputs": [],
   "source": [
    "df_tf = pd.read_excel('../Dados/votesurvey.xls')\n",
    "df_tf.index.name = 'id'\n",
    "df_tf.head(10)"
   ]
  },
  {
   "cell_type": "code",
   "execution_count": null,
   "metadata": {},
   "outputs": [],
   "source": []
  },
  {
   "cell_type": "markdown",
   "metadata": {},
   "source": [
    "14 - Conecte ao banco SQLite \"iris_database.sqlite\"e responda, demonstrando os comandos SQL apropriados:  \n",
    "\n",
    "a) Há quantas \"Species\" diferentes na tabela \"iris\"?  \n",
    "b) Quantos registros totais há na tabela \"iris\"?  \n",
    "\n",
    "Considerando a superfície das pétalas e sépalas como retangular, responda:  \n",
    "\n",
    "c) Qual espécie (\"Species\") contém, em média, a maior área de pétalas?  \n",
    "d) Qual espécie (\"Species\") contém, em média, a maior área total (pétalas e sépalas)?  \n",
    "\n",
    "(Por curiosidade, as espécies de Iris contém 3 pétalas e 3 sépalas)  "
   ]
  },
  {
   "cell_type": "code",
   "execution_count": null,
   "metadata": {},
   "outputs": [],
   "source": [
    "conn = sqlite3.connect('../Dados/iris_database.sqlite')\n",
    "cur = conn.cursor()"
   ]
  },
  {
   "cell_type": "code",
   "execution_count": null,
   "metadata": {},
   "outputs": [],
   "source": []
  },
  {
   "cell_type": "markdown",
   "metadata": {},
   "source": [
    "15 - Conecte ao banco Python/Dados/chinook.sqlite e responda:\n",
    "\n",
    "a) Utilizando um comando SQL e as tabelas \"invoices\", \"invoice_items\", \"customers\" e \"tracks\", mostre quais as faixas compradas por clientes que têm o primeiro nome começando com a letra \"M\".  \n",
    "b) Quais clientes contêm a letra \"o\" tanto no nome como no sobrenome?  \n",
    "c) Crie um histograma de faixas (\"tracks\") mais compradas, usando o matplotlib.  \n",
    "d) Qual o cliente (\"customers\") que teve gasto médio em compras (\"invoices\") o valor mais próximo do valor médio do total de compras de todos os clientes?  \n",
    "e) Escreva um script em Python + SQL para construir um dicionário tendo os nomes dos artistas (\"artists\") como chaves e uma lista dos álbuns (\"albuns\") respectivos como valores."
   ]
  },
  {
   "cell_type": "code",
   "execution_count": null,
   "metadata": {},
   "outputs": [],
   "source": [
    "conn = sqlite3.connect('../Dados/chinook.sqlite')\n",
    "cur = conn.cursor()"
   ]
  },
  {
   "cell_type": "code",
   "execution_count": null,
   "metadata": {},
   "outputs": [],
   "source": []
  }
 ],
 "metadata": {
  "kernelspec": {
   "display_name": "Python 3",
   "language": "python",
   "name": "python3"
  },
  "language_info": {
   "codemirror_mode": {
    "name": "ipython",
    "version": 3
   },
   "file_extension": ".py",
   "mimetype": "text/x-python",
   "name": "python",
   "nbconvert_exporter": "python",
   "pygments_lexer": "ipython3",
   "version": "3.5.2"
  }
 },
 "nbformat": 4,
 "nbformat_minor": 2
}
