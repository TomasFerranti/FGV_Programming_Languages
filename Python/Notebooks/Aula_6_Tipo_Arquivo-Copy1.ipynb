{
 "cells": [
  {
   "cell_type": "markdown",
   "metadata": {},
   "source": [
    "FGV - Escola de Matemática Aplicada\n",
    "==\n",
    "Introdução à Programação com a Linguagem Python\n",
    "--"
   ]
  },
  {
   "cell_type": "markdown",
   "metadata": {},
   "source": [
    "#### Tipo Arquivo"
   ]
  },
  {
   "cell_type": "markdown",
   "metadata": {},
   "source": [
    "Abrindo um aquivo .txt: "
   ]
  },
  {
   "cell_type": "code",
   "execution_count": 1,
   "metadata": {},
   "outputs": [
    {
     "name": "stdout",
     "output_type": "stream",
     "text": [
      "/dados/home/tferranti/FGV_Programming_Languages/Python/Notebooks\r\n"
     ]
    }
   ],
   "source": [
    "!pwd"
   ]
  },
  {
   "cell_type": "code",
   "execution_count": 2,
   "metadata": {},
   "outputs": [],
   "source": [
    "texto = 'Minha string'\n",
    "f = open('meu_arquivo.txt', mode='w', encoding='utf-8')"
   ]
  },
  {
   "cell_type": "code",
   "execution_count": 3,
   "metadata": {},
   "outputs": [
    {
     "data": {
      "text/plain": [
       "<_io.TextIOWrapper name='meu_arquivo.txt' mode='w' encoding='utf-8'>"
      ]
     },
     "execution_count": 3,
     "metadata": {},
     "output_type": "execute_result"
    }
   ],
   "source": [
    "f"
   ]
  },
  {
   "cell_type": "markdown",
   "metadata": {},
   "source": [
    "'w' indica que o arquino está no modo writing, isto é, você poderá editar o texto."
   ]
  },
  {
   "cell_type": "code",
   "execution_count": 6,
   "metadata": {},
   "outputs": [
    {
     "data": {
      "text/plain": [
       "4"
      ]
     },
     "execution_count": 6,
     "metadata": {},
     "output_type": "execute_result"
    }
   ],
   "source": [
    "f.write('Olá\\n')"
   ]
  },
  {
   "cell_type": "code",
   "execution_count": 7,
   "metadata": {},
   "outputs": [
    {
     "data": {
      "text/plain": [
       "27"
      ]
     },
     "execution_count": 7,
     "metadata": {},
     "output_type": "execute_result"
    }
   ],
   "source": [
    "f.write('olá, como vai\\n')\n",
    "f.write('\\n')\n",
    "f.write('Então tchau!\\n')\n",
    "f.write('\\n')\n",
    "f.write('um texto\\tdepois de um <tab>')"
   ]
  },
  {
   "cell_type": "markdown",
   "metadata": {},
   "source": [
    "Após criar o arquivo e realizar os procedimentos de escrita ou leitura, devemos fechar o arquivo."
   ]
  },
  {
   "cell_type": "code",
   "execution_count": 8,
   "metadata": {},
   "outputs": [
    {
     "data": {
      "text/plain": [
       "False"
      ]
     },
     "execution_count": 8,
     "metadata": {},
     "output_type": "execute_result"
    }
   ],
   "source": [
    "f.closed"
   ]
  },
  {
   "cell_type": "code",
   "execution_count": 9,
   "metadata": {},
   "outputs": [],
   "source": [
    "f.close()"
   ]
  },
  {
   "cell_type": "code",
   "execution_count": 10,
   "metadata": {},
   "outputs": [
    {
     "data": {
      "text/plain": [
       "True"
      ]
     },
     "execution_count": 10,
     "metadata": {},
     "output_type": "execute_result"
    }
   ],
   "source": [
    "f.closed"
   ]
  },
  {
   "cell_type": "code",
   "execution_count": 11,
   "metadata": {},
   "outputs": [
    {
     "ename": "ValueError",
     "evalue": "I/O operation on closed file.",
     "output_type": "error",
     "traceback": [
      "\u001b[0;31m---------------------------------------------------------------------------\u001b[0m",
      "\u001b[0;31mValueError\u001b[0m                                Traceback (most recent call last)",
      "\u001b[0;32m<ipython-input-11-8bd384383b6f>\u001b[0m in \u001b[0;36m<module>\u001b[0;34m()\u001b[0m\n\u001b[0;32m----> 1\u001b[0;31m \u001b[0mf\u001b[0m\u001b[0;34m.\u001b[0m\u001b[0mwrite\u001b[0m\u001b[0;34m(\u001b[0m\u001b[0;34m'Então tchau!\\n'\u001b[0m\u001b[0;34m)\u001b[0m\u001b[0;34m\u001b[0m\u001b[0m\n\u001b[0m",
      "\u001b[0;31mValueError\u001b[0m: I/O operation on closed file."
     ]
    }
   ],
   "source": [
    "f.write('Então tchau!\\n')"
   ]
  },
  {
   "cell_type": "code",
   "execution_count": 1,
   "metadata": {},
   "outputs": [],
   "source": [
    "import random"
   ]
  },
  {
   "cell_type": "code",
   "execution_count": 2,
   "metadata": {},
   "outputs": [
    {
     "data": {
      "text/plain": [
       "0"
      ]
     },
     "execution_count": 2,
     "metadata": {},
     "output_type": "execute_result"
    }
   ],
   "source": [
    "random.randint(0,1)"
   ]
  },
  {
   "cell_type": "code",
   "execution_count": 12,
   "metadata": {},
   "outputs": [],
   "source": [
    "g = open('meu_arquivo.txt', mode='r', encoding='utf-8')"
   ]
  },
  {
   "cell_type": "code",
   "execution_count": 13,
   "metadata": {},
   "outputs": [
    {
     "data": {
      "text/plain": [
       "<_io.TextIOWrapper name='meu_arquivo.txt' mode='r' encoding='utf-8'>"
      ]
     },
     "execution_count": 13,
     "metadata": {},
     "output_type": "execute_result"
    }
   ],
   "source": [
    "g"
   ]
  },
  {
   "cell_type": "markdown",
   "metadata": {},
   "source": [
    "'r' indica que o arquivo está sendo aberto no modo leitura, não será permitido realizar modificações no texto."
   ]
  },
  {
   "cell_type": "markdown",
   "metadata": {},
   "source": [
    "O comando readlines() retornará o texto todo em uma lista de strings, sendo que cada string é uma linha do texto."
   ]
  },
  {
   "cell_type": "code",
   "execution_count": 14,
   "metadata": {},
   "outputs": [
    {
     "name": "stdout",
     "output_type": "stream",
     "text": [
      "['Olá\\n', 'Olá\\n', 'Olá\\n', 'olá, como vai\\n', '\\n', 'Então tchau!\\n', '\\n', 'um texto\\tdepois de um <tab>']\n"
     ]
    }
   ],
   "source": [
    "texto_em_uma_lista = g.readlines()\n",
    "print(texto_em_uma_lista)"
   ]
  },
  {
   "cell_type": "code",
   "execution_count": 43,
   "metadata": {
    "collapsed": true
   },
   "outputs": [],
   "source": [
    "g = open('meu_arquivo.txt', mode='r', encoding='utf-8')"
   ]
  },
  {
   "cell_type": "markdown",
   "metadata": {},
   "source": [
    "O comando readline() retornará sempre a primeira linha do texto. Conforme ele for executado mais vezes, retornará as linhas seguintes."
   ]
  },
  {
   "cell_type": "code",
   "execution_count": 26,
   "metadata": {},
   "outputs": [
    {
     "name": "stdout",
     "output_type": "stream",
     "text": [
      "Olá\n",
      "\n"
     ]
    }
   ],
   "source": [
    "g.seek(0)\n",
    "primeira_linha = g.readline()\n",
    "print(primeira_linha)"
   ]
  },
  {
   "cell_type": "code",
   "execution_count": 27,
   "metadata": {},
   "outputs": [
    {
     "name": "stdout",
     "output_type": "stream",
     "text": [
      "Olá\n",
      "\n"
     ]
    }
   ],
   "source": [
    "segunda = g.readline()\n",
    "print(segunda)"
   ]
  },
  {
   "cell_type": "code",
   "execution_count": 28,
   "metadata": {},
   "outputs": [
    {
     "name": "stdout",
     "output_type": "stream",
     "text": [
      "Olá\n",
      "\n"
     ]
    }
   ],
   "source": [
    "terceira = g.readline()\n",
    "print(terceira)"
   ]
  },
  {
   "cell_type": "code",
   "execution_count": 67,
   "metadata": {},
   "outputs": [
    {
     "data": {
      "text/plain": [
       "0"
      ]
     },
     "execution_count": 67,
     "metadata": {},
     "output_type": "execute_result"
    }
   ],
   "source": [
    "g.seek(0)"
   ]
  },
  {
   "cell_type": "code",
   "execution_count": 68,
   "metadata": {},
   "outputs": [
    {
     "data": {
      "text/plain": [
       "'olá, como vai\\n'"
      ]
     },
     "execution_count": 68,
     "metadata": {},
     "output_type": "execute_result"
    }
   ],
   "source": [
    "primeira_linha = g.readline()\n",
    "primeira_linha"
   ]
  },
  {
   "cell_type": "code",
   "execution_count": 69,
   "metadata": {
    "collapsed": true
   },
   "outputs": [],
   "source": [
    "segunda_linha = g.readline()"
   ]
  },
  {
   "cell_type": "code",
   "execution_count": 70,
   "metadata": {},
   "outputs": [
    {
     "data": {
      "text/plain": [
       "'\\n'"
      ]
     },
     "execution_count": 70,
     "metadata": {},
     "output_type": "execute_result"
    }
   ],
   "source": [
    "segunda_linha"
   ]
  },
  {
   "cell_type": "code",
   "execution_count": 29,
   "metadata": {},
   "outputs": [],
   "source": [
    "g.seek(0)\n",
    "todas_as_linhas = g.read()"
   ]
  },
  {
   "cell_type": "markdown",
   "metadata": {},
   "source": [
    "Com o comando read() todo "
   ]
  },
  {
   "cell_type": "code",
   "execution_count": 30,
   "metadata": {},
   "outputs": [
    {
     "name": "stdout",
     "output_type": "stream",
     "text": [
      "Olá\n",
      "Olá\n",
      "Olá\n",
      "olá, como vai\n",
      "\n",
      "Então tchau!\n",
      "\n",
      "um texto\tdepois de um <tab>\n"
     ]
    }
   ],
   "source": [
    "print(todas_as_linhas)"
   ]
  },
  {
   "cell_type": "code",
   "execution_count": 33,
   "metadata": {},
   "outputs": [],
   "source": [
    "g.close()"
   ]
  },
  {
   "cell_type": "markdown",
   "metadata": {},
   "source": [
    "Agora vejamos outra forma de abrir um arquivo:"
   ]
  },
  {
   "cell_type": "code",
   "execution_count": 34,
   "metadata": {},
   "outputs": [],
   "source": [
    "with open('novo_arquivo.txt', mode='w', encoding='utf-8') as f:\n",
    "    f.write('Peso\\t\\t72\\n')\n",
    "    f.write('Altura\\t\\t183\\n')\n",
    "    f.write('Idade\\t\\t44\\n')\n",
    "    f.write('Genero\\t\\tMasculino\\n')\n",
    "    f.write('\\n')"
   ]
  },
  {
   "cell_type": "code",
   "execution_count": 35,
   "metadata": {},
   "outputs": [
    {
     "name": "stdout",
     "output_type": "stream",
     "text": [
      "['Peso\\t\\t72\\n', 'Altura\\t\\t183\\n', 'Idade\\t\\t44\\n', 'Genero\\t\\tMasculino\\n', '\\n']\n",
      "Peso\t\t72\n",
      "\n",
      "Altura\t\t183\n",
      "\n",
      "Idade\t\t44\n",
      "\n",
      "Genero\t\tMasculino\n",
      "\n",
      "\n",
      "\n"
     ]
    }
   ],
   "source": [
    "with open('novo_arquivo.txt', mode='r', encoding='utf-8') as f:\n",
    "    linha = f.readlines()\n",
    "    #linha = f.read()\n",
    "    \n",
    "print(linha)\n",
    "\n",
    "for elemento in linha:\n",
    "    print(elemento)"
   ]
  },
  {
   "cell_type": "code",
   "execution_count": 36,
   "metadata": {},
   "outputs": [],
   "source": [
    "with open('../Dados/dados.csv', mode='r', encoding='utf-8') as f:\n",
    "    f.readline()\n",
    "    f.readline()\n",
    "    f.readline()\n",
    "    f.readline()\n",
    "    lista_texto = f.readline()\n",
    "    lista_texto2 = f.readline()"
   ]
  },
  {
   "cell_type": "code",
   "execution_count": 37,
   "metadata": {},
   "outputs": [
    {
     "data": {
      "text/plain": [
       "'\"Country Name\",\"Country Code\",\"Indicator Name\",\"Indicator Code\",\"1960\",\"1961\",\"1962\",\"1963\",\"1964\",\"1965\",\"1966\",\"1967\",\"1968\",\"1969\",\"1970\",\"1971\",\"1972\",\"1973\",\"1974\",\"1975\",\"1976\",\"1977\",\"1978\",\"1979\",\"1980\",\"1981\",\"1982\",\"1983\",\"1984\",\"1985\",\"1986\",\"1987\",\"1988\",\"1989\",\"1990\",\"1991\",\"1992\",\"1993\",\"1994\",\"1995\",\"1996\",\"1997\",\"1998\",\"1999\",\"2000\",\"2001\",\"2002\",\"2003\",\"2004\",\"2005\",\"2006\",\"2007\",\"2008\",\"2009\",\"2010\",\"2011\",\"2012\",\"2013\",\"2014\",\"2015\",\\n'"
      ]
     },
     "execution_count": 37,
     "metadata": {},
     "output_type": "execute_result"
    }
   ],
   "source": [
    "lista_texto"
   ]
  },
  {
   "cell_type": "code",
   "execution_count": 90,
   "metadata": {},
   "outputs": [
    {
     "data": {
      "text/plain": [
       "'\"Brazil\",\"BRA\",\"Agricultural machinery, tractors\",\"AG.AGR.TRAC.NO\",\"\",\"72000\",\"82000\",\"93000\",\"103000\",\"114000\",\"124000\",\"134500\",\"145000\",\"155400\",\"165870\",\"183500\",\"201000\",\"218500\",\"236000\",\"323113\",\"350000\",\"370000\",\"428000\",\"485000\",\"545205\",\"569000\",\"593000\",\"617000\",\"641000\",\"666309\",\"678803\",\"691297\",\"703790\",\"716285\",\"728779\",\"741272\",\"753766\",\"766260\",\"778754\",\"791248\",\"803742\",\"802173\",\"800604\",\"799035\",\"797466\",\"795898\",\"794329\",\"792760\",\"791191\",\"789622\",\"788053\",\"\",\"\",\"\",\"\",\"\",\"\",\"\",\"\",\"\",\\n'"
      ]
     },
     "execution_count": 90,
     "metadata": {},
     "output_type": "execute_result"
    }
   ],
   "source": [
    "lista_texto2"
   ]
  },
  {
   "cell_type": "code",
   "execution_count": 50,
   "metadata": {
    "collapsed": true,
    "scrolled": true
   },
   "outputs": [],
   "source": [
    "for indice in range(len(lista_texto)):\n",
    "    lista_texto[indice] = lista_texto[indice].split(',')"
   ]
  },
  {
   "cell_type": "code",
   "execution_count": 52,
   "metadata": {},
   "outputs": [
    {
     "data": {
      "text/plain": [
       "['\"Brazil\"',\n",
       " '\"BRA\"',\n",
       " '\"Agricultural machinery',\n",
       " ' tractors\"',\n",
       " '\"AG.AGR.TRAC.NO\"',\n",
       " '\"\"',\n",
       " '\"72000\"',\n",
       " '\"82000\"',\n",
       " '\"93000\"',\n",
       " '\"103000\"',\n",
       " '\"114000\"',\n",
       " '\"124000\"',\n",
       " '\"134500\"',\n",
       " '\"145000\"',\n",
       " '\"155400\"',\n",
       " '\"165870\"',\n",
       " '\"183500\"',\n",
       " '\"201000\"',\n",
       " '\"218500\"',\n",
       " '\"236000\"',\n",
       " '\"323113\"',\n",
       " '\"350000\"',\n",
       " '\"370000\"',\n",
       " '\"428000\"',\n",
       " '\"485000\"',\n",
       " '\"545205\"',\n",
       " '\"569000\"',\n",
       " '\"593000\"',\n",
       " '\"617000\"',\n",
       " '\"641000\"',\n",
       " '\"666309\"',\n",
       " '\"678803\"',\n",
       " '\"691297\"',\n",
       " '\"703790\"',\n",
       " '\"716285\"',\n",
       " '\"728779\"',\n",
       " '\"741272\"',\n",
       " '\"753766\"',\n",
       " '\"766260\"',\n",
       " '\"778754\"',\n",
       " '\"791248\"',\n",
       " '\"803742\"',\n",
       " '\"802173\"',\n",
       " '\"800604\"',\n",
       " '\"799035\"',\n",
       " '\"797466\"',\n",
       " '\"795898\"',\n",
       " '\"794329\"',\n",
       " '\"792760\"',\n",
       " '\"791191\"',\n",
       " '\"789622\"',\n",
       " '\"788053\"',\n",
       " '\"\"',\n",
       " '\"\"',\n",
       " '\"\"',\n",
       " '\"\"',\n",
       " '\"\"',\n",
       " '\"\"',\n",
       " '\"\"',\n",
       " '\"\"',\n",
       " '\"\"',\n",
       " '\\n']"
      ]
     },
     "execution_count": 52,
     "metadata": {},
     "output_type": "execute_result"
    }
   ],
   "source": [
    "lista_texto[1]"
   ]
  },
  {
   "cell_type": "code",
   "execution_count": 53,
   "metadata": {
    "collapsed": true
   },
   "outputs": [],
   "source": [
    "idx = lista_texto[0].index('\"2005\"')"
   ]
  },
  {
   "cell_type": "code",
   "execution_count": 54,
   "metadata": {},
   "outputs": [
    {
     "data": {
      "text/plain": [
       "49"
      ]
     },
     "execution_count": 54,
     "metadata": {},
     "output_type": "execute_result"
    }
   ],
   "source": [
    "idx"
   ]
  },
  {
   "cell_type": "code",
   "execution_count": 55,
   "metadata": {},
   "outputs": [
    {
     "name": "stdout",
     "output_type": "stream",
     "text": [
      "O valor do indicador Indicator Name é 2005\n",
      "O valor do indicador Agricultural machinery é 791191\n",
      "O valor do indicador Fertilizer consumption (% of fertilizer production) é 269.937681288949\n",
      "O valor do indicador Fertilizer consumption (kilograms per hectare of arable land) é 120.100351374409\n",
      "O valor do indicador Agricultural land (sq. km) é 2724326\n",
      "O valor do indicador Agricultural land (% of land area) é 32.5948835506464\n",
      "O valor do indicador Arable land (hectares) é 69157000\n",
      "O valor do indicador Arable land (hectares per person) é 0.366921046583167\n",
      "O valor do indicador Arable land (% of land area) é 8.27420933365558\n",
      "O valor do indicador Land under cereal production (hectares) é 19312005\n"
     ]
    }
   ],
   "source": [
    "for linha in lista_texto:\n",
    "    print('O valor do indicador {} é {}'.format(linha[2].strip('\"'), linha[idx].strip('\"')))"
   ]
  },
  {
   "cell_type": "code",
   "execution_count": 38,
   "metadata": {},
   "outputs": [],
   "source": [
    "with open('../Dados/texto_python.txt', mode='r', encoding='utf-8') as f:\n",
    "    novo = f.read()"
   ]
  },
  {
   "cell_type": "code",
   "execution_count": 39,
   "metadata": {},
   "outputs": [
    {
     "data": {
      "text/plain": [
       "'\\n  /Python/\\n\\nOrigem: Wikipédia, a enciclopédia livre.\\nIr para: navegação <#mw-head>, pesquisa <#p-search>\\nDisambig grey.svg *Nota:* Para outros significados, veja Python\\n(desambiguação) </wiki/Python_(desambigua%C3%A7%C3%A3o)>.\\nPython\\nPython logo and wordmark.svg </wiki/Ficheiro:Python_logo_and_wordmark.svg>\\nParadigma </wiki/Paradigma_de_programa%C3%A7%C3%A3o> \\tMultiparadigma\\n</wiki/Multiparadigma>:\\nOrientação a objetos </wiki/Orienta%C3%A7%C3%A3o_a_objetos>\\nProgramação imperativa </wiki/Programa%C3%A7%C3%A3o_imperativa>\\nProgramação funcional </wiki/Programa%C3%A7%C3%A3o_funcional>\\nSurgido em \\t1991 </wiki/1991>^[1] <#cite_note-svn-hist.C3.B3ria-1>\\nÚltima versão </wiki/Vers%C3%A3o> \\t3.4.1 (18 de maio de 2014^[2]\\n<#cite_note-2> )\\nCriado por \\tGuido van Rossum </wiki/Guido_van_Rossum>^[1]\\n<#cite_note-svn-hist.C3.B3ria-1>\\nEstilo de tipagem </wiki/Tipo_de_dado>: \\tDinâmica, forte\\nDialetos: \\tCPython </wiki/CPython>, IronPython </wiki/IronPython>,\\nJython </wiki/Jython>, PyPy </w/index.php?title'"
      ]
     },
     "execution_count": 39,
     "metadata": {},
     "output_type": "execute_result"
    }
   ],
   "source": [
    "novo[0:1000]"
   ]
  },
  {
   "cell_type": "code",
   "execution_count": 40,
   "metadata": {},
   "outputs": [
    {
     "data": {
      "text/plain": [
       "'    Python   Origem  Wikipédia  a enciclopédia livre  Ir para  navegação   mw head   pesquisa   p search  Disambig grey svg  Nota   Para outros significados  veja Python  desambiguação    wiki Python  desambigua C3 A7 C3 A3o    Python Python logo and wordmark svg   wiki Ficheiro Python logo and wordmark svg  Paradigma   wiki Paradigma de programa C3 A7 C3 A3o   Multiparadigma   wiki Multiparadigma   Orientação a objetos   wiki Orienta C3 A7 C3 A3o a objetos  Programação imperativa   wiki Programa C3 A7 C3 A3o imperativa  Programação funcional   wiki Programa C3 A7 C3 A3o funcional  Surgido em  1991   wiki 1991   1    cite note svn hist C3 B3ria 1   ltima versão   wiki Vers C3 A3o   3 4 1  18 de maio de 2014  2    cite note 2    Criado por  Guido van Rossum   wiki Guido van Rossum   1    cite note svn hist C3 B3ria 1  Estilo de tipagem   wiki Tipo de dado    Dinâmica  forte Dialetos   CPython   wiki CPython   IronPython   wiki IronPython   Jython   wiki Jython   PyPy   w index php title'"
      ]
     },
     "execution_count": 40,
     "metadata": {},
     "output_type": "execute_result"
    }
   ],
   "source": [
    "import re\n",
    "novo = re.sub(r'[^A-Za-z0-9áéíó´úàâêôãõçü]',' ',novo)\n",
    "novo[0:1000]"
   ]
  },
  {
   "cell_type": "code",
   "execution_count": 41,
   "metadata": {},
   "outputs": [],
   "source": [
    "def freqdist(texto):\n",
    "    dic = {}\n",
    "    lista = texto.split()\n",
    "    for token in lista:\n",
    "        if token.lower() not in dic:\n",
    "            dic[token.lower()] = 1\n",
    "        else:\n",
    "            dic[token.lower()] = dic[token.lower()] + 1\n",
    "    return dic"
   ]
  },
  {
   "cell_type": "code",
   "execution_count": 42,
   "metadata": {},
   "outputs": [],
   "source": [
    "dic = freqdist(novo)"
   ]
  },
  {
   "cell_type": "code",
   "execution_count": 46,
   "metadata": {},
   "outputs": [
    {
     "data": {
      "text/plain": [
       "{'forma': 5,\n",
       " 'agradável': 1,\n",
       " 'ainda': 2,\n",
       " 'analisador': 7,\n",
       " 'para': 129,\n",
       " 'svg': 5,\n",
       " 'standard': 1,\n",
       " 'preferível': 1,\n",
       " 'matemática': 2,\n",
       " 'statically': 1,\n",
       " 'r': 4,\n",
       " 'dart': 2,\n",
       " 'ada': 2,\n",
       " 'gateway': 2,\n",
       " 'filter': 1,\n",
       " 'moshe': 1,\n",
       " 'linuxjournal': 1,\n",
       " 'citada': 1,\n",
       " 'mudan': 1,\n",
       " 'modernos': 1,\n",
       " '2014': 4,\n",
       " 'slithers': 2,\n",
       " '0636920025696': 1,\n",
       " 'anexa': 1,\n",
       " 'básicos': 1,\n",
       " '91': 1,\n",
       " 'db': 3,\n",
       " 'microthreads': 1,\n",
       " 'cite': 98,\n",
       " 'tem': 2,\n",
       " 'melayu': 1,\n",
       " 'resultado': 5,\n",
       " 'princípio': 1,\n",
       " 'duplicados': 1,\n",
       " 'osi': 1,\n",
       " 'aviso': 1,\n",
       " '8d': 23,\n",
       " 'time': 2,\n",
       " 'construídas': 1,\n",
       " 'possuírem': 1,\n",
       " 'apache': 2,\n",
       " 'si': 2,\n",
       " 'bancos': 1,\n",
       " 'apl': 2,\n",
       " 'formatos': 1,\n",
       " 'reference': 2,\n",
       " 'magyar': 1,\n",
       " 'c': 49,\n",
       " 'id': 2,\n",
       " 'permanente': 1,\n",
       " 'escrita': 3,\n",
       " 'ingl': 1,\n",
       " 'jpg': 2,\n",
       " 'torno': 1,\n",
       " '5905': 1,\n",
       " 'nível': 10,\n",
       " 'source': 2,\n",
       " 'comentários': 6,\n",
       " 'abaixo': 2,\n",
       " 'podiam': 1,\n",
       " 'avaliação': 3,\n",
       " 'russo': 2,\n",
       " 'começam': 1,\n",
       " 'código': 60,\n",
       " 'chaves': 1,\n",
       " 'subrotina': 2,\n",
       " 'escrever': 1,\n",
       " 'cebuano': 1,\n",
       " 'consoles': 1,\n",
       " 'avaliado': 1,\n",
       " '3000': 1,\n",
       " 'nenhum': 1,\n",
       " 'característica': 1,\n",
       " 'anexadas': 1,\n",
       " 'ponto': 2,\n",
       " '3d': 1,\n",
       " 'pythonlabs': 3,\n",
       " '9781449340377': 1,\n",
       " 'pelas': 1,\n",
       " 'b6': 5,\n",
       " 'adtica': 1,\n",
       " 'commons': 10,\n",
       " '5': 26,\n",
       " 'closures': 1,\n",
       " 'cultura': 1,\n",
       " 'bookcmd': 2,\n",
       " 'article': 3,\n",
       " 'afluentes': 2,\n",
       " 'desativada': 1,\n",
       " 'if': 6,\n",
       " 'adicionais': 2,\n",
       " 'exemplos': 12,\n",
       " 'noticiado': 1,\n",
       " 'interativo': 5,\n",
       " 'genéricas': 1,\n",
       " 'print': 11,\n",
       " 'mnet': 2,\n",
       " 'avalia': 1,\n",
       " 'he': 3,\n",
       " 'empilhamento': 1,\n",
       " 'membros': 1,\n",
       " 'interação': 1,\n",
       " 'comunit': 1,\n",
       " 'campos': 1,\n",
       " 'plataformas': 7,\n",
       " 'formado': 1,\n",
       " 'introduziu': 1,\n",
       " 'ajuda': 3,\n",
       " 'ultrapassar': 1,\n",
       " 'eletr': 2,\n",
       " 'haskell': 10,\n",
       " 'antes': 4,\n",
       " 'token': 2,\n",
       " 'hylton': 1,\n",
       " 'cláusula': 1,\n",
       " 'pol': 1,\n",
       " 'seguintes': 1,\n",
       " 'condição': 1,\n",
       " 'mn': 1,\n",
       " 'ab': 5,\n",
       " 'estruturas': 2,\n",
       " 'zope': 3,\n",
       " 'esforço': 2,\n",
       " 'usando': 7,\n",
       " 'fato': 3,\n",
       " 'sdl': 2,\n",
       " 'léxico': 2,\n",
       " 'hierarquia': 1,\n",
       " 'lugar': 1,\n",
       " 'comunidade': 3,\n",
       " 'havia': 1,\n",
       " 'dinamicamente': 1,\n",
       " 'ganhou': 1,\n",
       " 'da': 95,\n",
       " 'v1': 1,\n",
       " 'termos': 3,\n",
       " 'a1lise': 4,\n",
       " 'tutorial': 1,\n",
       " 'gráficas': 3,\n",
       " '89': 1,\n",
       " 'package': 1,\n",
       " 'invented': 2,\n",
       " 'amk': 2,\n",
       " 'após': 1,\n",
       " '0282': 1,\n",
       " 'polimorfismo': 9,\n",
       " '5573': 1,\n",
       " 'muito': 2,\n",
       " 'pub': 1,\n",
       " 'lançada': 6,\n",
       " 'este': 4,\n",
       " 'diferencial': 1,\n",
       " '3': 71,\n",
       " 'compartilhador': 1,\n",
       " 'configurar': 1,\n",
       " 'enciclopédia': 1,\n",
       " 'ac': 18,\n",
       " 'encapsulamento': 5,\n",
       " 'interessante': 1,\n",
       " '2gl': 1,\n",
       " 'lançou': 3,\n",
       " 'confuso': 1,\n",
       " '84': 1,\n",
       " 'listas': 4,\n",
       " 'bcpl': 2,\n",
       " '18': 12,\n",
       " 'deed': 1,\n",
       " 'cnri': 5,\n",
       " 'quando': 3,\n",
       " 'execução': 7,\n",
       " 'l': 52,\n",
       " 'combinada': 2,\n",
       " 'macos': 4,\n",
       " 'simionato': 1,\n",
       " 'file': 1,\n",
       " 'livre': 7,\n",
       " 'medium': 1,\n",
       " 'b3': 4,\n",
       " 'mantido': 1,\n",
       " 'http': 52,\n",
       " 'checkout': 1,\n",
       " 'operacional': 7,\n",
       " 'wordmark': 2,\n",
       " 'lv': 1,\n",
       " 'informações': 2,\n",
       " 'especificada': 1,\n",
       " 'continuou': 1,\n",
       " 'material': 1,\n",
       " 'vindas': 2,\n",
       " 'programlama': 1,\n",
       " 'david': 1,\n",
       " 'search': 17,\n",
       " 'bem': 1,\n",
       " 'incluídas': 1,\n",
       " 'arquivo': 1,\n",
       " 'computerworld': 10,\n",
       " 'facto': 2,\n",
       " '2007': 12,\n",
       " 'wikipédia': 5,\n",
       " 'descarregar': 1,\n",
       " 'random': 2,\n",
       " 'sax': 2,\n",
       " 'microsoft': 3,\n",
       " 'developerresources': 1,\n",
       " 'concebido': 1,\n",
       " 'usa': 5,\n",
       " 'análise': 7,\n",
       " 'testa': 1,\n",
       " 'modificada': 1,\n",
       " 'várias': 4,\n",
       " 'dictator': 2,\n",
       " 'essa': 5,\n",
       " 'd8': 12,\n",
       " 'introduction': 2,\n",
       " 'atributos': 9,\n",
       " 'portuguesa': 2,\n",
       " 'programoz': 1,\n",
       " 'longo': 1,\n",
       " 'compreens': 1,\n",
       " 'desempenho': 4,\n",
       " 'adnia': 1,\n",
       " 'my': 1,\n",
       " 'hr': 1,\n",
       " 'aa': 36,\n",
       " 'passa': 1,\n",
       " '0007': 1,\n",
       " 'suportar': 1,\n",
       " 'usuários': 4,\n",
       " 'aragonés': 1,\n",
       " 'pregui': 1,\n",
       " 'do': 63,\n",
       " 'persist': 1,\n",
       " 'compartilha': 1,\n",
       " 'envolvem': 1,\n",
       " '94': 2,\n",
       " 'pela': 9,\n",
       " 'funcionalidades': 2,\n",
       " 'anexo': 15,\n",
       " 'nota': 2,\n",
       " 'it': 1,\n",
       " 'renomeada': 1,\n",
       " 'servidor': 6,\n",
       " 'vários': 2,\n",
       " 'rossum': 14,\n",
       " 'geralmente': 1,\n",
       " 'tão': 1,\n",
       " 'sistema': 19,\n",
       " 'pa': 1,\n",
       " 'sintaxe': 8,\n",
       " '2009': 1,\n",
       " 'a1rios': 1,\n",
       " 'styles': 1,\n",
       " 'arttitle': 1,\n",
       " 'tornaria': 1,\n",
       " 'colocando': 1,\n",
       " 'externas': 3,\n",
       " 'píton': 1,\n",
       " '6': 23,\n",
       " 'estendem': 1,\n",
       " 'computa': 17,\n",
       " 'tema': 1,\n",
       " 'mostrando': 1,\n",
       " 'newin': 2,\n",
       " 'cada': 3,\n",
       " 'identificar': 1,\n",
       " '2013': 2,\n",
       " 'usuário': 4,\n",
       " 'softimage': 2,\n",
       " 'privadas': 1,\n",
       " 'b0': 36,\n",
       " 'compilar': 2,\n",
       " 'desambiguação': 1,\n",
       " 'padronizados': 1,\n",
       " 'trechos': 1,\n",
       " 'além': 1,\n",
       " 'adicionadas': 2,\n",
       " 'youtube': 2,\n",
       " 'telefones': 1,\n",
       " 'chegar': 1,\n",
       " 'verificará': 1,\n",
       " 'específica': 1,\n",
       " 'partes': 3,\n",
       " 'compara': 1,\n",
       " 'error': 2,\n",
       " 'dedent': 4,\n",
       " 'manipulados': 1,\n",
       " 'facilidades': 1,\n",
       " 'google': 2,\n",
       " 'gl': 1,\n",
       " 'entanto': 1,\n",
       " 'importantes': 1,\n",
       " 'in': 8,\n",
       " 'news': 1,\n",
       " 'la': 2,\n",
       " '7522': 1,\n",
       " 'finally': 1,\n",
       " 'questões': 1,\n",
       " 'programmiersprache': 2,\n",
       " 'gtk2': 1,\n",
       " 'tim': 2,\n",
       " 'número': 3,\n",
       " 'classes': 16,\n",
       " 'conceito': 2,\n",
       " 'gu': 1,\n",
       " 'imagens': 1,\n",
       " 'scheme': 4,\n",
       " 'categoria': 12,\n",
       " 'd9': 12,\n",
       " 'hasattr': 1,\n",
       " 'inglesa': 40,\n",
       " 'pendentes': 1,\n",
       " 'break': 1,\n",
       " 'funcionar': 1,\n",
       " 'alguns': 5,\n",
       " '83': 22,\n",
       " 'pydev': 2,\n",
       " 'function': 2,\n",
       " 'seus': 2,\n",
       " 'scala': 4,\n",
       " 'aplicações': 9,\n",
       " 'bytecode': 10,\n",
       " 'by': 3,\n",
       " 'computação': 9,\n",
       " 'indonesia': 1,\n",
       " 'try': 5,\n",
       " 'atual': 2,\n",
       " 'terceira': 2,\n",
       " 'rotinas': 4,\n",
       " '9780596158118': 1,\n",
       " 'construções': 4,\n",
       " 'air': 2,\n",
       " 'custo': 2,\n",
       " 'basta': 1,\n",
       " 'mapeamento': 1,\n",
       " 'pp': 7,\n",
       " 'isbn': 7,\n",
       " 'prolog': 2,\n",
       " 'especializados': 1,\n",
       " 'snusp': 2,\n",
       " 'proteção': 1,\n",
       " 'archive': 2,\n",
       " 'verdadeiro': 1,\n",
       " 'valores': 2,\n",
       " 'já': 11,\n",
       " 'eletrônicos': 3,\n",
       " 'transparente': 1,\n",
       " 'roundup': 2,\n",
       " 'implementou': 1,\n",
       " 'mais': 17,\n",
       " 'a5k': 1,\n",
       " 'little': 1,\n",
       " 'wars': 2,\n",
       " 'propretário': 2,\n",
       " 'clause': 1,\n",
       " 'acnh': 1,\n",
       " 'liga': 1,\n",
       " 'manuais': 1,\n",
       " 'team': 2,\n",
       " 'be': 34,\n",
       " 'tl': 1,\n",
       " '30': 4,\n",
       " '97': 10,\n",
       " 'breaking': 1,\n",
       " 'sidebar': 1,\n",
       " 'outros': 6,\n",
       " 'visuais': 2,\n",
       " 'origem': 2,\n",
       " 'trabalha': 1,\n",
       " 'atributo': 6,\n",
       " 'meses': 1,\n",
       " 'define': 1,\n",
       " 'vs2008': 1,\n",
       " 'normalmente': 2,\n",
       " 'sendo': 4,\n",
       " 'permitir': 1,\n",
       " 'dict': 2,\n",
       " '1415927': 1,\n",
       " 'fabio': 1,\n",
       " '16': 7,\n",
       " 'são': 32,\n",
       " 'criar': 4,\n",
       " 'definidos': 4,\n",
       " 'was': 3,\n",
       " 'downey': 1,\n",
       " 'existir': 1,\n",
       " 'aberto': 2,\n",
       " 'pygtk': 4,\n",
       " 'jezik': 4,\n",
       " 'stani': 3,\n",
       " 'usada': 1,\n",
       " 'anteriores': 3,\n",
       " 'lixo': 2,\n",
       " 'bsd': 2,\n",
       " 'dicion': 1,\n",
       " 'programlingvo': 1,\n",
       " 'real': 1,\n",
       " 'computer': 2,\n",
       " 'input': 2,\n",
       " 'padrão': 16,\n",
       " 'afrikaans': 1,\n",
       " 'conectar': 2,\n",
       " 'velocidade': 2,\n",
       " 'symbian': 2,\n",
       " 'assinaturas': 1,\n",
       " 'context': 1,\n",
       " 'os': 32,\n",
       " 'why': 2,\n",
       " 'len': 2,\n",
       " 'reconhecerá': 1,\n",
       " 'squirrel': 2,\n",
       " 'módulos': 16,\n",
       " 'discuss': 1,\n",
       " 'bado': 3,\n",
       " 'gpl': 9,\n",
       " 'mudanças': 3,\n",
       " 'entre': 11,\n",
       " 'objetos': 20,\n",
       " 'programmeertaal': 2,\n",
       " 'pilgrim': 2,\n",
       " 'simples': 1,\n",
       " 'estrutura': 6,\n",
       " 'argumento2': 2,\n",
       " 's60': 2,\n",
       " 'erro': 6,\n",
       " 'relacionadas': 3,\n",
       " 'objeto': 13,\n",
       " 'sejam': 2,\n",
       " 'espaço': 1,\n",
       " 'brandl': 1,\n",
       " 'réptil': 1,\n",
       " 'c89': 2,\n",
       " 'tratar': 2,\n",
       " '93': 1,\n",
       " 'protocolos': 2,\n",
       " 'entretanto': 1,\n",
       " 'diminuição': 1,\n",
       " 'operadores': 7,\n",
       " 'receber': 1,\n",
       " 'iguais': 1,\n",
       " 'correlatos': 1,\n",
       " 'finalizados': 1,\n",
       " 'quanto': 2,\n",
       " '40719582': 4,\n",
       " 'boas': 2,\n",
       " 'awk': 4,\n",
       " 'studio': 3,\n",
       " 'têm': 2,\n",
       " 'everybody': 2,\n",
       " 'indent': 5,\n",
       " 'bloco': 2,\n",
       " 'orientadas': 3,\n",
       " 'capturam': 1,\n",
       " 'nomes': 1,\n",
       " 'definições': 1,\n",
       " 'chamado': 2,\n",
       " 'manuten': 1,\n",
       " 'interfaces': 4,\n",
       " 'str': 2,\n",
       " 'circus': 1,\n",
       " 'imprimir': 1,\n",
       " 'características': 3,\n",
       " 'technology': 1,\n",
       " 'hospedado': 1,\n",
       " 'sk': 1,\n",
       " 'km': 1,\n",
       " 'desenvolvido': 2,\n",
       " 'what': 3,\n",
       " 'library': 2,\n",
       " 's': 10,\n",
       " 'conduzido': 1,\n",
       " 'alt': 1,\n",
       " 'adses': 1,\n",
       " 'destacados': 2,\n",
       " 'grande': 4,\n",
       " 'a7osa': 1,\n",
       " 'constru': 1,\n",
       " 'legível': 1,\n",
       " 'changes': 1,\n",
       " 'caracter': 1,\n",
       " 'bamero': 2,\n",
       " 'doc': 2,\n",
       " '3gl': 1,\n",
       " 'necessidade': 3,\n",
       " 'pontuações': 1,\n",
       " 'lisp': 8,\n",
       " 'restante': 1,\n",
       " 'acessível': 1,\n",
       " 'application': 1,\n",
       " 'türkçe': 1,\n",
       " 'sobrecarregado': 1,\n",
       " 'propriedade': 1,\n",
       " '82': 7,\n",
       " '22': 11,\n",
       " 'note': 49,\n",
       " 'clarius': 1,\n",
       " 'significado': 1,\n",
       " 'instâncias': 1,\n",
       " 'interativamente': 1,\n",
       " '9c': 2,\n",
       " 'apesar': 1,\n",
       " 'whitespace': 2,\n",
       " 'programski': 4,\n",
       " 'herança': 3,\n",
       " 'parecido': 1,\n",
       " 'houve': 1,\n",
       " 'utiliza': 1,\n",
       " 'trabalho': 1,\n",
       " 'py': 3,\n",
       " 'gerado': 1,\n",
       " 'contém': 1,\n",
       " 'runtime': 1,\n",
       " 'ko': 1,\n",
       " 'galego': 1,\n",
       " 'hi': 1,\n",
       " 'foreword': 2,\n",
       " 'citações': 1,\n",
       " 'reflex': 1,\n",
       " 'intv': 1,\n",
       " 'alem': 1,\n",
       " 'mmm': 1,\n",
       " '300': 1,\n",
       " 'essays': 2,\n",
       " 'g': 3,\n",
       " 'números': 3,\n",
       " 'fácil': 4,\n",
       " 'haja': 1,\n",
       " 'requerida': 1,\n",
       " 'libraries': 1,\n",
       " 'dialetos': 1,\n",
       " 'influenciou': 1,\n",
       " 'style': 6,\n",
       " 'junção': 1,\n",
       " 'científica': 2,\n",
       " 'or': 4,\n",
       " 'openoffice': 2,\n",
       " 'entrar': 3,\n",
       " 'única': 1,\n",
       " 'retorna': 1,\n",
       " '224': 1,\n",
       " 'ref': 49,\n",
       " 'bosanski': 1,\n",
       " 'inform': 5,\n",
       " 'logging': 3,\n",
       " 'edição': 2,\n",
       " 'page': 1,\n",
       " 'máquina': 1,\n",
       " 'política': 1,\n",
       " 'linguagem': 93,\n",
       " 'uma': 49,\n",
       " '88': 6,\n",
       " 'dada': 1,\n",
       " 'pascal': 8,\n",
       " 'estavam': 2,\n",
       " 'w': 103,\n",
       " 'continue': 1,\n",
       " 'a1ficas': 1,\n",
       " 'ndice': 1,\n",
       " 'iniciativa': 1,\n",
       " 'groovy': 2,\n",
       " 'star': 2,\n",
       " 'subclasses': 1,\n",
       " 'colocados': 1,\n",
       " 'contrário': 1,\n",
       " 'separadas': 1,\n",
       " 'padrões': 1,\n",
       " 'scripts': 4,\n",
       " 'mesmo': 5,\n",
       " 'contato': 3,\n",
       " 'ney': 1,\n",
       " 'discussão': 5,\n",
       " 'enquanto': 3,\n",
       " 'recebem': 1,\n",
       " 'byte': 2,\n",
       " 'lbyl': 1,\n",
       " 'adveis': 1,\n",
       " '01': 1,\n",
       " '2147483648l': 1,\n",
       " 'bb': 2,\n",
       " 'incremento': 1,\n",
       " 'precisão': 1,\n",
       " '98': 8,\n",
       " 'falcon': 2,\n",
       " 'menu': 1,\n",
       " 'disponibilizados': 1,\n",
       " 'tipos': 15,\n",
       " 'pemrograman': 1,\n",
       " 'excessos': 1,\n",
       " 'programador': 4,\n",
       " 'ineficaz': 1,\n",
       " 'bd': 4,\n",
       " 'escopo': 3,\n",
       " 'líder': 1,\n",
       " 'ms': 1,\n",
       " 'fornecida': 1,\n",
       " 'avisos': 1,\n",
       " 'sq': 1,\n",
       " '9d': 3,\n",
       " '2003': 4,\n",
       " 'neste': 1,\n",
       " 'múltipla': 1,\n",
       " 'clausura': 1,\n",
       " 'grupo': 4,\n",
       " 'resolução': 1,\n",
       " 'recebendo': 2,\n",
       " 'organiza': 2,\n",
       " 'view': 2,\n",
       " 'gerenciador': 4,\n",
       " 'verificação': 1,\n",
       " 'definição': 1,\n",
       " 'maio': 7,\n",
       " 'inglês': 46,\n",
       " 'django': 2,\n",
       " 'sujeito': 1,\n",
       " 'projetos': 2,\n",
       " 'while': 5,\n",
       " 'influenciadas': 1,\n",
       " 'aumento': 1,\n",
       " 'mit': 2,\n",
       " 'sempre': 1,\n",
       " 'autodesk': 5,\n",
       " 'gerenciado': 1,\n",
       " 'quase': 1,\n",
       " 'consistentemente': 1,\n",
       " 'está': 6,\n",
       " 'a7as': 1,\n",
       " 'nessa': 2,\n",
       " 'fi': 1,\n",
       " 'is': 2,\n",
       " '1994': 3,\n",
       " 'quicksort': 2,\n",
       " 'yes': 1,\n",
       " 'delphi': 2,\n",
       " 'instalação': 1,\n",
       " 'powered': 1,\n",
       " 'concorrência': 1,\n",
       " 'coutinho': 1,\n",
       " 'the': 11,\n",
       " 'item': 1,\n",
       " 'com': 50,\n",
       " 'palmtops': 1,\n",
       " 'chamadas': 1,\n",
       " 'fantom': 2,\n",
       " 'vesection': 27,\n",
       " 'string': 4,\n",
       " 'exec': 1,\n",
       " 'estar': 1,\n",
       " '0636920027072': 1,\n",
       " 'pyo': 1,\n",
       " 'mapeamentos': 1,\n",
       " 'map': 1,\n",
       " 'future': 1,\n",
       " 'als': 1,\n",
       " 'frequentemente': 2,\n",
       " 'mark': 4,\n",
       " 'era': 5,\n",
       " 'das': 5,\n",
       " 'none': 1,\n",
       " 'gráficos': 2,\n",
       " 'metaclasse': 1,\n",
       " 'handle': 2,\n",
       " 'chamar': 1,\n",
       " 'construção': 5,\n",
       " 'ide': 8,\n",
       " 'initiative': 1,\n",
       " 'linguage': 1,\n",
       " 'esplanada': 2,\n",
       " 'algumas': 1,\n",
       " 'licenses': 1,\n",
       " 'segunda': 3,\n",
       " 'b': 11,\n",
       " 'novo': 3,\n",
       " '20': 8,\n",
       " 'caracteres': 13,\n",
       " 'invés': 2,\n",
       " 'delimitação': 1,\n",
       " 'variantes': 1,\n",
       " 'virg': 1,\n",
       " 'bridge': 1,\n",
       " 'filmes': 2,\n",
       " 'há': 9,\n",
       " 'poderosa': 1,\n",
       " 'a4': 44,\n",
       " 'compilada': 1,\n",
       " 'path': 2,\n",
       " 'wing': 2,\n",
       " 'swt': 1,\n",
       " '9f': 4,\n",
       " 'mas': 7,\n",
       " 'tornando': 2,\n",
       " 'seguinte': 1,\n",
       " 'b5es': 8,\n",
       " 'fornecer': 1,\n",
       " 'donativos': 1,\n",
       " 'evitar': 1,\n",
       " 'geradores': 2,\n",
       " 'codificação': 1,\n",
       " 'arquiteto': 1,\n",
       " 'busca': 1,\n",
       " 'order': 1,\n",
       " 'book': 1,\n",
       " 'cpython': 9,\n",
       " 'français': 1,\n",
       " 'pessoas': 1,\n",
       " '9781449330729': 1,\n",
       " 'refer': 1,\n",
       " 'tipagem': 3,\n",
       " 'sql': 4,\n",
       " 'nomeados': 1,\n",
       " 'escritos': 1,\n",
       " 'with': 2,\n",
       " 'ou': 20,\n",
       " 'd7': 6,\n",
       " '252': 1,\n",
       " 'acessar': 1,\n",
       " 'dili': 2,\n",
       " 'lançará': 1,\n",
       " 'tg': 1,\n",
       " 'pediu': 1,\n",
       " 'przemyslaw': 1,\n",
       " 'comando': 2,\n",
       " 'gerais': 2,\n",
       " 'cálculo': 1,\n",
       " 'compiladores': 2,\n",
       " 'crawler': 1,\n",
       " 'metaprograma': 1,\n",
       " 'estados': 2,\n",
       " '20070929122422': 1,\n",
       " 'interoperabilidade': 1,\n",
       " 'binários': 1,\n",
       " 'eric': 2,\n",
       " '29': 6,\n",
       " 'extraem': 1,\n",
       " 'nyelv': 1,\n",
       " 'história': 2,\n",
       " 'inexistente': 1,\n",
       " 'esot': 3,\n",
       " 'formatação': 1,\n",
       " 'ocultas': 1,\n",
       " 'desambigua': 1,\n",
       " 'disambig': 1,\n",
       " 'editor': 5,\n",
       " 'bf': 8,\n",
       " 'utm': 3,\n",
       " 'livro': 3,\n",
       " 'fontes': 7,\n",
       " 'portal': 5,\n",
       " 'entrevista': 4,\n",
       " 'bs': 1,\n",
       " 'influ': 6,\n",
       " 'consulte': 1,\n",
       " 'false': 5,\n",
       " 'considerar': 1,\n",
       " 'argumento1': 2,\n",
       " 'b4nicos': 2,\n",
       " 'forth': 2,\n",
       " 'manual': 4,\n",
       " '4493': 3,\n",
       " 'wiki': 661,\n",
       " 'download': 3,\n",
       " 'aleat': 1,\n",
       " 'projetada': 1,\n",
       " 'britânico': 1,\n",
       " 'langage': 1,\n",
       " 'convertido': 1,\n",
       " 'adda': 2,\n",
       " 'condições': 4,\n",
       " 'invalidar': 1,\n",
       " 'a1rio': 5,\n",
       " 'cinco': 1,\n",
       " 'devem': 2,\n",
       " 'escolhas': 1,\n",
       " 'alternativa': 2,\n",
       " 'computers': 1,\n",
       " 'nested': 1,\n",
       " 'gr': 5,\n",
       " '9fd': 1,\n",
       " 'especial': 19,\n",
       " 'expressividade': 1,\n",
       " 'bug': 1,\n",
       " 'extensão': 1,\n",
       " 'd': 7,\n",
       " 'contextualizados': 3,\n",
       " 'menos': 1,\n",
       " 'ja': 1,\n",
       " 'baseadas': 2,\n",
       " 'reduce': 1,\n",
       " 'monty': 4,\n",
       " 'executar': 1,\n",
       " 'tkinter': 4,\n",
       " 'auto': 1,\n",
       " 'editar': 57,\n",
       " 'focos': 1,\n",
       " 'pois': 2,\n",
       " 'formais': 1,\n",
       " 'documentação': 8,\n",
       " 'terminados': 1,\n",
       " 'gira': 2,\n",
       " 'interlingua': 1,\n",
       " 'categorias': 3,\n",
       " 'tcl': 4,\n",
       " 'remarks': 2,\n",
       " 'principais': 1,\n",
       " 'conhecida': 1,\n",
       " 'terceiros': 2,\n",
       " 'aparecer': 1,\n",
       " '333': 2,\n",
       " 'fpid': 1,\n",
       " '978': 7,\n",
       " 'pypy': 4,\n",
       " 'programming': 15,\n",
       " 'eclipse': 3,\n",
       " 'pygame': 2,\n",
       " 'termina': 1,\n",
       " 'tratam': 1,\n",
       " 'sobre': 7,\n",
       " 'realiza': 1,\n",
       " 'language': 9,\n",
       " 'ohjelmointikieli': 1,\n",
       " 'expressado': 1,\n",
       " 'linhas': 8,\n",
       " '0333': 1,\n",
       " 'u': 2,\n",
       " 'seguran': 1,\n",
       " 'beazley': 1,\n",
       " '31': 7,\n",
       " 'algoritmo': 1,\n",
       " 'dado': 10,\n",
       " 'regular': 1,\n",
       " 'heterogênea': 1,\n",
       " 'e1': 30,\n",
       " 'colaboração': 1,\n",
       " 'explicações': 1,\n",
       " 'for': 17,\n",
       " 'amplamente': 1,\n",
       " 'adsticas': 1,\n",
       " 'def': 6,\n",
       " 'financiado': 1,\n",
       " 'dive': 2,\n",
       " 'negociaram': 1,\n",
       " 'elif': 2,\n",
       " 'visitado': 36,\n",
       " 'a1': 3,\n",
       " 'estilo': 3,\n",
       " 'prevê': 1,\n",
       " 'conta': 3,\n",
       " '2001': 2,\n",
       " 'melhoria': 1,\n",
       " 'tarefas': 1,\n",
       " 'de': 534,\n",
       " 'zodb': 2,\n",
       " 'celulares': 2,\n",
       " 'magic': 3,\n",
       " 'desde': 4,\n",
       " 'espaços': 1,\n",
       " 'acima': 1,\n",
       " 'façam': 1,\n",
       " 'integração': 1,\n",
       " 'estava': 3,\n",
       " 'wax': 2,\n",
       " 'lo': 1,\n",
       " 'detlev': 1,\n",
       " 'wikip': 14,\n",
       " 'especificação': 2,\n",
       " 'ciclos': 1,\n",
       " 'independentes': 1,\n",
       " 'adicionado': 1,\n",
       " 'light': 3,\n",
       " 'metaclasses': 1,\n",
       " 'b3ria': 14,\n",
       " 'fp': 1,\n",
       " 'lua': 4,\n",
       " 'parâmetro': 3,\n",
       " 'limitado': 1,\n",
       " '4c': 1,\n",
       " 'development': 2,\n",
       " 'make': 1,\n",
       " 'unificados': 1,\n",
       " '2d': 1,\n",
       " '9e': 9,\n",
       " 'manutenção': 1,\n",
       " 'naomi': 1,\n",
       " 'spam': 4,\n",
       " 'final': 1,\n",
       " 'palm': 2,\n",
       " 'variável': 2,\n",
       " 'far': 1,\n",
       " 'respectivamente': 1,\n",
       " 'transfer': 1,\n",
       " 'of': 6,\n",
       " 'i': 5,\n",
       " '15810': 1,\n",
       " 'associação': 1,\n",
       " 'reino': 1,\n",
       " 'diveinto': 1,\n",
       " 'wsgi': 1,\n",
       " 'nacional': 1,\n",
       " 'az': 2,\n",
       " 'procedimento': 1,\n",
       " 'precise': 1,\n",
       " 'a9': 2,\n",
       " '360': 1,\n",
       " 'arquivos': 3,\n",
       " 'declarados': 1,\n",
       " 'hy': 1,\n",
       " 'x': 8,\n",
       " 'distribuídos': 2,\n",
       " 'creator': 1,\n",
       " 'produção': 1,\n",
       " '24': 6,\n",
       " 'public': 7,\n",
       " 'utilizado': 1,\n",
       " 'testar': 4,\n",
       " 'ml': 1,\n",
       " 'integrado': 6,\n",
       " 'perda': 2,\n",
       " 'substituindo': 1,\n",
       " 'may': 2,\n",
       " 'obtida': 1,\n",
       " 'lógicos': 2,\n",
       " 'emprestado': 1,\n",
       " 'eby': 1,\n",
       " 'início': 1,\n",
       " 'terminar': 1,\n",
       " '205182': 2,\n",
       " 'eliminadas': 1,\n",
       " 'fortran': 4,\n",
       " 'método': 7,\n",
       " 'sintática': 1,\n",
       " '2008': 35,\n",
       " '26': 7,\n",
       " 'b3digo': 10,\n",
       " 'incluem': 5,\n",
       " 'ed': 7,\n",
       " 'múltiplas': 3,\n",
       " 'processo': 1,\n",
       " 'marcar': 1,\n",
       " 'systems': 2,\n",
       " '9781430224150': 1,\n",
       " 'nl': 1,\n",
       " '6011': 1,\n",
       " 'eweek': 2,\n",
       " 'ec': 2,\n",
       " 'repeti': 1,\n",
       " 'dev': 8,\n",
       " 'ambos': 7,\n",
       " 'estilos': 1,\n",
       " 'org': 146,\n",
       " 'maior': 1,\n",
       " 'benevolent': 2,\n",
       " 'booleano': 3,\n",
       " 'ligação': 1,\n",
       " 'interface': 8,\n",
       " 'pippy': 2,\n",
       " 'instituto': 1,\n",
       " 'compilador': 7,\n",
       " 'primeiras': 1,\n",
       " 'v': 1,\n",
       " 'jones': 1,\n",
       " 'tornam': 1,\n",
       " 'thread': 2,\n",
       " 'object': 3,\n",
       " 'efeito': 1,\n",
       " 'flutuante': 2,\n",
       " 'a9rica': 2,\n",
       " 'vers': 3,\n",
       " 'universais': 1,\n",
       " 'recentemente': 1,\n",
       " 'slenska': 1,\n",
       " 'sua': 7,\n",
       " 'aspx': 1,\n",
       " 'artigos': 6,\n",
       " 'chamados': 1,\n",
       " 'bibliografia': 3,\n",
       " 'ham': 2,\n",
       " 'plattdüütsch': 1,\n",
       " 'c5': 1,\n",
       " '32': 4,\n",
       " 'to': 4,\n",
       " 'category': 4,\n",
       " 'ano': 2,\n",
       " 'compilado': 1,\n",
       " 'pys60': 2,\n",
       " 'computacional': 1,\n",
       " 'lj': 1,\n",
       " 'baixos': 2,\n",
       " 'naquele': 1,\n",
       " 'iorque': 2,\n",
       " 'platforma': 1,\n",
       " 'activestate': 3,\n",
       " 'català': 1,\n",
       " 'manipula': 1,\n",
       " 'return': 6,\n",
       " 'técnica': 2,\n",
       " 'about': 3,\n",
       " 'relacionais': 2,\n",
       " 'compatibilidade': 1,\n",
       " 'pyc': 1,\n",
       " 'celular': 1,\n",
       " 'bn': 1,\n",
       " 'licen': 4,\n",
       " ...}"
      ]
     },
     "execution_count": 46,
     "metadata": {},
     "output_type": "execute_result"
    }
   ],
   "source": [
    "dic"
   ]
  },
  {
   "cell_type": "code",
   "execution_count": 44,
   "metadata": {},
   "outputs": [],
   "source": [
    "from collections import Counter"
   ]
  },
  {
   "cell_type": "code",
   "execution_count": 45,
   "metadata": {},
   "outputs": [
    {
     "data": {
      "text/plain": [
       "[('wiki', 660),\n",
       " ('de', 533),\n",
       " ('C3', 443),\n",
       " ('Python', 338),\n",
       " ('E0', 174),\n",
       " ('em', 162),\n",
       " ('a', 156),\n",
       " ('org', 146),\n",
       " ('o', 137),\n",
       " ('A7', 131)]"
      ]
     },
     "execution_count": 45,
     "metadata": {},
     "output_type": "execute_result"
    }
   ],
   "source": [
    "freq2 = Counter(novo.split())\n",
    "freq2.most_common(10)"
   ]
  },
  {
   "cell_type": "code",
   "execution_count": 78,
   "metadata": {
    "collapsed": true
   },
   "outputs": [],
   "source": [
    "with open(\"test.txt\", \"a\") as myfile:\n",
    "    myfile.write(\"appended text\")"
   ]
  },
  {
   "cell_type": "markdown",
   "metadata": {},
   "source": [
    "#### Módulo Pickle"
   ]
  },
  {
   "cell_type": "markdown",
   "metadata": {},
   "source": [
    "O módulo pickle() permite converter qualquer objeto em Python para uma string de bytes."
   ]
  },
  {
   "cell_type": "code",
   "execution_count": 131,
   "metadata": {
    "collapsed": true
   },
   "outputs": [],
   "source": [
    "import pickle"
   ]
  },
  {
   "cell_type": "code",
   "execution_count": 132,
   "metadata": {},
   "outputs": [
    {
     "name": "stdout",
     "output_type": "stream",
     "text": [
      "b'\\x80\\x03]q\\x00(K\\x01K\\x02K\\x03X\\x06\\x00\\x00\\x00stringq\\x01K\\x04K\\x05\\x86q\\x02e.'\n"
     ]
    }
   ],
   "source": [
    "lista = [1,2,3, \"string\", (4,5)]\n",
    "p = pickle.dumps(lista)\n",
    "print(p)"
   ]
  },
  {
   "cell_type": "code",
   "execution_count": 133,
   "metadata": {},
   "outputs": [
    {
     "data": {
      "text/plain": [
       "bytes"
      ]
     },
     "execution_count": 133,
     "metadata": {},
     "output_type": "execute_result"
    }
   ],
   "source": [
    "type(p)"
   ]
  },
  {
   "cell_type": "code",
   "execution_count": 134,
   "metadata": {
    "collapsed": true
   },
   "outputs": [],
   "source": [
    "with open('minha lista.pkl', 'wb') as f:\n",
    "    pickle.dump(lista, f)"
   ]
  },
  {
   "cell_type": "code",
   "execution_count": 136,
   "metadata": {
    "collapsed": true
   },
   "outputs": [],
   "source": [
    "del(lista)"
   ]
  },
  {
   "cell_type": "code",
   "execution_count": 137,
   "metadata": {},
   "outputs": [
    {
     "ename": "NameError",
     "evalue": "name 'lista' is not defined",
     "output_type": "error",
     "traceback": [
      "\u001b[0;31m---------------------------------------------------------------------------\u001b[0m",
      "\u001b[0;31mNameError\u001b[0m                                 Traceback (most recent call last)",
      "\u001b[0;32m<ipython-input-137-72bb916e365c>\u001b[0m in \u001b[0;36m<module>\u001b[0;34m()\u001b[0m\n\u001b[0;32m----> 1\u001b[0;31m \u001b[0mlista\u001b[0m\u001b[0;34m\u001b[0m\u001b[0m\n\u001b[0m",
      "\u001b[0;31mNameError\u001b[0m: name 'lista' is not defined"
     ]
    }
   ],
   "source": [
    "lista"
   ]
  },
  {
   "cell_type": "code",
   "execution_count": 138,
   "metadata": {
    "collapsed": true
   },
   "outputs": [],
   "source": [
    "with open('minha lista.pkl', 'rb') as f:\n",
    "    lista = pickle.load(f)"
   ]
  },
  {
   "cell_type": "code",
   "execution_count": 139,
   "metadata": {},
   "outputs": [
    {
     "data": {
      "text/plain": [
       "[1, 2, 3, 'string', (4, 5)]"
      ]
     },
     "execution_count": 139,
     "metadata": {},
     "output_type": "execute_result"
    }
   ],
   "source": [
    "lista"
   ]
  },
  {
   "cell_type": "code",
   "execution_count": 149,
   "metadata": {},
   "outputs": [
    {
     "name": "stdout",
     "output_type": "stream",
     "text": [
      "<class 'int'>\n",
      "<class 'list'>\n",
      "<class 'tuple'>\n",
      "<class 'set'>\n",
      "<class 'function'>\n"
     ]
    }
   ],
   "source": [
    "a = 12\n",
    "b = ['uma', 'lista']\n",
    "c = ('uma','tupla')\n",
    "d = {1,2,4}\n",
    "\n",
    "def soma(x,y):\n",
    "    return x + y \n",
    "\n",
    "print(type(a))\n",
    "print(type(b))\n",
    "print(type(c))\n",
    "print(type(d))\n",
    "print(type(soma))"
   ]
  },
  {
   "cell_type": "code",
   "execution_count": 150,
   "metadata": {
    "collapsed": true
   },
   "outputs": [],
   "source": [
    "with open('meus_objetos.pkl', 'wb') as f:\n",
    "    pickle.dump((a,b,c,d), f)"
   ]
  },
  {
   "cell_type": "code",
   "execution_count": 151,
   "metadata": {
    "collapsed": true
   },
   "outputs": [],
   "source": [
    "del a\n",
    "del b\n",
    "del c\n",
    "del d\n",
    "del soma"
   ]
  },
  {
   "cell_type": "code",
   "execution_count": 152,
   "metadata": {},
   "outputs": [
    {
     "ename": "NameError",
     "evalue": "name 'a' is not defined",
     "output_type": "error",
     "traceback": [
      "\u001b[0;31m---------------------------------------------------------------------------\u001b[0m",
      "\u001b[0;31mNameError\u001b[0m                                 Traceback (most recent call last)",
      "\u001b[0;32m<ipython-input-152-0b54aa92f88c>\u001b[0m in \u001b[0;36m<module>\u001b[0;34m()\u001b[0m\n\u001b[0;32m----> 1\u001b[0;31m \u001b[0mprint\u001b[0m\u001b[0;34m(\u001b[0m\u001b[0mtype\u001b[0m\u001b[0;34m(\u001b[0m\u001b[0ma\u001b[0m\u001b[0;34m)\u001b[0m\u001b[0;34m)\u001b[0m\u001b[0;34m\u001b[0m\u001b[0m\n\u001b[0m\u001b[1;32m      2\u001b[0m \u001b[0mprint\u001b[0m\u001b[0;34m(\u001b[0m\u001b[0mtype\u001b[0m\u001b[0;34m(\u001b[0m\u001b[0mb\u001b[0m\u001b[0;34m)\u001b[0m\u001b[0;34m)\u001b[0m\u001b[0;34m\u001b[0m\u001b[0m\n\u001b[1;32m      3\u001b[0m \u001b[0mprint\u001b[0m\u001b[0;34m(\u001b[0m\u001b[0mtype\u001b[0m\u001b[0;34m(\u001b[0m\u001b[0mc\u001b[0m\u001b[0;34m)\u001b[0m\u001b[0;34m)\u001b[0m\u001b[0;34m\u001b[0m\u001b[0m\n\u001b[1;32m      4\u001b[0m \u001b[0mprint\u001b[0m\u001b[0;34m(\u001b[0m\u001b[0mtype\u001b[0m\u001b[0;34m(\u001b[0m\u001b[0md\u001b[0m\u001b[0;34m)\u001b[0m\u001b[0;34m)\u001b[0m\u001b[0;34m\u001b[0m\u001b[0m\n\u001b[1;32m      5\u001b[0m \u001b[0mprint\u001b[0m\u001b[0;34m(\u001b[0m\u001b[0mtype\u001b[0m\u001b[0;34m(\u001b[0m\u001b[0msoma\u001b[0m\u001b[0;34m)\u001b[0m\u001b[0;34m)\u001b[0m\u001b[0;34m\u001b[0m\u001b[0m\n",
      "\u001b[0;31mNameError\u001b[0m: name 'a' is not defined"
     ]
    }
   ],
   "source": [
    "print(type(a))\n",
    "print(type(b))\n",
    "print(type(c))\n",
    "print(type(d))\n",
    "print(type(soma))"
   ]
  },
  {
   "cell_type": "code",
   "execution_count": 154,
   "metadata": {
    "collapsed": true
   },
   "outputs": [],
   "source": [
    "with open('meus_objetos.pkl', 'rb') as f:\n",
    "    a,b,c,d = pickle.load(f)"
   ]
  },
  {
   "cell_type": "code",
   "execution_count": 155,
   "metadata": {},
   "outputs": [
    {
     "data": {
      "text/plain": [
       "12"
      ]
     },
     "execution_count": 155,
     "metadata": {},
     "output_type": "execute_result"
    }
   ],
   "source": [
    "a"
   ]
  },
  {
   "cell_type": "markdown",
   "metadata": {},
   "source": [
    "#### Módulo Collections"
   ]
  },
  {
   "cell_type": "code",
   "execution_count": 102,
   "metadata": {
    "collapsed": true
   },
   "outputs": [],
   "source": [
    "import collections"
   ]
  },
  {
   "cell_type": "code",
   "execution_count": 104,
   "metadata": {
    "collapsed": true
   },
   "outputs": [],
   "source": [
    "novo2 = novo.lower()\n",
    "lista2 = novo2.split()\n",
    "freqdist2 = collections.Counter(lista2)"
   ]
  },
  {
   "cell_type": "code",
   "execution_count": 108,
   "metadata": {},
   "outputs": [
    {
     "data": {
      "text/plain": [
       "[('de', 385),\n",
       " ('a', 166),\n",
       " ('*', 163),\n",
       " ('o', 159),\n",
       " ('em', 122),\n",
       " ('para', 121),\n",
       " ('e', 121),\n",
       " ('python', 121)]"
      ]
     },
     "execution_count": 108,
     "metadata": {},
     "output_type": "execute_result"
    }
   ],
   "source": [
    "freqdist2.most_common(8)"
   ]
  },
  {
   "cell_type": "code",
   "execution_count": 112,
   "metadata": {
    "collapsed": true
   },
   "outputs": [],
   "source": [
    "dc = {}\n",
    "dd = collections.defaultdict(list)"
   ]
  },
  {
   "cell_type": "code",
   "execution_count": 113,
   "metadata": {},
   "outputs": [
    {
     "ename": "KeyError",
     "evalue": "'casa'",
     "output_type": "error",
     "traceback": [
      "\u001b[1;31m\u001b[0m",
      "\u001b[1;31mKeyError\u001b[0mTraceback (most recent call last)",
      "\u001b[1;32m<ipython-input-113-ed28c6e98684>\u001b[0m in \u001b[0;36m<module>\u001b[1;34m()\u001b[0m\n\u001b[1;32m----> 1\u001b[1;33m \u001b[0mdc\u001b[0m\u001b[1;33m[\u001b[0m\u001b[1;34m'casa'\u001b[0m\u001b[1;33m]\u001b[0m\u001b[1;33m\u001b[0m\u001b[0m\n\u001b[0m",
      "\u001b[1;31mKeyError\u001b[0m: 'casa'"
     ]
    }
   ],
   "source": [
    "dc['casa']"
   ]
  },
  {
   "cell_type": "code",
   "execution_count": 114,
   "metadata": {},
   "outputs": [
    {
     "data": {
      "text/plain": [
       "[]"
      ]
     },
     "execution_count": 114,
     "metadata": {},
     "output_type": "execute_result"
    }
   ],
   "source": [
    "dd['casa']"
   ]
  },
  {
   "cell_type": "code",
   "execution_count": 115,
   "metadata": {},
   "outputs": [
    {
     "data": {
      "text/plain": [
       "defaultdict(list, {'casa': []})"
      ]
     },
     "execution_count": 115,
     "metadata": {},
     "output_type": "execute_result"
    }
   ],
   "source": [
    "dd"
   ]
  },
  {
   "cell_type": "raw",
   "metadata": {},
   "source": [
    ">>> from collections import deque\n",
    ">>> d = deque('ghi')                 # make a new deque with three items\n",
    ">>> for elem in d:                   # iterate over the deque's elements\n",
    "...     print(elem.upper())\n",
    "G\n",
    "H\n",
    "I\n",
    "\n",
    ">>> d.append('j')                    # add a new entry to the right side\n",
    ">>> d.appendleft('f')                # add a new entry to the left side\n",
    ">>> d                                # show the representation of the deque\n",
    "deque(['f', 'g', 'h', 'i', 'j'])\n",
    "\n",
    ">>> d.pop()                          # return and remove the rightmost item\n",
    "'j'\n",
    ">>> d.popleft()                      # return and remove the leftmost item\n",
    "'f'\n",
    ">>> list(d)                          # list the contents of the deque\n",
    "['g', 'h', 'i']\n",
    ">>> d[0]                             # peek at leftmost item\n",
    "'g'\n",
    ">>> d[-1]                            # peek at rightmost item\n",
    "'i'\n",
    "\n",
    ">>> list(reversed(d))                # list the contents of a deque in reverse\n",
    "['i', 'h', 'g']\n",
    ">>> 'h' in d                         # search the deque\n",
    "True\n",
    ">>> d.extend('jkl')                  # add multiple elements at once\n",
    ">>> d\n",
    "deque(['g', 'h', 'i', 'j', 'k', 'l'])\n",
    ">>> d.rotate(1)                      # right rotation\n",
    ">>> d\n",
    "deque(['l', 'g', 'h', 'i', 'j', 'k'])\n",
    ">>> d.rotate(-1)                     # left rotation\n",
    ">>> d\n",
    "deque(['g', 'h', 'i', 'j', 'k', 'l'])\n",
    "\n",
    ">>> deque(reversed(d))               # make a new deque in reverse order\n",
    "deque(['l', 'k', 'j', 'i', 'h', 'g'])\n",
    ">>> d.clear()                        # empty the deque\n",
    ">>> d.pop()                          # cannot pop from an empty deque\n",
    "Traceback (most recent call last):\n",
    "    File \"<pyshell#6>\", line 1, in -toplevel-\n",
    "        d.pop()\n",
    "IndexError: pop from an empty deque\n",
    "\n",
    ">>> d.extendleft('abc')              # extendleft() reverses the input order\n",
    ">>> d\n",
    "deque(['c', 'b', 'a'])"
   ]
  },
  {
   "cell_type": "markdown",
   "metadata": {},
   "source": [
    "#### Módulo Time"
   ]
  },
  {
   "cell_type": "code",
   "execution_count": 117,
   "metadata": {
    "collapsed": true
   },
   "outputs": [],
   "source": [
    "import time\n",
    "import random"
   ]
  },
  {
   "cell_type": "code",
   "execution_count": 118,
   "metadata": {},
   "outputs": [
    {
     "data": {
      "text/plain": [
       "1484329127.6182091"
      ]
     },
     "execution_count": 118,
     "metadata": {},
     "output_type": "execute_result"
    }
   ],
   "source": [
    "time.time()"
   ]
  },
  {
   "cell_type": "code",
   "execution_count": 119,
   "metadata": {},
   "outputs": [
    {
     "data": {
      "text/plain": [
       "1484329128.1693141"
      ]
     },
     "execution_count": 119,
     "metadata": {},
     "output_type": "execute_result"
    }
   ],
   "source": [
    "time.time()"
   ]
  },
  {
   "cell_type": "code",
   "execution_count": 120,
   "metadata": {},
   "outputs": [
    {
     "name": "stdout",
     "output_type": "stream",
     "text": [
      "M\n",
      "e\n",
      "u\n",
      " \n",
      "n\n",
      "o\n",
      "m\n",
      "e\n",
      " \n",
      "n\n"
     ]
    }
   ],
   "source": [
    "for letra in 'Meu nome não é Johnny'[0:10]:\n",
    "    print(letra)\n",
    "    time.sleep(random.randrange(10))"
   ]
  },
  {
   "cell_type": "code",
   "execution_count": 123,
   "metadata": {},
   "outputs": [
    {
     "name": "stdout",
     "output_type": "stream",
     "text": [
      "104857600000000000000000000\n",
      "1484329322.2570126\n",
      "5842587018385982521381124421\n",
      "1484329321.2570434\n",
      "341427877364219557396646723584\n",
      "1484329320.257066\n",
      "20880467999847912034355032910567\n",
      "1484329319.2570872\n",
      "1333735776850284124449081472843776\n",
      "1484329318.257109\n",
      "88817841970012523233890533447265625\n",
      "1484329317.2571294\n",
      "6156119580207157310796674288400203776\n",
      "1484329316.2571504\n",
      "443426488243037769948249630619149892803\n",
      "1484329315.257171\n",
      "33145523113253374862572728253364605812736\n",
      "1484329314.2571912\n",
      "2567686153161211134561828214731016126483469\n",
      "1484329313.2572129\n"
     ]
    }
   ],
   "source": [
    "x = time.time()\n",
    "for x in range(20,30):\n",
    "    print(x**x)\n",
    "    y = time.time()\n",
    "    tempo = y - x\n",
    "    print(tempo)"
   ]
  },
  {
   "cell_type": "code",
   "execution_count": 126,
   "metadata": {},
   "outputs": [
    {
     "data": {
      "text/plain": [
       "4"
      ]
     },
     "execution_count": 126,
     "metadata": {},
     "output_type": "execute_result"
    }
   ],
   "source": [
    "x = time.localtime()\n",
    "x.tm_wday"
   ]
  }
 ],
 "metadata": {
  "kernelspec": {
   "display_name": "Python 3",
   "language": "python",
   "name": "python3"
  },
  "language_info": {
   "codemirror_mode": {
    "name": "ipython",
    "version": 3
   },
   "file_extension": ".py",
   "mimetype": "text/x-python",
   "name": "python",
   "nbconvert_exporter": "python",
   "pygments_lexer": "ipython3",
   "version": "3.5.2"
  }
 },
 "nbformat": 4,
 "nbformat_minor": 2
}
